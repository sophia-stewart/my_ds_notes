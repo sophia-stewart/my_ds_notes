{
 "cells": [
  {
   "cell_type": "code",
   "execution_count": 1,
   "id": "62b15643",
   "metadata": {},
   "outputs": [
    {
     "name": "stdout",
     "output_type": "stream",
     "text": [
      "Please enter a day of the week:Tuesday\n",
      "The day is not Monday\n"
     ]
    }
   ],
   "source": [
    "user_input = input('Please enter a day of the week:')\n",
    "\n",
    "if user_input.lower() == 'monday':\n",
    "    print('The day is Monday')\n",
    "else:\n",
    "    print('The day is not Monday')"
   ]
  },
  {
   "cell_type": "code",
   "execution_count": 2,
   "id": "065dca7e",
   "metadata": {},
   "outputs": [
    {
     "name": "stdout",
     "output_type": "stream",
     "text": [
      "Please enter a day of the week:Monday\n",
      "The day is Monday\n"
     ]
    }
   ],
   "source": [
    "user_input = input('Please enter a day of the week:')\n",
    "\n",
    "if user_input.lower() == 'monday':\n",
    "    print('The day is Monday')\n",
    "else:\n",
    "    print('The day is not Monday')"
   ]
  },
  {
   "cell_type": "code",
   "execution_count": 3,
   "id": "249866dd",
   "metadata": {},
   "outputs": [
    {
     "name": "stdout",
     "output_type": "stream",
     "text": [
      "Please enter a day of the week:tuesday\n",
      "The day is a weekday\n"
     ]
    }
   ],
   "source": [
    "user_input = input('Please enter a day of the week:')\n",
    "if user_input.lower() in ['saturday', 'sunday']:\n",
    "    print('The day is a weekend')\n",
    "else:\n",
    "    print('The day is a weekday')"
   ]
  },
  {
   "cell_type": "code",
   "execution_count": 4,
   "id": "a23315f7",
   "metadata": {},
   "outputs": [
    {
     "name": "stdout",
     "output_type": "stream",
     "text": [
      "Please enter a day of the week:SunDay\n",
      "The day is a weekend\n"
     ]
    }
   ],
   "source": [
    "user_input = input('Please enter a day of the week:')\n",
    "if user_input.lower() in ['saturday', 'sunday']:\n",
    "    print('The day is a weekend')\n",
    "else:\n",
    "    print('The day is a weekday')"
   ]
  },
  {
   "cell_type": "code",
   "execution_count": 12,
   "id": "c5211ef6",
   "metadata": {},
   "outputs": [
    {
     "name": "stdout",
     "output_type": "stream",
     "text": [
      "Please enter a number:7\n",
      "7 x 1 = 7\n",
      "7 x 2 = 14\n",
      "7 x 3 = 21\n",
      "7 x 4 = 28\n",
      "7 x 5 = 35\n",
      "7 x 6 = 42\n",
      "7 x 7 = 49\n",
      "7 x 8 = 56\n",
      "7 x 9 = 63\n",
      "7 x 10 = 70\n"
     ]
    }
   ],
   "source": [
    "n = int(input('Please enter a number:'))\n",
    "for i in range(1, 11):\n",
    "    print(n, 'x', i, '=', (n*i))"
   ]
  },
  {
   "cell_type": "code",
   "execution_count": 1,
   "id": "5aba545f",
   "metadata": {},
   "outputs": [
    {
     "name": "stdout",
     "output_type": "stream",
     "text": [
      "Please enter an odd number between 1 and 50:3\n"
     ]
    }
   ],
   "source": [
    "user_num_input = input('Please enter an odd number between 1 and 50:')\n",
    "while user_num_input.isdigit() != True:\n",
    "    print('Invalid input')\n",
    "    user_num_input = input('Please enter an odd number between 1 and 50:')"
   ]
  },
  {
   "cell_type": "code",
   "execution_count": 2,
   "id": "7078d7af",
   "metadata": {},
   "outputs": [
    {
     "data": {
      "text/plain": [
       "7"
      ]
     },
     "execution_count": 2,
     "metadata": {},
     "output_type": "execute_result"
    }
   ],
   "source": [
    "3+4"
   ]
  },
  {
   "cell_type": "code",
   "execution_count": 3,
   "id": "8a99426c",
   "metadata": {},
   "outputs": [
    {
     "name": "stdout",
     "output_type": "stream",
     "text": [
      "Please enter an odd number between 1 and 50:three\n",
      "Invalid input\n",
      "Please enter an odd number between 1 and 50:2\n"
     ]
    }
   ],
   "source": [
    "user_num_input = input('Please enter an odd number between 1 and 50:')\n",
    "while user_num_input.isdigit() != True:\n",
    "    print('Invalid input')\n",
    "    user_num_input = input('Please enter an odd number between 1 and 50:')"
   ]
  },
  {
   "cell_type": "code",
   "execution_count": 14,
   "id": "6123f876",
   "metadata": {},
   "outputs": [
    {
     "name": "stdout",
     "output_type": "stream",
     "text": [
      "Please enter an odd number between 1 and 50:2\n"
     ]
    }
   ],
   "source": [
    "user_num_input = int(input('Please enter an odd number between 1 and 50:'))\n",
    "while str(user_num_input).isdigit() != True:\n",
    "    print('Invalid input')\n",
    "    user_num_input = input('Please enter an odd number between 1 and 50:')\n",
    "    if int(user_num_input) < 1:\n",
    "        print('Invalid input')\n",
    "        user_num_input = input('Please enter an odd number between 1 and 50:')\n",
    "    elif int(user_num_input) > 50:\n",
    "        print('Invalid input')\n",
    "        user_num_input = input('Please enter an odd number between 1 and 50:')\n",
    "    elif int(user_num_input) % 2 == 0:\n",
    "        print('Invalid input')\n",
    "        user_num_input = input('Please enter an odd number between 1 and 50:')\n",
    "    else:\n",
    "        break"
   ]
  },
  {
   "cell_type": "code",
   "execution_count": 21,
   "id": "1e728683",
   "metadata": {},
   "outputs": [
    {
     "name": "stdout",
     "output_type": "stream",
     "text": [
      "please enter the light colorblue\n"
     ]
    }
   ],
   "source": [
    "user_input = input('please enter the light color')"
   ]
  },
  {
   "cell_type": "code",
   "execution_count": 26,
   "id": "911901b9",
   "metadata": {},
   "outputs": [
    {
     "name": "stdout",
     "output_type": "stream",
     "text": [
      "blue is not a valid option\n",
      "please enter the light colorblue\n",
      "\n",
      "the users next choice was blue\n",
      "blue is not a valid option\n",
      "please enter the light colorred\n",
      "\n",
      "the users next choice was red\n"
     ]
    }
   ],
   "source": [
    "# make whlie loop that runs only if light color is red yellow or green\n",
    "\n",
    "while user_input not in ('green', 'yellow', 'red'):\n",
    "    print(f'{user_input} is not a valid option')\n",
    "    user_input = input('please enter the light color')\n",
    "    print()\n",
    "    print(f'the users next choice was {user_input}')"
   ]
  },
  {
   "cell_type": "code",
   "execution_count": 106,
   "id": "4418d259",
   "metadata": {},
   "outputs": [
    {
     "name": "stdout",
     "output_type": "stream",
     "text": [
      "Please enter an odd number between 1 and 50:4\n",
      "Invalid input\n",
      "Please enter an odd number between 1 and 50:2\n",
      "Invalid input\n",
      "Please enter an odd number between 1 and 50:2\n",
      "Invalid input\n",
      "Please enter an odd number between 1 and 50:3\n",
      "1\n",
      "5\n",
      "7\n",
      "9\n",
      "11\n",
      "13\n",
      "15\n",
      "17\n",
      "19\n",
      "21\n",
      "23\n",
      "25\n",
      "27\n",
      "29\n",
      "31\n",
      "33\n",
      "35\n",
      "37\n",
      "39\n",
      "41\n",
      "43\n",
      "45\n",
      "47\n",
      "49\n"
     ]
    }
   ],
   "source": [
    "user_num_input = input('Please enter an odd number between 1 and 50:')\n",
    "while int(user_num_input) not in range(1, 51, 2):\n",
    "    if user_num_input.isdigit() != True:\n",
    "        print('Invalid input')\n",
    "        user_num_input = input('Please enter an odd number between 1 and 50:')\n",
    "    print('Invalid input')\n",
    "    user_num_input = input('Please enter an odd number between 1 and 50:')\n",
    "for i in range(1, 51):\n",
    "    if i % 2 == 0:\n",
    "        continue\n",
    "    elif i == int(user_num_input):\n",
    "        continue\n",
    "    else:\n",
    "        print(i)"
   ]
  },
  {
   "cell_type": "code",
   "execution_count": 120,
   "id": "5f6fd4a2",
   "metadata": {},
   "outputs": [
    {
     "name": "stdout",
     "output_type": "stream",
     "text": [
      "Please enter an odd number between 1 and 50:3\n",
      "1\n",
      "5\n",
      "7\n",
      "9\n",
      "11\n",
      "13\n",
      "15\n",
      "17\n",
      "19\n",
      "21\n",
      "23\n",
      "25\n",
      "27\n",
      "29\n",
      "31\n",
      "33\n",
      "35\n",
      "37\n",
      "39\n",
      "41\n",
      "43\n",
      "45\n",
      "47\n",
      "49\n"
     ]
    }
   ],
   "source": [
    "user_num_input = input('Please enter an odd number between 1 and 50:')\n",
    "while user_num_input.isdigit() != True:\n",
    "    print('Invalid input')\n",
    "    user_num_input = input('Please enter an odd number between 1 and 50:')\n",
    "while int(user_num_input) not in range(1, 51, 2):\n",
    "    print('Invalid input')\n",
    "    user_num_input = input('Please enter an odd number between 1 and 50:')\n",
    "for i in range(1, 51):\n",
    "    if i % 2 == 0:\n",
    "        continue\n",
    "    elif i == int(user_num_input):\n",
    "        continue\n",
    "    else:\n",
    "        print(i)"
   ]
  },
  {
   "cell_type": "code",
   "execution_count": 131,
   "id": "f8de7121",
   "metadata": {},
   "outputs": [
    {
     "name": "stdout",
     "output_type": "stream",
     "text": [
      "Please enter an odd number between 1 and 50:45\n",
      "Here is an odd number: 1\n",
      "Here is an odd number: 3\n",
      "Here is an odd number: 5\n",
      "Here is an odd number: 7\n",
      "Here is an odd number: 9\n",
      "Here is an odd number: 11\n",
      "Here is an odd number: 13\n",
      "Here is an odd number: 15\n",
      "Here is an odd number: 17\n",
      "Here is an odd number: 19\n",
      "Here is an odd number: 21\n",
      "Here is an odd number: 23\n",
      "Here is an odd number: 25\n",
      "Here is an odd number: 27\n",
      "Here is an odd number: 29\n",
      "Here is an odd number: 31\n",
      "Here is an odd number: 33\n",
      "Here is an odd number: 35\n",
      "Here is an odd number: 37\n",
      "Here is an odd number: 39\n",
      "Here is an odd number: 41\n",
      "Here is an odd number: 43\n",
      "Here is an odd number: 47\n",
      "Here is an odd number: 49\n"
     ]
    }
   ],
   "source": [
    "user_num_input = input('Please enter an odd number between 1 and 50:')\n",
    "\n",
    "while True:\n",
    "    if user_num_input.isdigit() != True:\n",
    "        print('Invalid input')\n",
    "        user_num_input = input('Please enter an odd number between 1 and 50:')\n",
    "        continue\n",
    "    elif int(user_num_input) not in range(1, 51, 2):\n",
    "        print('Invalid input')\n",
    "        user_num_input = input('Please enter an odd number between 1 and 50:')\n",
    "    else: break\n",
    "for i in range(1, 51):\n",
    "    if i % 2 == 0:\n",
    "        continue\n",
    "    elif i == int(user_num_input):\n",
    "        continue\n",
    "    else:\n",
    "        print('Here is an odd number:', i)"
   ]
  },
  {
   "cell_type": "code",
   "execution_count": 132,
   "id": "f77f2785",
   "metadata": {},
   "outputs": [
    {
     "name": "stdout",
     "output_type": "stream",
     "text": [
      "Please enter a number between 1 and 50: 79\n",
      "Invalid input\n",
      "Please enter a number between 1 and 50:four\n",
      "Invalid input\n",
      "Please enter a number between 1 and 50:0\n",
      "Invalid input\n",
      "Please enter a number between 1 and 50:7\n",
      "0\n",
      "1\n",
      "2\n",
      "3\n",
      "4\n",
      "5\n",
      "6\n",
      "7\n"
     ]
    }
   ],
   "source": [
    "user_pos_input = input('Please enter a number between 1 and 50: ')\n",
    "while True:\n",
    "    if user_pos_input.isdigit() != True:\n",
    "        print('Invalid input')\n",
    "        user_pos_input = input('Please enter a number between 1 and 50:')\n",
    "        continue\n",
    "    elif int(user_pos_input) <= 0:\n",
    "        print('Invalid input')\n",
    "        user_pos_input = input('Please enter a number between 1 and 50:')\n",
    "    elif int(user_pos_input) > 50:\n",
    "        print('Invalid input')\n",
    "        user_pos_input = input('Please enter a number between 1 and 50:')\n",
    "    else:\n",
    "        break\n",
    "for n in range(-1, int(user_pos_input)):\n",
    "    n = n + 1\n",
    "    print(n)"
   ]
  },
  {
   "cell_type": "code",
   "execution_count": 133,
   "id": "903a189e",
   "metadata": {},
   "outputs": [],
   "source": [
    "# Write a program that prompts the user for a positive integer. \n",
    "# Next write a loop that prints out the numbers from the number the user entered down to 1."
   ]
  },
  {
   "cell_type": "code",
   "execution_count": 150,
   "id": "67d2a777",
   "metadata": {},
   "outputs": [
    {
     "name": "stdout",
     "output_type": "stream",
     "text": [
      "Please enter a positive integer: 7\n",
      "7\n",
      "6\n",
      "5\n",
      "4\n",
      "3\n",
      "2\n",
      "1\n"
     ]
    }
   ],
   "source": [
    "user_pos_input = input('Please enter a positive integer: ')\n",
    "while True:\n",
    "    if user_pos_input.isdigit() != True:\n",
    "        print('Invalid input')\n",
    "        user_pos_input = input('Please enter a positive integer: ')\n",
    "        continue\n",
    "    elif int(user_pos_input) <= 0:\n",
    "        print('Invalid input')\n",
    "        user_pos_input = input('Please enter a positive integer: ')\n",
    "    else:\n",
    "        break\n",
    "for n in range(0, int(user_pos_input)):\n",
    "    n = int(user_pos_input) - n\n",
    "    print(n)"
   ]
  },
  {
   "cell_type": "code",
   "execution_count": 151,
   "id": "d57b7a61",
   "metadata": {},
   "outputs": [],
   "source": [
    "# Display a table of powers.\n",
    "#   - Prompt the user to enter an integer.\n",
    "#   - Display a table of squares and cubes from 1 to the value entered.\n",
    "#   - Ask if the user wants to continue.\n",
    "#   - Assume that the user will enter valid data.\n",
    "#   - Only continue if the user agrees to."
   ]
  },
  {
   "cell_type": "code",
   "execution_count": 354,
   "id": "ea4b7b2b",
   "metadata": {},
   "outputs": [
    {
     "name": "stdout",
     "output_type": "stream",
     "text": [
      "Please enter an integer: 2\n",
      "Would you like to see its powers? y/n y\n",
      "\n",
      "Here they are!\n",
      "\n",
      "Number|\tSquare|\tCube\n",
      "------|\t------|\t----\n",
      "     1|\t     1|\t   1\n",
      "     2|\t     4|\t   8\n"
     ]
    }
   ],
   "source": [
    "sq_input = input('Please enter an integer: ')\n",
    "y_n_input = input('Would you like to see its powers? y/n ')\n",
    "if y_n_input.lower() == 'y':\n",
    "    print('\\nHere they are!\\n')\n",
    "    print(f'Number|\\tSquare|\\tCube')\n",
    "    print(f'------|\\t------|\\t----')\n",
    "    for n in range(1, int(sq_input) + 1):\n",
    "        print(f'{n:6}|\\t{(n ** 2):6}|\\t{(n ** 3):4}')"
   ]
  },
  {
   "cell_type": "code",
   "execution_count": 223,
   "id": "d960b70b",
   "metadata": {},
   "outputs": [
    {
     "name": "stdout",
     "output_type": "stream",
     "text": [
      "Please enter a grade (1-100)95\n",
      "Would you like to continue? Y/N y\n",
      "A\n"
     ]
    }
   ],
   "source": [
    "grade_input = input('Please enter a grade (1-100)')\n",
    "cont_input = input('Would you like to continue? Y/N ')\n",
    "while cont_input.upper() == 'Y':\n",
    "    if int(grade_input) in range(0, 60):\n",
    "        print('F')\n",
    "    elif int(grade_input) in range(60, 67):\n",
    "        print('D')\n",
    "    elif int(grade_input) in range(67, 80):\n",
    "        print('C')\n",
    "    elif int(grade_input) in range(80, 88):\n",
    "        print('B')\n",
    "    else:\n",
    "        print('A')\n",
    "    break"
   ]
  },
  {
   "cell_type": "code",
   "execution_count": 228,
   "id": "7f990c93",
   "metadata": {},
   "outputs": [
    {
     "name": "stdout",
     "output_type": "stream",
     "text": [
      "Please enter a grade (0-100)89\n",
      "Would you like to continue? Y/N y\n",
      "A-\n"
     ]
    }
   ],
   "source": [
    "grade_input = input('Please enter a grade (0-100)')\n",
    "cont_input = input('Would you like to continue? Y/N ')\n",
    "while cont_input.upper() == 'Y':\n",
    "    if int(grade_input) in range(0, 60):\n",
    "        if int(grade_input) in range(0, 2):\n",
    "            print('F-')\n",
    "        elif int(grade_input) in range(58,60):\n",
    "            print('F+')\n",
    "        else:\n",
    "            print('F')\n",
    "        break\n",
    "    elif int(grade_input) in range(60, 67):\n",
    "        if int(grade_input) in range(60, 62):\n",
    "            print('D-')\n",
    "        elif int(grade_input) in range(65,67):\n",
    "            print('D+')\n",
    "        else:\n",
    "            print('D')\n",
    "        break\n",
    "    elif int(grade_input) in range(67, 80):\n",
    "        if int(grade_input) in range(67, 69):\n",
    "            print('C-')\n",
    "        elif int(grade_input) in range(78,80):\n",
    "            print('C+')\n",
    "        else:\n",
    "            print('C')\n",
    "        break\n",
    "    elif int(grade_input) in range(80, 88):\n",
    "        if int(grade_input) in range(80, 82):\n",
    "            print('B-')\n",
    "        elif int(grade_input) in range(86,88):\n",
    "            print('B+')\n",
    "        else:\n",
    "            print('B')\n",
    "        break\n",
    "    else:\n",
    "        if int(grade_input) in range(88, 90):\n",
    "            print('A-')\n",
    "        elif int(grade_input) in range(99,101):\n",
    "            print('A+')\n",
    "        else:\n",
    "            print('A')\n",
    "        break"
   ]
  },
  {
   "cell_type": "code",
   "execution_count": 365,
   "id": "dc7c68f3",
   "metadata": {},
   "outputs": [
    {
     "name": "stdout",
     "output_type": "stream",
     "text": [
      "Title:  The Hitchhiker's Guide to the Galaxy \n",
      "Author:  Douglas Adams \n",
      "Genres:  ['science fiction', 'comedy'] \n",
      "\n",
      "Title:  Wuthering Heights \n",
      "Author:  Emily Bronte \n",
      "Genres:  ['romance', 'tragedy'] \n",
      "\n",
      "Title:  Dracula \n",
      "Author:  Bram Stoker \n",
      "Genres:  ['horror', 'gothic fiction'] \n",
      "\n",
      "Title:  Frankenstein \n",
      "Author:  Mary Shelley \n",
      "Genres:  ['horror', 'science fiction', 'gothic fiction', 'tragedy'] \n",
      "\n",
      "\n",
      "Please enter a book genre: romance\n",
      "Romance book(s): ['Wuthering Heights']\n"
     ]
    }
   ],
   "source": [
    "book1 = dict(title = 'The Hitchhiker\\'s Guide to the Galaxy', \n",
    "             author = 'Douglas Adams', \n",
    "             genre = ['science fiction', 'comedy'])\n",
    "book2 = dict(title = 'Wuthering Heights',\n",
    "             author = 'Emily Bronte',\n",
    "             genre = ['romance', 'tragedy'])\n",
    "book3 = dict(title = 'Dracula',\n",
    "             author = 'Bram Stoker',\n",
    "             genre = ['horror', 'gothic fiction'])\n",
    "book4 = dict(title = 'Frankenstein',\n",
    "             author = 'Mary Shelley',\n",
    "             genre = ['horror', 'science fiction', 'gothic fiction', 'tragedy'])\n",
    "fiction_books = [book1, book2, book3, book4]\n",
    "for book in fiction_books:\n",
    "    print('Title: ',book['title'], '\\nAuthor: ',book['author'], '\\nGenres: ',book['genre'],'\\n')\n",
    "print()\n",
    "genre_input = input('Please enter a book genre: ')\n",
    "titles = [book['title'] for book in fiction_books if genre_input.lower() in book['genre']]\n",
    "print(f'{genre_input.title()} book(s):', titles)"
   ]
  },
  {
   "cell_type": "code",
   "execution_count": 388,
   "id": "0b86064e",
   "metadata": {},
   "outputs": [
    {
     "name": "stdout",
     "output_type": "stream",
     "text": [
      "Title:  The Hitchhiker's Guide to the Galaxy \n",
      "Author:  Douglas Adams \n",
      "Genres:  ['science fiction', 'comedy'] \n",
      "\n",
      "Title:  Wuthering Heights \n",
      "Author:  Emily Bronte \n",
      "Genres:  ['romance', 'tragedy'] \n",
      "\n",
      "Title:  Dracula \n",
      "Author:  Bram Stoker \n",
      "Genres:  ['horror', 'gothic fiction'] \n",
      "\n",
      "Title:  Frankenstein \n",
      "Author:  Mary Shelley \n",
      "Genres:  ['horror', 'science fiction', 'gothic fiction', 'tragedy'] \n",
      "\n",
      "\n",
      "Please enter a book genre: romance\n",
      "Romance book(s): Wuthering Heights\n"
     ]
    }
   ],
   "source": [
    "book1 = dict(title = 'The Hitchhiker\\'s Guide to the Galaxy', \n",
    "             author = 'Douglas Adams', \n",
    "             genre = ['science fiction', 'comedy'])\n",
    "book2 = dict(title = 'Wuthering Heights',\n",
    "             author = 'Emily Bronte',\n",
    "             genre = ['romance', 'tragedy'])\n",
    "book3 = dict(title = 'Dracula',\n",
    "             author = 'Bram Stoker',\n",
    "             genre = ['horror', 'gothic fiction'])\n",
    "book4 = dict(title = 'Frankenstein',\n",
    "             author = 'Mary Shelley',\n",
    "             genre = ['horror', 'science fiction', 'gothic fiction', 'tragedy'])\n",
    "fiction_books = [book1, book2, book3, book4]\n",
    "for book in fiction_books:\n",
    "    print('Title: ',book['title'], '\\nAuthor: ',book['author'], '\\nGenres: ',book['genre'],'\\n')\n",
    "print()\n",
    "genre_input = input('Please enter a book genre: ')\n",
    "for book in fiction_books:\n",
    "    if genre_input.lower() in book['genre']:\n",
    "        print(f'{genre_input.title()} book(s):', book['title'])"
   ]
  },
  {
   "cell_type": "code",
   "execution_count": null,
   "id": "ba3d8171",
   "metadata": {},
   "outputs": [],
   "source": []
  }
 ],
 "metadata": {
  "kernelspec": {
   "display_name": "Python 3",
   "language": "python",
   "name": "python3"
  },
  "language_info": {
   "codemirror_mode": {
    "name": "ipython",
    "version": 3
   },
   "file_extension": ".py",
   "mimetype": "text/x-python",
   "name": "python",
   "nbconvert_exporter": "python",
   "pygments_lexer": "ipython3",
   "version": "3.8.8"
  }
 },
 "nbformat": 4,
 "nbformat_minor": 5
}

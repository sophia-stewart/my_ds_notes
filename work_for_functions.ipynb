{
 "cells": [
  {
   "cell_type": "code",
   "execution_count": 59,
   "id": "35e0a612",
   "metadata": {},
   "outputs": [],
   "source": [
    "def is_two(t):\n",
    "    if t in [2, '2']:\n",
    "        return True\n",
    "    else:\n",
    "        return False"
   ]
  },
  {
   "cell_type": "code",
   "execution_count": 60,
   "id": "47da9993",
   "metadata": {},
   "outputs": [
    {
     "data": {
      "text/plain": [
       "False"
      ]
     },
     "execution_count": 60,
     "metadata": {},
     "output_type": "execute_result"
    }
   ],
   "source": [
    "is_two(3)"
   ]
  },
  {
   "cell_type": "code",
   "execution_count": 61,
   "id": "ffe9193d",
   "metadata": {},
   "outputs": [
    {
     "data": {
      "text/plain": [
       "True"
      ]
     },
     "execution_count": 61,
     "metadata": {},
     "output_type": "execute_result"
    }
   ],
   "source": [
    "is_two(2)"
   ]
  },
  {
   "cell_type": "code",
   "execution_count": 62,
   "id": "25a51113",
   "metadata": {},
   "outputs": [
    {
     "data": {
      "text/plain": [
       "True"
      ]
     },
     "execution_count": 62,
     "metadata": {},
     "output_type": "execute_result"
    }
   ],
   "source": [
    "is_two('2')"
   ]
  },
  {
   "cell_type": "code",
   "execution_count": 63,
   "id": "2044a514",
   "metadata": {},
   "outputs": [],
   "source": [
    "def is_vowel(string):\n",
    "    if string.lower() in ['a', 'e', 'i', 'o', 'u']:\n",
    "        return True\n",
    "    else:\n",
    "        return False"
   ]
  },
  {
   "cell_type": "code",
   "execution_count": 64,
   "id": "01982424",
   "metadata": {},
   "outputs": [
    {
     "name": "stdout",
     "output_type": "stream",
     "text": [
      "True\n",
      "False\n",
      "False\n"
     ]
    }
   ],
   "source": [
    "print(is_vowel('A'))\n",
    "print(is_vowel('y'))\n",
    "print(is_vowel('P'))"
   ]
  },
  {
   "cell_type": "code",
   "execution_count": 65,
   "id": "83b4379e",
   "metadata": {},
   "outputs": [
    {
     "name": "stdout",
     "output_type": "stream",
     "text": [
      "False\n",
      "True\n",
      "False\n"
     ]
    }
   ],
   "source": [
    "def is_consonant(string):\n",
    "    if is_vowel(string) == False:\n",
    "        return True\n",
    "    else:\n",
    "        return False\n",
    "print(is_consonant('a'))\n",
    "print(is_consonant('l'))\n",
    "print(is_consonant('i'))"
   ]
  },
  {
   "cell_type": "code",
   "execution_count": 66,
   "id": "bdbd708b",
   "metadata": {},
   "outputs": [
    {
     "data": {
      "text/plain": [
       "'ants'"
      ]
     },
     "execution_count": 66,
     "metadata": {},
     "output_type": "execute_result"
    }
   ],
   "source": [
    "def capitalized_if_consonant(word):\n",
    "    if is_consonant(word[0]) == True:\n",
    "        return word.capitalize()\n",
    "    else:\n",
    "        return word\n",
    "capitalized_if_consonant('ants')"
   ]
  },
  {
   "cell_type": "code",
   "execution_count": 67,
   "id": "323a45be",
   "metadata": {},
   "outputs": [
    {
     "data": {
      "text/plain": [
       "'Tip this much: $29.12'"
      ]
     },
     "execution_count": 67,
     "metadata": {},
     "output_type": "execute_result"
    }
   ],
   "source": [
    "def calculate_tip(tip_percentage, bill_total):\n",
    "    tip_amount = round(tip_percentage * bill_total, 2)\n",
    "    return f'Tip this much: ${tip_amount}'\n",
    "calculate_tip(0.28, 104)"
   ]
  },
  {
   "cell_type": "code",
   "execution_count": 68,
   "id": "cf189d32",
   "metadata": {},
   "outputs": [
    {
     "data": {
      "text/plain": [
       "'The discounted price is: $1644.79'"
      ]
     },
     "execution_count": 68,
     "metadata": {},
     "output_type": "execute_result"
    }
   ],
   "source": [
    "def apply_discount(og_price, discount_percentage):\n",
    "    price_after_discount = round(og_price - (og_price * discount_percentage), 2)\n",
    "    return f'The discounted price is: ${price_after_discount}'\n",
    "apply_discount(110, 0.25)\n",
    "apply_discount(16, 0.08)\n",
    "apply_discount(1999.99, .1776)\n"
   ]
  },
  {
   "cell_type": "code",
   "execution_count": 69,
   "id": "050e0ae3",
   "metadata": {},
   "outputs": [
    {
     "data": {
      "text/plain": [
       "9542126038"
      ]
     },
     "execution_count": 69,
     "metadata": {},
     "output_type": "execute_result"
    }
   ],
   "source": [
    "def handle_commas(string):\n",
    "    string_without_commas =  string.replace(',', '')\n",
    "    return int(string_without_commas)\n",
    "handle_commas('1,000')\n",
    "handle_commas('1,000,354')\n",
    "handle_commas('9,542,126,038')"
   ]
  },
  {
   "cell_type": "code",
   "execution_count": 70,
   "id": "261ba06e",
   "metadata": {},
   "outputs": [
    {
     "data": {
      "text/plain": [
       "'F'"
      ]
     },
     "execution_count": 70,
     "metadata": {},
     "output_type": "execute_result"
    }
   ],
   "source": [
    "def get_letter_grade(num_grade):\n",
    "    if num_grade >= 90:\n",
    "        return 'A'\n",
    "    elif 80 <= num_grade < 90:\n",
    "        return 'B'\n",
    "    elif 70 <= num_grade < 80:\n",
    "        return 'C'\n",
    "    elif 60 <= num_grade < 70:\n",
    "        return 'D'\n",
    "    else:\n",
    "        return 'F'\n",
    "get_letter_grade(90)\n",
    "get_letter_grade(84)\n",
    "get_letter_grade(27)"
   ]
  },
  {
   "cell_type": "code",
   "execution_count": 159,
   "id": "b402d215",
   "metadata": {},
   "outputs": [
    {
     "data": {
      "text/plain": [
       "'mndrn rng'"
      ]
     },
     "execution_count": 159,
     "metadata": {},
     "output_type": "execute_result"
    }
   ],
   "source": [
    "def remove_vowels(string):\n",
    "    vowels = ['a', 'e', 'i', 'o', 'u']\n",
    "    no_vowel_list = [letter for letter in string if letter.lower() not in vowels]\n",
    "    return ''.join(no_vowel_list)\n",
    "remove_vowels('banana')\n",
    "remove_vowels('Codeup')\n",
    "remove_vowels('mandarin orange')"
   ]
  },
  {
   "cell_type": "code",
   "execution_count": 327,
   "id": "51e90868",
   "metadata": {},
   "outputs": [
    {
     "name": "stdout",
     "output_type": "stream",
     "text": [
      "name\n",
      "first_name\n",
      "completed\n",
      "hello_to_you\n",
      "That is a python keyword, please try again!\n"
     ]
    }
   ],
   "source": [
    "import keyword\n",
    "def normalize_name(string):\n",
    "    new_string = string.strip().replace(' ', '_')\n",
    "    listed = [letter for letter in new_string if letter.isalpha() or letter.isdigit() or letter == '_']\n",
    "    newer_string = ''.join(listed)\n",
    "    while newer_string[0].isalpha() == False:\n",
    "        newer_string = newer_string[1:]\n",
    "    if newer_string in keyword.kwlist:\n",
    "        return 'That is a python keyword, please try again!'\n",
    "    else:\n",
    "        return newer_string.lower()\n",
    "print(normalize_name('Name'))\n",
    "print(normalize_name('First Name'))\n",
    "print(normalize_name('% Completed'))\n",
    "print(normalize_name('  123 hello to you '))\n",
    "print(normalize_name('% False '))"
   ]
  },
  {
   "cell_type": "code",
   "execution_count": 234,
   "id": "77708cba",
   "metadata": {},
   "outputs": [
    {
     "data": {
      "text/plain": [
       "[2, 6, 12]"
      ]
     },
     "execution_count": 234,
     "metadata": {},
     "output_type": "execute_result"
    }
   ],
   "source": [
    "def cumulative_sum(list):\n",
    "    s = 0\n",
    "    cumulative_list = []\n",
    "    for i in list:\n",
    "        s = s + i\n",
    "        cumulative_list.append(s)\n",
    "    return cumulative_list\n",
    "cumulative_sum([1, 1, 1])\n",
    "cumulative_sum([1, 2, 3])\n",
    "cumulative_sum([2, 4, 6])"
   ]
  },
  {
   "cell_type": "code",
   "execution_count": 318,
   "id": "1936a2e3",
   "metadata": {},
   "outputs": [
    {
     "ename": "ValueError",
     "evalue": "empty separator",
     "output_type": "error",
     "traceback": [
      "\u001b[0;31m---------------------------------------------------------------------------\u001b[0m",
      "\u001b[0;31mValueError\u001b[0m                                Traceback (most recent call last)",
      "\u001b[0;32m<ipython-input-318-2029f468b010>\u001b[0m in \u001b[0;36m<module>\u001b[0;34m\u001b[0m\n\u001b[1;32m     31\u001b[0m         \u001b[0;32mreturn\u001b[0m \u001b[0mstring\u001b[0m\u001b[0;34m\u001b[0m\u001b[0;34m\u001b[0m\u001b[0m\n\u001b[1;32m     32\u001b[0m     \u001b[0;32mreturn\u001b[0m \u001b[0mnew_string\u001b[0m\u001b[0;34m\u001b[0m\u001b[0;34m\u001b[0m\u001b[0m\n\u001b[0;32m---> 33\u001b[0;31m \u001b[0mprint\u001b[0m\u001b[0;34m(\u001b[0m\u001b[0mtwentyfourto12\u001b[0m\u001b[0;34m(\u001b[0m\u001b[0;34m'02:45'\u001b[0m\u001b[0;34m)\u001b[0m\u001b[0;34m)\u001b[0m\u001b[0;34m\u001b[0m\u001b[0;34m\u001b[0m\u001b[0m\n\u001b[0m\u001b[1;32m     34\u001b[0m \u001b[0mprint\u001b[0m\u001b[0;34m(\u001b[0m\u001b[0mtwentyfourto12\u001b[0m\u001b[0;34m(\u001b[0m\u001b[0;34m'22:45'\u001b[0m\u001b[0;34m)\u001b[0m\u001b[0;34m)\u001b[0m\u001b[0;34m\u001b[0m\u001b[0;34m\u001b[0m\u001b[0m\n",
      "\u001b[0;32m<ipython-input-318-2029f468b010>\u001b[0m in \u001b[0;36mtwentyfourto12\u001b[0;34m(string)\u001b[0m\n\u001b[1;32m     17\u001b[0m \u001b[0;34m\u001b[0m\u001b[0m\n\u001b[1;32m     18\u001b[0m \u001b[0;32mdef\u001b[0m \u001b[0mtwentyfourto12\u001b[0m\u001b[0;34m(\u001b[0m\u001b[0mstring\u001b[0m\u001b[0;34m)\u001b[0m\u001b[0;34m:\u001b[0m\u001b[0;34m\u001b[0m\u001b[0;34m\u001b[0m\u001b[0m\n\u001b[0;32m---> 19\u001b[0;31m     \u001b[0mlisted_time\u001b[0m \u001b[0;34m=\u001b[0m \u001b[0mstring\u001b[0m\u001b[0;34m.\u001b[0m\u001b[0msplit\u001b[0m\u001b[0;34m(\u001b[0m\u001b[0;34m''\u001b[0m\u001b[0;34m)\u001b[0m\u001b[0;34m\u001b[0m\u001b[0;34m\u001b[0m\u001b[0m\n\u001b[0m\u001b[1;32m     20\u001b[0m     \u001b[0mprint\u001b[0m\u001b[0;34m(\u001b[0m\u001b[0mlisted_time\u001b[0m\u001b[0;34m)\u001b[0m\u001b[0;34m\u001b[0m\u001b[0;34m\u001b[0m\u001b[0m\n\u001b[1;32m     21\u001b[0m     \u001b[0;32mif\u001b[0m \u001b[0mlisted_time\u001b[0m\u001b[0;34m[\u001b[0m\u001b[0;36m0\u001b[0m\u001b[0;34m]\u001b[0m \u001b[0;34m==\u001b[0m \u001b[0;34m'0'\u001b[0m\u001b[0;34m:\u001b[0m\u001b[0;34m\u001b[0m\u001b[0;34m\u001b[0m\u001b[0m\n",
      "\u001b[0;31mValueError\u001b[0m: empty separator"
     ]
    }
   ],
   "source": [
    "# Create a function named twelveto24. \n",
    "# It should accept a string in the format 10:45am or 4:30pm and \n",
    "# return a string that is the representation of the time in a 24-hour format. \n",
    "# Bonus write a function that does the opposite.\n",
    "\n",
    "def twelveto24(string):\n",
    "    listed_nums = [int(num) for num in string if num.isdigit() == True]\n",
    "    if len(listed_nums) < 4:\n",
    "        listed_nums.insert(0, '0')\n",
    "    if 'pm' in string:\n",
    "        listed_nums[0] = 1 + int(listed_nums[0])\n",
    "        listed_nums[1] = 2 + int(listed_nums[1])\n",
    "    return str(listed_nums[0]) + str(listed_nums[1]) + ':' + str(listed_nums[2]) + str(listed_nums[3]) \n",
    "\n",
    "twelveto24('10:45am')\n",
    "twelveto24('4:30pm')\n",
    "\n",
    "def twentyfourto12(string):\n",
    "    listed_time = string.split('')\n",
    "    print(listed_time)\n",
    "    if listed_time[0] == '0':\n",
    "        remove(listed_time[0])\n",
    "        listed_time.append('am')\n",
    "        new_string = ''.join(listed_time)\n",
    "    elif listed_time[0] == '2':\n",
    "        listed_time[0] = int(listed_time[0]) - 1\n",
    "        listed_time[1] = int(listed_time[1]) - 2\n",
    "        listed_time.append('pm')\n",
    "        new_string = ''.join(listed_time)\n",
    "    else:\n",
    "        return string\n",
    "    return new_string\n",
    "print(twentyfourto12('02:45'))\n",
    "print(twentyfourto12('22:45'))"
   ]
  },
  {
   "cell_type": "code",
   "execution_count": null,
   "id": "f17ade9f",
   "metadata": {},
   "outputs": [],
   "source": [
    "def begin_end(string):\n",
    "    while string[0].isalpha() == False:\n",
    "        string = string[1:]\n",
    "    while string[-1].isalnum() == False:\n",
    "        string = string[:-1]\n",
    "    return string\n",
    "def special_char(string):\n",
    "    new_string = ''\n",
    "    for char in string:\n",
    "        if char.isalnum() == True:\n",
    "            new_string += char\n",
    "        elif char == ' ':\n",
    "            new_string += '_'\n",
    "    return string\n",
    "def keyword(string):\n",
    "    "
   ]
  }
 ],
 "metadata": {
  "kernelspec": {
   "display_name": "Python 3",
   "language": "python",
   "name": "python3"
  },
  "language_info": {
   "codemirror_mode": {
    "name": "ipython",
    "version": 3
   },
   "file_extension": ".py",
   "mimetype": "text/x-python",
   "name": "python",
   "nbconvert_exporter": "python",
   "pygments_lexer": "ipython3",
   "version": "3.8.8"
  }
 },
 "nbformat": 4,
 "nbformat_minor": 5
}

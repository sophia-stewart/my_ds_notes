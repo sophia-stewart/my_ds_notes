{
 "cells": [
  {
   "cell_type": "markdown",
   "id": "e4f1f0ec",
   "metadata": {},
   "source": [
    "# Control Structures"
   ]
  },
  {
   "cell_type": "markdown",
   "id": "560c5a7e",
   "metadata": {},
   "source": [
    "## Conditionals"
   ]
  },
  {
   "cell_type": "code",
   "execution_count": 1,
   "id": "52f17b57",
   "metadata": {},
   "outputs": [
    {
     "name": "stdout",
     "output_type": "stream",
     "text": [
      "I like coffee!\n",
      "Coffee is the best!\n"
     ]
    }
   ],
   "source": [
    "i_like_coffee = True\n",
    "if i_like_coffee:\n",
    "    print('I like coffee!')\n",
    "    print('Coffee is the best!')"
   ]
  },
  {
   "cell_type": "code",
   "execution_count": 2,
   "id": "29acc31c",
   "metadata": {},
   "outputs": [],
   "source": [
    "# If conditions not met, all of following code is skipped\n",
    "i_like_coffee = False\n",
    "if i_like_coffee:\n",
    "    print('I like coffee!')\n",
    "    print('Coffee is the best!')\n",
    "# nothing is printed"
   ]
  },
  {
   "cell_type": "code",
   "execution_count": 3,
   "id": "8d7a9453",
   "metadata": {},
   "outputs": [],
   "source": [
    "# if (something is true):\n",
    "#     do this"
   ]
  },
  {
   "cell_type": "code",
   "execution_count": 4,
   "id": "cedbddac",
   "metadata": {},
   "outputs": [
    {
     "name": "stdout",
     "output_type": "stream",
     "text": [
      "the number x is even\n"
     ]
    }
   ],
   "source": [
    "# is a number even or odd\n",
    "\n",
    "x = 4\n",
    "r = x % 2\n",
    "\n",
    "if r == 0:\n",
    "    print('the number x is even')"
   ]
  },
  {
   "cell_type": "code",
   "execution_count": 5,
   "id": "0ff4de1a",
   "metadata": {},
   "outputs": [
    {
     "name": "stdout",
     "output_type": "stream",
     "text": [
      "Hello Hopperites\n"
     ]
    }
   ],
   "source": [
    "# if code after if statement is not indented,\n",
    "# it is not part of conditional and is evaluated separately:\n",
    "\n",
    "x = 5\n",
    "r = x % 2\n",
    "\n",
    "if r == 0:\n",
    "    print('the number x is even')\n",
    "    \n",
    "print('Hello Hopperites')"
   ]
  },
  {
   "cell_type": "code",
   "execution_count": 6,
   "id": "4184ee1d",
   "metadata": {},
   "outputs": [
    {
     "name": "stdout",
     "output_type": "stream",
     "text": [
      "the number x is odd\n"
     ]
    }
   ],
   "source": [
    "# could write code like this:\n",
    "\n",
    "x = 5\n",
    "r = x % 2\n",
    "\n",
    "if r == 0:\n",
    "    print('the number x is even')\n",
    "if r == 1:\n",
    "    print('the number x is odd')"
   ]
  },
  {
   "cell_type": "code",
   "execution_count": 8,
   "id": "88f82382",
   "metadata": {},
   "outputs": [
    {
     "name": "stdout",
     "output_type": "stream",
     "text": [
      "the number x is even\n"
     ]
    }
   ],
   "source": [
    "# but is better to write like this to avoid unnecessary evaluation:\n",
    "# if first condition is met, following code won't be evaluated\n",
    "\n",
    "x = 4\n",
    "r = x % 2\n",
    "\n",
    "if r == 0:\n",
    "    print('the number x is even')\n",
    "else:\n",
    "    print('the number x is odd')"
   ]
  },
  {
   "cell_type": "markdown",
   "id": "28101f7e",
   "metadata": {},
   "source": [
    "#### Nested ifs:"
   ]
  },
  {
   "cell_type": "code",
   "execution_count": 10,
   "id": "aefe3b8f",
   "metadata": {},
   "outputs": [
    {
     "name": "stdout",
     "output_type": "stream",
     "text": [
      "the number x is even\n",
      "the number is less than or equal to 5\n"
     ]
    }
   ],
   "source": [
    "x = 4\n",
    "r = x % 2\n",
    "\n",
    "if r == 0:\n",
    "    print('the number x is even')\n",
    "    if x > 5:\n",
    "        print('the number is greater than 5')\n",
    "    else:\n",
    "        print('the number is less than or equal to 5')\n",
    "else:\n",
    "    print('the number x is odd')"
   ]
  },
  {
   "cell_type": "code",
   "execution_count": 11,
   "id": "164782fc",
   "metadata": {},
   "outputs": [
    {
     "name": "stdout",
     "output_type": "stream",
     "text": [
      "TWO\n"
     ]
    }
   ],
   "source": [
    "# for multiple outcomes\n",
    "# use else if (elif) statement:\n",
    "\n",
    "x = 2\n",
    "\n",
    "if x == 1:\n",
    "    print('ONE')\n",
    "elif x == 2:\n",
    "    print('TWO')\n",
    "elif x == 3:\n",
    "    print('THREE')\n",
    "else:\n",
    "    print('Hurray!')"
   ]
  },
  {
   "cell_type": "markdown",
   "id": "7e375e77",
   "metadata": {},
   "source": [
    "## Loops\n",
    "\n",
    "`for` for running a block of code a number of times\n",
    "\n",
    "`while` for running a block of code until a condition is met"
   ]
  },
  {
   "cell_type": "markdown",
   "id": "4dae2f04",
   "metadata": {},
   "source": [
    "### For Loops"
   ]
  },
  {
   "cell_type": "code",
   "execution_count": 14,
   "id": "15b696e8",
   "metadata": {},
   "outputs": [
    {
     "name": "stdout",
     "output_type": "stream",
     "text": [
      "4\n",
      "6\n",
      "8\n",
      "10\n",
      "12\n",
      "18\n"
     ]
    }
   ],
   "source": [
    "# use for loop when iterating though a list, string, etc\n",
    "\n",
    "l = [2,3,4,5,6,9]\n",
    "for i in l:\n",
    "    print(i * 2)"
   ]
  },
  {
   "cell_type": "code",
   "execution_count": 15,
   "id": "b004f15d",
   "metadata": {},
   "outputs": [
    {
     "name": "stdout",
     "output_type": "stream",
     "text": [
      "4, 6, 8, 10, 12, 18, "
     ]
    }
   ],
   "source": [
    "# can add something (like a comma) after each iteration:\n",
    "\n",
    "l = [2,3,4,5,6,9]\n",
    "for i in l:\n",
    "    print(i * 2, end = ', ')"
   ]
  },
  {
   "cell_type": "code",
   "execution_count": 16,
   "id": "6fc50403",
   "metadata": {},
   "outputs": [
    {
     "name": "stdout",
     "output_type": "stream",
     "text": [
      "1 is odd\n",
      "2 is even\n",
      "3 is odd\n",
      "4 is even\n",
      "5 is odd\n",
      "6 is even\n",
      "7 is odd\n",
      "8 is even\n",
      "9 is odd\n",
      "10 is even\n"
     ]
    }
   ],
   "source": [
    "# print whether number is odd or even\n",
    "# range below is from 1 to 10 bc range is end exclusive\n",
    "\n",
    "for num in range(1, 11):\n",
    "    if num % 2 == 0:\n",
    "        print(num, 'is even') \n",
    "    else:\n",
    "        print(num, 'is odd')"
   ]
  },
  {
   "cell_type": "code",
   "execution_count": 19,
   "id": "06c4403c",
   "metadata": {},
   "outputs": [
    {
     "name": "stdout",
     "output_type": "stream",
     "text": [
      "hhhhhhhh\n",
      "oooooooo\n",
      "pppppppp\n",
      "pppppppp\n",
      "eeeeeeee\n",
      "rrrrrrrr\n"
     ]
    }
   ],
   "source": [
    "# can use for loops with strings:\n",
    "\n",
    "s = 'hopper'\n",
    "\n",
    "for char in s:\n",
    "    print(char * 8)"
   ]
  },
  {
   "cell_type": "code",
   "execution_count": 22,
   "id": "dbd70923",
   "metadata": {},
   "outputs": [
    {
     "name": "stdout",
     "output_type": "stream",
     "text": [
      "[1]\n",
      "[1, 4]\n",
      "[1, 4, 9]\n",
      "[1, 4, 9, 16]\n",
      "[1, 4, 9, 16, 25]\n",
      "[1, 4, 9, 16, 25, 36]\n",
      "[1, 4, 9, 16, 25, 36, 49]\n",
      "[1, 4, 9, 16, 25, 36, 49, 64]\n",
      "[1, 4, 9, 16, 25, 36, 49, 64, 81]\n"
     ]
    },
    {
     "data": {
      "text/plain": [
       "[1, 4, 9, 16, 25, 36, 49, 64, 81]"
      ]
     },
     "execution_count": 22,
     "metadata": {},
     "output_type": "execute_result"
    }
   ],
   "source": [
    "l = []\n",
    "for num in range(1, 10):\n",
    "    l.append(num ** 2)\n",
    "    print(l)\n",
    "l"
   ]
  },
  {
   "cell_type": "code",
   "execution_count": 23,
   "id": "835bcfed",
   "metadata": {},
   "outputs": [
    {
     "data": {
      "text/plain": [
       "[1, 4, 9, 16, 25, 36, 49, 64, 81]"
      ]
     },
     "execution_count": 23,
     "metadata": {},
     "output_type": "execute_result"
    }
   ],
   "source": [
    "[num ** 2 for num in range(1, 10)]"
   ]
  },
  {
   "cell_type": "markdown",
   "id": "542bbf99",
   "metadata": {},
   "source": [
    "### While Loops\n",
    "\n",
    "The while loop will execute its body until the condition evaluates to false"
   ]
  },
  {
   "cell_type": "code",
   "execution_count": 24,
   "id": "bdf9671b",
   "metadata": {},
   "outputs": [],
   "source": [
    "# While something is true:\n",
    "#    Do this"
   ]
  },
  {
   "cell_type": "code",
   "execution_count": 25,
   "id": "8d95225c",
   "metadata": {},
   "outputs": [
    {
     "name": "stdout",
     "output_type": "stream",
     "text": [
      "1\n",
      "2\n",
      "3\n",
      "4\n"
     ]
    }
   ],
   "source": [
    "i = 1\n",
    "\n",
    "while i < 5:\n",
    "    print(i)\n",
    "    i = i + 1"
   ]
  },
  {
   "cell_type": "code",
   "execution_count": 27,
   "id": "1aeb6eb8",
   "metadata": {},
   "outputs": [
    {
     "name": "stdout",
     "output_type": "stream",
     "text": [
      "Please input your password:pass\n",
      "Invalid password\n",
      "Please input your password:dcbsdkvbwe\n",
      "Invalid password\n",
      "Please input your password:password1234\n",
      "You may proceed\n"
     ]
    }
   ],
   "source": [
    "stored_pw = 'password1234'\n",
    "user_input = input('Please input your password:')\n",
    "\n",
    "while user_input != stored_pw:\n",
    "    print('Invalid password')\n",
    "    user_input = input('Please input your password:')\n",
    "    \n",
    "print('You may proceed')"
   ]
  },
  {
   "cell_type": "markdown",
   "id": "fca0bfc1",
   "metadata": {},
   "source": [
    "### Break\n",
    "- `break` will stop executing the loop entirely"
   ]
  },
  {
   "cell_type": "code",
   "execution_count": 28,
   "id": "e2c59f81",
   "metadata": {},
   "outputs": [
    {
     "name": "stdout",
     "output_type": "stream",
     "text": [
      "1\n",
      "2\n",
      "3\n",
      "4\n",
      "5\n",
      "6\n",
      "7\n",
      "8\n",
      "9\n"
     ]
    }
   ],
   "source": [
    "i = 1\n",
    "\n",
    "while i < 1000:\n",
    "    print(i)\n",
    "    i = i + 1\n",
    "    if i == 10:\n",
    "        break"
   ]
  },
  {
   "cell_type": "code",
   "execution_count": 31,
   "id": "887c2d60",
   "metadata": {},
   "outputs": [
    {
     "name": "stdout",
     "output_type": "stream",
     "text": [
      "Candy\n",
      "Candy\n",
      "Candy\n",
      "Candy\n",
      "Candy\n",
      "Out of Candies\n"
     ]
    }
   ],
   "source": [
    "user_input = 10\n",
    "available_candies = 5\n",
    "\n",
    "i = 1\n",
    "while i <= user_input:\n",
    "    \n",
    "    if i > available_candies:\n",
    "        print('Out of Candies')\n",
    "        break\n",
    "        \n",
    "    print('Candy')\n",
    "    i = i + 1"
   ]
  },
  {
   "cell_type": "markdown",
   "id": "881daca0",
   "metadata": {},
   "source": [
    "### Continue\n",
    "- `continue` will skip to the next iteration of a loop"
   ]
  },
  {
   "cell_type": "code",
   "execution_count": 33,
   "id": "1fcc1c1b",
   "metadata": {},
   "outputs": [
    {
     "name": "stdout",
     "output_type": "stream",
     "text": [
      "here is an odd number: 1\n",
      "here is an odd number: 3\n",
      "here is an odd number: 5\n",
      "here is an odd number: 7\n",
      "here is an odd number: 9\n"
     ]
    }
   ],
   "source": [
    "# print only odd numbers:\n",
    "\n",
    "for i in range(1, 10):\n",
    "    if i % 2 == 0:\n",
    "        continue\n",
    "    else:\n",
    "        print('here is an odd number:', i)"
   ]
  }
 ],
 "metadata": {
  "kernelspec": {
   "display_name": "Python 3",
   "language": "python",
   "name": "python3"
  },
  "language_info": {
   "codemirror_mode": {
    "name": "ipython",
    "version": 3
   },
   "file_extension": ".py",
   "mimetype": "text/x-python",
   "name": "python",
   "nbconvert_exporter": "python",
   "pygments_lexer": "ipython3",
   "version": "3.8.8"
  }
 },
 "nbformat": 4,
 "nbformat_minor": 5
}

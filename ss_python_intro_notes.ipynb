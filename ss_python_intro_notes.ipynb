{
 "cells": [
  {
   "cell_type": "markdown",
   "id": "72db288b",
   "metadata": {},
   "source": [
    "## Data Types"
   ]
  },
  {
   "cell_type": "code",
   "execution_count": 1,
   "id": "35bf526c",
   "metadata": {},
   "outputs": [
    {
     "data": {
      "text/plain": [
       "2"
      ]
     },
     "execution_count": 1,
     "metadata": {},
     "output_type": "execute_result"
    }
   ],
   "source": [
    "1+1"
   ]
  },
  {
   "cell_type": "code",
   "execution_count": 2,
   "id": "2888c4ef",
   "metadata": {},
   "outputs": [
    {
     "data": {
      "text/plain": [
       "'oneone'"
      ]
     },
     "execution_count": 2,
     "metadata": {},
     "output_type": "execute_result"
    }
   ],
   "source": [
    "'one'+'one'"
   ]
  },
  {
   "cell_type": "code",
   "execution_count": 3,
   "id": "a926217d",
   "metadata": {},
   "outputs": [
    {
     "data": {
      "text/plain": [
       "int"
      ]
     },
     "execution_count": 3,
     "metadata": {},
     "output_type": "execute_result"
    }
   ],
   "source": [
    "type(123)"
   ]
  },
  {
   "cell_type": "code",
   "execution_count": 4,
   "id": "2183467c",
   "metadata": {},
   "outputs": [
    {
     "data": {
      "text/plain": [
       "str"
      ]
     },
     "execution_count": 4,
     "metadata": {},
     "output_type": "execute_result"
    }
   ],
   "source": [
    "type('123')"
   ]
  },
  {
   "cell_type": "code",
   "execution_count": 5,
   "id": "7eb88c75",
   "metadata": {},
   "outputs": [
    {
     "data": {
      "text/plain": [
       "float"
      ]
     },
     "execution_count": 5,
     "metadata": {},
     "output_type": "execute_result"
    }
   ],
   "source": [
    "type(123.0)"
   ]
  },
  {
   "cell_type": "code",
   "execution_count": 6,
   "id": "9fb3a5ab",
   "metadata": {},
   "outputs": [
    {
     "data": {
      "text/plain": [
       "bool"
      ]
     },
     "execution_count": 6,
     "metadata": {},
     "output_type": "execute_result"
    }
   ],
   "source": [
    "type(True)"
   ]
  },
  {
   "cell_type": "code",
   "execution_count": 7,
   "id": "92de6357",
   "metadata": {},
   "outputs": [
    {
     "data": {
      "text/plain": [
       "bool"
      ]
     },
     "execution_count": 7,
     "metadata": {},
     "output_type": "execute_result"
    }
   ],
   "source": [
    "type(False)"
   ]
  },
  {
   "cell_type": "code",
   "execution_count": 8,
   "id": "08c1bdb1",
   "metadata": {},
   "outputs": [],
   "source": [
    "# boolean operators must have first letter capitalized; Python is case sensitive"
   ]
  },
  {
   "cell_type": "code",
   "execution_count": 9,
   "id": "a734a26f",
   "metadata": {},
   "outputs": [
    {
     "data": {
      "text/plain": [
       "[1, 2, 3]"
      ]
     },
     "execution_count": 9,
     "metadata": {},
     "output_type": "execute_result"
    }
   ],
   "source": [
    "[1,2,3]"
   ]
  },
  {
   "cell_type": "code",
   "execution_count": 13,
   "id": "8aadb1fc",
   "metadata": {},
   "outputs": [
    {
     "data": {
      "text/plain": [
       "list"
      ]
     },
     "execution_count": 13,
     "metadata": {},
     "output_type": "execute_result"
    }
   ],
   "source": [
    "type([1,2,3])"
   ]
  },
  {
   "cell_type": "code",
   "execution_count": null,
   "id": "9afec719",
   "metadata": {},
   "outputs": [],
   "source": [
    "# lists can be changed"
   ]
  },
  {
   "cell_type": "code",
   "execution_count": 12,
   "id": "3ca45eab",
   "metadata": {},
   "outputs": [
    {
     "data": {
      "text/plain": [
       "tuple"
      ]
     },
     "execution_count": 12,
     "metadata": {},
     "output_type": "execute_result"
    }
   ],
   "source": [
    "type((1,2,3))"
   ]
  },
  {
   "cell_type": "code",
   "execution_count": 14,
   "id": "3d48673e",
   "metadata": {},
   "outputs": [],
   "source": [
    "# tuples cannot be changed"
   ]
  },
  {
   "cell_type": "code",
   "execution_count": 15,
   "id": "bbcdaa21",
   "metadata": {},
   "outputs": [
    {
     "data": {
      "text/plain": [
       "NoneType"
      ]
     },
     "execution_count": 15,
     "metadata": {},
     "output_type": "execute_result"
    }
   ],
   "source": [
    "type(None)"
   ]
  },
  {
   "cell_type": "code",
   "execution_count": 16,
   "id": "eb51be43",
   "metadata": {},
   "outputs": [],
   "source": [
    "# None is not zero, it is the absence of a value (like NULL in SQL)"
   ]
  },
  {
   "cell_type": "code",
   "execution_count": 18,
   "id": "e22c011a",
   "metadata": {},
   "outputs": [
    {
     "data": {
      "text/plain": [
       "dict"
      ]
     },
     "execution_count": 18,
     "metadata": {},
     "output_type": "execute_result"
    }
   ],
   "source": [
    "type({1:2})"
   ]
  },
  {
   "cell_type": "code",
   "execution_count": 19,
   "id": "cd1c25ab",
   "metadata": {},
   "outputs": [
    {
     "data": {
      "text/plain": [
       "{'numbers': [1, 2, 3, 4], 'words': ['one', 'two', 'three']}"
      ]
     },
     "execution_count": 19,
     "metadata": {},
     "output_type": "execute_result"
    }
   ],
   "source": [
    "{'numbers': [1,2,3,4], 'words': ['one', 'two', 'three']}"
   ]
  },
  {
   "cell_type": "code",
   "execution_count": 20,
   "id": "b8b4e3ff",
   "metadata": {},
   "outputs": [],
   "source": [
    "# dict = {'label': [value1, value2,...]}\n",
    "# dictionaries are mutable (can have their values changed)"
   ]
  },
  {
   "cell_type": "markdown",
   "id": "7b9322fa",
   "metadata": {},
   "source": [
    "## Variables"
   ]
  },
  {
   "cell_type": "code",
   "execution_count": 21,
   "id": "cc8c3c6d",
   "metadata": {},
   "outputs": [],
   "source": [
    "# = is assignment operator"
   ]
  },
  {
   "cell_type": "code",
   "execution_count": 22,
   "id": "ccdd5b83",
   "metadata": {},
   "outputs": [],
   "source": [
    "current_month = 'October'"
   ]
  },
  {
   "cell_type": "code",
   "execution_count": 24,
   "id": "468c6544",
   "metadata": {},
   "outputs": [
    {
     "name": "stdout",
     "output_type": "stream",
     "text": [
      "October\n"
     ]
    }
   ],
   "source": [
    "print(current_month)"
   ]
  },
  {
   "cell_type": "code",
   "execution_count": 25,
   "id": "8b7db204",
   "metadata": {},
   "outputs": [
    {
     "name": "stdout",
     "output_type": "stream",
     "text": [
      "OctoberOctober\n"
     ]
    }
   ],
   "source": [
    "print(current_month*2)"
   ]
  },
  {
   "cell_type": "code",
   "execution_count": 26,
   "id": "cc9d98de",
   "metadata": {},
   "outputs": [],
   "source": [
    "current_month = 'November'"
   ]
  },
  {
   "cell_type": "code",
   "execution_count": 27,
   "id": "ef97a0ca",
   "metadata": {},
   "outputs": [
    {
     "data": {
      "text/plain": [
       "'November'"
      ]
     },
     "execution_count": 27,
     "metadata": {},
     "output_type": "execute_result"
    }
   ],
   "source": [
    "current_month"
   ]
  },
  {
   "cell_type": "code",
   "execution_count": 28,
   "id": "8ead8ecc",
   "metadata": {},
   "outputs": [],
   "source": [
    "optimal_scoops_of_ice_cream = 2"
   ]
  },
  {
   "cell_type": "code",
   "execution_count": 30,
   "id": "5b4cd74b",
   "metadata": {},
   "outputs": [
    {
     "name": "stdout",
     "output_type": "stream",
     "text": [
      "2\n"
     ]
    }
   ],
   "source": [
    "print(optimal_scoops_of_ice_cream)"
   ]
  },
  {
   "cell_type": "code",
   "execution_count": 31,
   "id": "95a1e8a3",
   "metadata": {},
   "outputs": [
    {
     "data": {
      "text/plain": [
       "3"
      ]
     },
     "execution_count": 31,
     "metadata": {},
     "output_type": "execute_result"
    }
   ],
   "source": [
    "optimal_scoops_of_ice_cream + 1"
   ]
  },
  {
   "cell_type": "code",
   "execution_count": 32,
   "id": "66e72af7",
   "metadata": {},
   "outputs": [
    {
     "data": {
      "text/plain": [
       "2"
      ]
     },
     "execution_count": 32,
     "metadata": {},
     "output_type": "execute_result"
    }
   ],
   "source": [
    "optimal_scoops_of_ice_cream"
   ]
  },
  {
   "cell_type": "code",
   "execution_count": 35,
   "id": "9e173660",
   "metadata": {},
   "outputs": [],
   "source": [
    "optimal_scoops_of_ice_cream = optimal_scoops_of_ice_cream + 1"
   ]
  },
  {
   "cell_type": "code",
   "execution_count": 34,
   "id": "a37e9501",
   "metadata": {},
   "outputs": [
    {
     "data": {
      "text/plain": [
       "3"
      ]
     },
     "execution_count": 34,
     "metadata": {},
     "output_type": "execute_result"
    }
   ],
   "source": [
    "optimal_scoops_of_ice_cream"
   ]
  },
  {
   "cell_type": "code",
   "execution_count": 36,
   "id": "aab9561d",
   "metadata": {},
   "outputs": [
    {
     "data": {
      "text/plain": [
       "4"
      ]
     },
     "execution_count": 36,
     "metadata": {},
     "output_type": "execute_result"
    }
   ],
   "source": [
    "optimal_scoops_of_ice_cream"
   ]
  },
  {
   "cell_type": "code",
   "execution_count": 37,
   "id": "f02d323e",
   "metadata": {},
   "outputs": [],
   "source": [
    "# if you go back to a previous line and re-run it,\n",
    "# it's like running it again in a subsequent cell\n",
    "# basically overwrites whatever the latest work was"
   ]
  },
  {
   "cell_type": "code",
   "execution_count": 38,
   "id": "10294569",
   "metadata": {},
   "outputs": [
    {
     "data": {
      "text/plain": [
       "int"
      ]
     },
     "execution_count": 38,
     "metadata": {},
     "output_type": "execute_result"
    }
   ],
   "source": [
    "type(optimal_scoops_of_ice_cream)"
   ]
  },
  {
   "cell_type": "code",
   "execution_count": 39,
   "id": "64abb7fd",
   "metadata": {},
   "outputs": [],
   "source": [
    "optimal_scoops_of_ice_cream = optimal_scoops_of_ice_cream + 0.5"
   ]
  },
  {
   "cell_type": "code",
   "execution_count": 40,
   "id": "ee5e4085",
   "metadata": {},
   "outputs": [
    {
     "name": "stdout",
     "output_type": "stream",
     "text": [
      "4.5\n"
     ]
    }
   ],
   "source": [
    "print(optimal_scoops_of_ice_cream)"
   ]
  },
  {
   "cell_type": "code",
   "execution_count": 41,
   "id": "492cc9ee",
   "metadata": {},
   "outputs": [
    {
     "data": {
      "text/plain": [
       "float"
      ]
     },
     "execution_count": 41,
     "metadata": {},
     "output_type": "execute_result"
    }
   ],
   "source": [
    "type(optimal_scoops_of_ice_cream)"
   ]
  },
  {
   "cell_type": "code",
   "execution_count": 42,
   "id": "d0639e46",
   "metadata": {},
   "outputs": [],
   "source": [
    "optimal_scoops_of_ice_cream = optimal_scoops_of_ice_cream - 0.5"
   ]
  },
  {
   "cell_type": "code",
   "execution_count": 43,
   "id": "c7ad49b0",
   "metadata": {},
   "outputs": [
    {
     "name": "stdout",
     "output_type": "stream",
     "text": [
      "4.0\n"
     ]
    }
   ],
   "source": [
    "print(optimal_scoops_of_ice_cream)"
   ]
  },
  {
   "cell_type": "code",
   "execution_count": 44,
   "id": "3d2896e8",
   "metadata": {},
   "outputs": [
    {
     "data": {
      "text/plain": [
       "float"
      ]
     },
     "execution_count": 44,
     "metadata": {},
     "output_type": "execute_result"
    }
   ],
   "source": [
    "type(optimal_scoops_of_ice_cream)"
   ]
  },
  {
   "cell_type": "code",
   "execution_count": 45,
   "id": "7e082a3c",
   "metadata": {},
   "outputs": [],
   "source": [
    "optimal_scoops_of_ice_cream = int(optimal_scoops_of_ice_cream)"
   ]
  },
  {
   "cell_type": "code",
   "execution_count": 46,
   "id": "e9d87ec2",
   "metadata": {},
   "outputs": [
    {
     "data": {
      "text/plain": [
       "4"
      ]
     },
     "execution_count": 46,
     "metadata": {},
     "output_type": "execute_result"
    }
   ],
   "source": [
    "optimal_scoops_of_ice_cream"
   ]
  },
  {
   "cell_type": "code",
   "execution_count": 47,
   "id": "7e7ea47a",
   "metadata": {},
   "outputs": [
    {
     "data": {
      "text/plain": [
       "int"
      ]
     },
     "execution_count": 47,
     "metadata": {},
     "output_type": "execute_result"
    }
   ],
   "source": [
    "type(optimal_scoops_of_ice_cream)"
   ]
  },
  {
   "cell_type": "code",
   "execution_count": 49,
   "id": "b3e006bf",
   "metadata": {},
   "outputs": [],
   "source": [
    "optimal_scoops_of_ice_cream = optimal_scoops_of_ice_cream + 1"
   ]
  },
  {
   "cell_type": "code",
   "execution_count": 50,
   "id": "e4aaec45",
   "metadata": {},
   "outputs": [],
   "source": [
    "optimal_scoops_of_ice_cream = optimal_scoops_of_ice_cream/2"
   ]
  },
  {
   "cell_type": "code",
   "execution_count": 51,
   "id": "da961e6c",
   "metadata": {},
   "outputs": [
    {
     "data": {
      "text/plain": [
       "3.0"
      ]
     },
     "execution_count": 51,
     "metadata": {},
     "output_type": "execute_result"
    }
   ],
   "source": [
    "optimal_scoops_of_ice_cream"
   ]
  },
  {
   "cell_type": "code",
   "execution_count": 52,
   "id": "d6afcc7c",
   "metadata": {},
   "outputs": [],
   "source": [
    "# python automatically turns int into float when dividing\n",
    "# because there's a good chance the result will have a decimal"
   ]
  },
  {
   "cell_type": "code",
   "execution_count": 53,
   "id": "8b7127c8",
   "metadata": {},
   "outputs": [
    {
     "name": "stdout",
     "output_type": "stream",
     "text": [
      "300.0\n"
     ]
    }
   ],
   "source": [
    "print(optimal_scoops_of_ice_cream * 100)"
   ]
  },
  {
   "cell_type": "markdown",
   "id": "d277c376",
   "metadata": {},
   "source": [
    "### Takeaways\n",
    "- To use a value again, it must be stored as a variable\n",
    "- Variable will hold its value until it is explicitly told to change (using '=')\n",
    "- Variables can be used in an expression in the same way the underlying value would be used"
   ]
  },
  {
   "cell_type": "markdown",
   "id": "f60911fb",
   "metadata": {},
   "source": [
    "## Booleans\n",
    "- often produced from the use of comparison operators: <, >, !=, =="
   ]
  },
  {
   "cell_type": "code",
   "execution_count": 55,
   "id": "91c7e38b",
   "metadata": {},
   "outputs": [
    {
     "data": {
      "text/plain": [
       "True"
      ]
     },
     "execution_count": 55,
     "metadata": {},
     "output_type": "execute_result"
    }
   ],
   "source": [
    "3 == 3"
   ]
  },
  {
   "cell_type": "code",
   "execution_count": 56,
   "id": "662bb929",
   "metadata": {},
   "outputs": [
    {
     "data": {
      "text/plain": [
       "True"
      ]
     },
     "execution_count": 56,
     "metadata": {},
     "output_type": "execute_result"
    }
   ],
   "source": [
    "3 != 4"
   ]
  },
  {
   "cell_type": "code",
   "execution_count": 57,
   "id": "4b12d547",
   "metadata": {},
   "outputs": [
    {
     "data": {
      "text/plain": [
       "True"
      ]
     },
     "execution_count": 57,
     "metadata": {},
     "output_type": "execute_result"
    }
   ],
   "source": [
    "True == True"
   ]
  },
  {
   "cell_type": "code",
   "execution_count": 58,
   "id": "06969b9c",
   "metadata": {},
   "outputs": [
    {
     "data": {
      "text/plain": [
       "False"
      ]
     },
     "execution_count": 58,
     "metadata": {},
     "output_type": "execute_result"
    }
   ],
   "source": [
    "True == False"
   ]
  },
  {
   "cell_type": "code",
   "execution_count": 59,
   "id": "36a5f017",
   "metadata": {},
   "outputs": [
    {
     "data": {
      "text/plain": [
       "True"
      ]
     },
     "execution_count": 59,
     "metadata": {},
     "output_type": "execute_result"
    }
   ],
   "source": [
    "False == False"
   ]
  },
  {
   "cell_type": "code",
   "execution_count": 60,
   "id": "e692fa83",
   "metadata": {},
   "outputs": [
    {
     "data": {
      "text/plain": [
       "True"
      ]
     },
     "execution_count": 60,
     "metadata": {},
     "output_type": "execute_result"
    }
   ],
   "source": [
    "True != False"
   ]
  },
  {
   "cell_type": "markdown",
   "id": "bab9a90f",
   "metadata": {},
   "source": [
    "### Additional Operators\n",
    "- and\n",
    "- or\n",
    "- not"
   ]
  },
  {
   "cell_type": "code",
   "execution_count": 61,
   "id": "7df30fd9",
   "metadata": {},
   "outputs": [
    {
     "data": {
      "text/plain": [
       "True"
      ]
     },
     "execution_count": 61,
     "metadata": {},
     "output_type": "execute_result"
    }
   ],
   "source": [
    "True and True"
   ]
  },
  {
   "cell_type": "code",
   "execution_count": 62,
   "id": "0de22215",
   "metadata": {},
   "outputs": [
    {
     "data": {
      "text/plain": [
       "False"
      ]
     },
     "execution_count": 62,
     "metadata": {},
     "output_type": "execute_result"
    }
   ],
   "source": [
    "True and False"
   ]
  },
  {
   "cell_type": "code",
   "execution_count": 63,
   "id": "704715ba",
   "metadata": {},
   "outputs": [
    {
     "data": {
      "text/plain": [
       "True"
      ]
     },
     "execution_count": 63,
     "metadata": {},
     "output_type": "execute_result"
    }
   ],
   "source": [
    "True or True"
   ]
  },
  {
   "cell_type": "code",
   "execution_count": 64,
   "id": "f40622a2",
   "metadata": {},
   "outputs": [
    {
     "data": {
      "text/plain": [
       "True"
      ]
     },
     "execution_count": 64,
     "metadata": {},
     "output_type": "execute_result"
    }
   ],
   "source": [
    "True or False"
   ]
  },
  {
   "cell_type": "code",
   "execution_count": 65,
   "id": "94d99b0d",
   "metadata": {},
   "outputs": [
    {
     "data": {
      "text/plain": [
       "True"
      ]
     },
     "execution_count": 65,
     "metadata": {},
     "output_type": "execute_result"
    }
   ],
   "source": [
    "True and False or True"
   ]
  },
  {
   "cell_type": "code",
   "execution_count": 66,
   "id": "28bb91dc",
   "metadata": {},
   "outputs": [
    {
     "data": {
      "text/plain": [
       "False"
      ]
     },
     "execution_count": 66,
     "metadata": {},
     "output_type": "execute_result"
    }
   ],
   "source": [
    "False and True or False"
   ]
  },
  {
   "cell_type": "code",
   "execution_count": 67,
   "id": "91eca926",
   "metadata": {},
   "outputs": [
    {
     "data": {
      "text/plain": [
       "False"
      ]
     },
     "execution_count": 67,
     "metadata": {},
     "output_type": "execute_result"
    }
   ],
   "source": [
    "True and False or False"
   ]
  },
  {
   "cell_type": "code",
   "execution_count": 68,
   "id": "efaead17",
   "metadata": {},
   "outputs": [
    {
     "data": {
      "text/plain": [
       "True"
      ]
     },
     "execution_count": 68,
     "metadata": {},
     "output_type": "execute_result"
    }
   ],
   "source": [
    "True and False or True"
   ]
  },
  {
   "cell_type": "code",
   "execution_count": 69,
   "id": "36d3281e",
   "metadata": {},
   "outputs": [],
   "source": [
    "# Use parentheses when using multiple booleans/operators!"
   ]
  },
  {
   "cell_type": "code",
   "execution_count": 70,
   "id": "53d6b451",
   "metadata": {},
   "outputs": [
    {
     "data": {
      "text/plain": [
       "False"
      ]
     },
     "execution_count": 70,
     "metadata": {},
     "output_type": "execute_result"
    }
   ],
   "source": [
    "not True"
   ]
  },
  {
   "cell_type": "code",
   "execution_count": 71,
   "id": "820c176a",
   "metadata": {},
   "outputs": [
    {
     "data": {
      "text/plain": [
       "True"
      ]
     },
     "execution_count": 71,
     "metadata": {},
     "output_type": "execute_result"
    }
   ],
   "source": [
    "not False"
   ]
  },
  {
   "cell_type": "markdown",
   "id": "f8964113",
   "metadata": {},
   "source": [
    "## Variables and Booleans Together"
   ]
  },
  {
   "cell_type": "code",
   "execution_count": 72,
   "id": "403a77ea",
   "metadata": {},
   "outputs": [],
   "source": [
    "is_it_raining = False"
   ]
  },
  {
   "cell_type": "code",
   "execution_count": 73,
   "id": "4239c88c",
   "metadata": {},
   "outputs": [],
   "source": [
    "I_have_an_umbrella = True"
   ]
  },
  {
   "cell_type": "code",
   "execution_count": 74,
   "id": "e8aca272",
   "metadata": {},
   "outputs": [
    {
     "data": {
      "text/plain": [
       "False"
      ]
     },
     "execution_count": 74,
     "metadata": {},
     "output_type": "execute_result"
    }
   ],
   "source": [
    "is_it_raining and I_have_an_umbrella"
   ]
  },
  {
   "cell_type": "code",
   "execution_count": 75,
   "id": "10b83a3e",
   "metadata": {},
   "outputs": [],
   "source": [
    "is_it_raining = True"
   ]
  },
  {
   "cell_type": "code",
   "execution_count": 76,
   "id": "f66da392",
   "metadata": {},
   "outputs": [
    {
     "data": {
      "text/plain": [
       "True"
      ]
     },
     "execution_count": 76,
     "metadata": {},
     "output_type": "execute_result"
    }
   ],
   "source": [
    "is_it_raining and I_have_an_umbrella"
   ]
  },
  {
   "cell_type": "code",
   "execution_count": 77,
   "id": "62418e04",
   "metadata": {},
   "outputs": [],
   "source": [
    "# ands only return True when all of its parts are True"
   ]
  },
  {
   "cell_type": "code",
   "execution_count": 79,
   "id": "ae6448b6",
   "metadata": {},
   "outputs": [],
   "source": [
    "is_first_of_the_month = True\n",
    "report_has_been_sent = False"
   ]
  },
  {
   "cell_type": "code",
   "execution_count": 80,
   "id": "cbbdf525",
   "metadata": {},
   "outputs": [],
   "source": [
    "# goal: report goes out on first of the month and is sent only once\n",
    "should_we_send_report = is_first_of_the_month and report_has_been_sent"
   ]
  },
  {
   "cell_type": "code",
   "execution_count": 81,
   "id": "139d4d93",
   "metadata": {},
   "outputs": [
    {
     "data": {
      "text/plain": [
       "False"
      ]
     },
     "execution_count": 81,
     "metadata": {},
     "output_type": "execute_result"
    }
   ],
   "source": [
    "should_we_send_report\n",
    "# doesn't work bc although it is first of month, report hasn't been sent"
   ]
  },
  {
   "cell_type": "code",
   "execution_count": 82,
   "id": "a708d7a2",
   "metadata": {},
   "outputs": [],
   "source": [
    "# use 'not' to correct this\n",
    "should_we_send_report = is_first_of_the_month and not report_has_been_sent"
   ]
  },
  {
   "cell_type": "code",
   "execution_count": 83,
   "id": "30401cb9",
   "metadata": {},
   "outputs": [
    {
     "data": {
      "text/plain": [
       "True"
      ]
     },
     "execution_count": 83,
     "metadata": {},
     "output_type": "execute_result"
    }
   ],
   "source": [
    "should_we_send_report"
   ]
  },
  {
   "cell_type": "code",
   "execution_count": 84,
   "id": "2db53314",
   "metadata": {},
   "outputs": [],
   "source": [
    "# now that report has been sent:\n",
    "report_has_been_sent = True"
   ]
  },
  {
   "cell_type": "code",
   "execution_count": 86,
   "id": "c6c3c74c",
   "metadata": {},
   "outputs": [],
   "source": [
    "should_we_send_report = is_first_of_the_month and not report_has_been_sent"
   ]
  },
  {
   "cell_type": "code",
   "execution_count": 87,
   "id": "146c8cc8",
   "metadata": {},
   "outputs": [
    {
     "data": {
      "text/plain": [
       "False"
      ]
     },
     "execution_count": 87,
     "metadata": {},
     "output_type": "execute_result"
    }
   ],
   "source": [
    "should_we_send_report"
   ]
  },
  {
   "cell_type": "code",
   "execution_count": 88,
   "id": "bddc0ae7",
   "metadata": {},
   "outputs": [],
   "source": [
    "# a day passes:\n",
    "is_first_of_the_month = False\n",
    "report_has_been_sent = False"
   ]
  },
  {
   "cell_type": "code",
   "execution_count": 89,
   "id": "4a5f0c74",
   "metadata": {},
   "outputs": [],
   "source": [
    "should_we_send_report = is_first_of_the_month and not report_has_been_sent"
   ]
  },
  {
   "cell_type": "code",
   "execution_count": 90,
   "id": "c4050c17",
   "metadata": {},
   "outputs": [
    {
     "data": {
      "text/plain": [
       "False"
      ]
     },
     "execution_count": 90,
     "metadata": {},
     "output_type": "execute_result"
    }
   ],
   "source": [
    "should_we_send_report"
   ]
  },
  {
   "cell_type": "markdown",
   "id": "c7f0c7be",
   "metadata": {},
   "source": [
    "## Mathematical Operators, Variables and Booleans"
   ]
  },
  {
   "cell_type": "code",
   "execution_count": 91,
   "id": "c950f600",
   "metadata": {},
   "outputs": [],
   "source": [
    "x = 5"
   ]
  },
  {
   "cell_type": "code",
   "execution_count": 92,
   "id": "bdfc60aa",
   "metadata": {},
   "outputs": [
    {
     "data": {
      "text/plain": [
       "15"
      ]
     },
     "execution_count": 92,
     "metadata": {},
     "output_type": "execute_result"
    }
   ],
   "source": [
    "x + 10"
   ]
  },
  {
   "cell_type": "code",
   "execution_count": 93,
   "id": "54509f56",
   "metadata": {},
   "outputs": [
    {
     "data": {
      "text/plain": [
       "True"
      ]
     },
     "execution_count": 93,
     "metadata": {},
     "output_type": "execute_result"
    }
   ],
   "source": [
    "x + 10 == 15"
   ]
  },
  {
   "cell_type": "markdown",
   "id": "dee988ec",
   "metadata": {},
   "source": [
    "### Order of Operations\n",
    "- PEMDAS\n",
    " - Parentheses\n",
    " - Exponents\n",
    " - Multiplication and Division (left to right)\n",
    " - Addition and Subtraction (left to right)"
   ]
  },
  {
   "cell_type": "code",
   "execution_count": 94,
   "id": "063b3b35",
   "metadata": {},
   "outputs": [
    {
     "data": {
      "text/plain": [
       "-65"
      ]
     },
     "execution_count": 94,
     "metadata": {},
     "output_type": "execute_result"
    }
   ],
   "source": [
    "(x * 2) ** 2 - 15 * 11"
   ]
  },
  {
   "cell_type": "code",
   "execution_count": 95,
   "id": "d29fb28c",
   "metadata": {},
   "outputs": [
    {
     "data": {
      "text/plain": [
       "-65"
      ]
     },
     "execution_count": 95,
     "metadata": {},
     "output_type": "execute_result"
    }
   ],
   "source": [
    "# python understands order of operations on its own\n",
    "(x * 2) ** 2 - (15 * 11)"
   ]
  },
  {
   "cell_type": "code",
   "execution_count": 96,
   "id": "66d96a97",
   "metadata": {},
   "outputs": [
    {
     "data": {
      "text/plain": [
       "2"
      ]
     },
     "execution_count": 96,
     "metadata": {},
     "output_type": "execute_result"
    }
   ],
   "source": [
    "# Floor division (quotient with no remainder)\n",
    "5 // 2"
   ]
  },
  {
   "cell_type": "code",
   "execution_count": 97,
   "id": "4bf79da2",
   "metadata": {},
   "outputs": [
    {
     "data": {
      "text/plain": [
       "3"
      ]
     },
     "execution_count": 97,
     "metadata": {},
     "output_type": "execute_result"
    }
   ],
   "source": [
    "7 // 2"
   ]
  },
  {
   "cell_type": "code",
   "execution_count": 98,
   "id": "693d62f9",
   "metadata": {},
   "outputs": [
    {
     "data": {
      "text/plain": [
       "0"
      ]
     },
     "execution_count": 98,
     "metadata": {},
     "output_type": "execute_result"
    }
   ],
   "source": [
    "1 // 2"
   ]
  },
  {
   "cell_type": "code",
   "execution_count": 99,
   "id": "b5441de8",
   "metadata": {},
   "outputs": [
    {
     "data": {
      "text/plain": [
       "1"
      ]
     },
     "execution_count": 99,
     "metadata": {},
     "output_type": "execute_result"
    }
   ],
   "source": [
    "# Modulo (shows only remainder from quotient)\n",
    "5 % 2"
   ]
  },
  {
   "cell_type": "code",
   "execution_count": 100,
   "id": "c7fe28e1",
   "metadata": {},
   "outputs": [
    {
     "data": {
      "text/plain": [
       "2"
      ]
     },
     "execution_count": 100,
     "metadata": {},
     "output_type": "execute_result"
    }
   ],
   "source": [
    "5 % 3"
   ]
  },
  {
   "cell_type": "code",
   "execution_count": 101,
   "id": "a2b3bd37",
   "metadata": {},
   "outputs": [
    {
     "data": {
      "text/plain": [
       "2.0"
      ]
     },
     "execution_count": 101,
     "metadata": {},
     "output_type": "execute_result"
    }
   ],
   "source": [
    "5.0 // 2"
   ]
  },
  {
   "cell_type": "markdown",
   "id": "f29e159b",
   "metadata": {},
   "source": [
    "## Strings"
   ]
  },
  {
   "cell_type": "code",
   "execution_count": 102,
   "id": "1ddc84f0",
   "metadata": {},
   "outputs": [],
   "source": [
    "string = 'This is cool'"
   ]
  },
  {
   "cell_type": "code",
   "execution_count": 103,
   "id": "7b2b4276",
   "metadata": {},
   "outputs": [],
   "source": [
    "string2 = \"This is also cool\""
   ]
  },
  {
   "cell_type": "code",
   "execution_count": 104,
   "id": "79e38c93",
   "metadata": {},
   "outputs": [
    {
     "ename": "SyntaxError",
     "evalue": "EOL while scanning string literal (<ipython-input-104-36540e5677df>, line 1)",
     "output_type": "error",
     "traceback": [
      "\u001b[0;36m  File \u001b[0;32m\"<ipython-input-104-36540e5677df>\"\u001b[0;36m, line \u001b[0;32m1\u001b[0m\n\u001b[0;31m    string3 = 'This is not cool\"\u001b[0m\n\u001b[0m                                ^\u001b[0m\n\u001b[0;31mSyntaxError\u001b[0m\u001b[0;31m:\u001b[0m EOL while scanning string literal\n"
     ]
    }
   ],
   "source": [
    "# can use either single or double quotes, but cannot do one of each\n",
    "# python thinks string never finished\n",
    "string3 = 'This is not cool\""
   ]
  },
  {
   "cell_type": "code",
   "execution_count": 105,
   "id": "48e06fdc",
   "metadata": {},
   "outputs": [
    {
     "name": "stdout",
     "output_type": "stream",
     "text": [
      "Sgt Pepper's Band\n"
     ]
    }
   ],
   "source": [
    "# for apostrophes within a string:\n",
    "string4 = 'Sgt Pepper\\'s Band'\n",
    "print(string4)"
   ]
  },
  {
   "cell_type": "code",
   "execution_count": 106,
   "id": "db62e803",
   "metadata": {},
   "outputs": [
    {
     "name": "stdout",
     "output_type": "stream",
     "text": [
      "This string\n",
      "contains a newline\n"
     ]
    }
   ],
   "source": [
    "# /n creates newline within string\n",
    "newline_string = 'This string\\ncontains a newline'\n",
    "print(newline_string)"
   ]
  },
  {
   "cell_type": "markdown",
   "id": "fd033303",
   "metadata": {},
   "source": [
    "### Strings and Booleans "
   ]
  },
  {
   "cell_type": "code",
   "execution_count": 107,
   "id": "811168eb",
   "metadata": {},
   "outputs": [
    {
     "data": {
      "text/plain": [
       "True"
      ]
     },
     "execution_count": 107,
     "metadata": {},
     "output_type": "execute_result"
    }
   ],
   "source": [
    "'string' == 'string'"
   ]
  },
  {
   "cell_type": "markdown",
   "id": "2b17399d",
   "metadata": {},
   "source": [
    "### String Operations"
   ]
  },
  {
   "cell_type": "code",
   "execution_count": 108,
   "id": "aee83605",
   "metadata": {},
   "outputs": [
    {
     "data": {
      "text/plain": [
       "'stringstring'"
      ]
     },
     "execution_count": 108,
     "metadata": {},
     "output_type": "execute_result"
    }
   ],
   "source": [
    "'string' + 'string'"
   ]
  },
  {
   "cell_type": "code",
   "execution_count": 109,
   "id": "b76a2744",
   "metadata": {},
   "outputs": [
    {
     "data": {
      "text/plain": [
       "'stringstringstringstringstring'"
      ]
     },
     "execution_count": 109,
     "metadata": {},
     "output_type": "execute_result"
    }
   ],
   "source": [
    "'string' * 5"
   ]
  },
  {
   "cell_type": "code",
   "execution_count": 110,
   "id": "e919baf6",
   "metadata": {},
   "outputs": [
    {
     "ename": "TypeError",
     "evalue": "unsupported operand type(s) for ** or pow(): 'str' and 'int'",
     "output_type": "error",
     "traceback": [
      "\u001b[0;31m---------------------------------------------------------------------------\u001b[0m",
      "\u001b[0;31mTypeError\u001b[0m                                 Traceback (most recent call last)",
      "\u001b[0;32m<ipython-input-110-b41589fd5291>\u001b[0m in \u001b[0;36m<module>\u001b[0;34m\u001b[0m\n\u001b[0;32m----> 1\u001b[0;31m \u001b[0;34m'string'\u001b[0m \u001b[0;34m**\u001b[0m \u001b[0;36m2\u001b[0m\u001b[0;34m\u001b[0m\u001b[0;34m\u001b[0m\u001b[0m\n\u001b[0m\u001b[1;32m      2\u001b[0m \u001b[0;31m# doesn't work\u001b[0m\u001b[0;34m\u001b[0m\u001b[0;34m\u001b[0m\u001b[0;34m\u001b[0m\u001b[0m\n",
      "\u001b[0;31mTypeError\u001b[0m: unsupported operand type(s) for ** or pow(): 'str' and 'int'"
     ]
    }
   ],
   "source": [
    "'string' ** 2\n",
    "# doesn't work"
   ]
  },
  {
   "cell_type": "code",
   "execution_count": 111,
   "id": "dc7493f1",
   "metadata": {},
   "outputs": [
    {
     "ename": "TypeError",
     "evalue": "unsupported operand type(s) for -: 'str' and 'str'",
     "output_type": "error",
     "traceback": [
      "\u001b[0;31m---------------------------------------------------------------------------\u001b[0m",
      "\u001b[0;31mTypeError\u001b[0m                                 Traceback (most recent call last)",
      "\u001b[0;32m<ipython-input-111-e09c19ccd189>\u001b[0m in \u001b[0;36m<module>\u001b[0;34m\u001b[0m\n\u001b[0;32m----> 1\u001b[0;31m \u001b[0;34m'string'\u001b[0m \u001b[0;34m-\u001b[0m \u001b[0;34m'string'\u001b[0m\u001b[0;34m\u001b[0m\u001b[0;34m\u001b[0m\u001b[0m\n\u001b[0m\u001b[1;32m      2\u001b[0m \u001b[0;31m# doesn't work\u001b[0m\u001b[0;34m\u001b[0m\u001b[0;34m\u001b[0m\u001b[0;34m\u001b[0m\u001b[0m\n",
      "\u001b[0;31mTypeError\u001b[0m: unsupported operand type(s) for -: 'str' and 'str'"
     ]
    }
   ],
   "source": [
    "'string' - 'string'\n",
    "# doesn't work"
   ]
  },
  {
   "cell_type": "code",
   "execution_count": 112,
   "id": "a82d95cc",
   "metadata": {},
   "outputs": [
    {
     "ename": "TypeError",
     "evalue": "can only concatenate str (not \"int\") to str",
     "output_type": "error",
     "traceback": [
      "\u001b[0;31m---------------------------------------------------------------------------\u001b[0m",
      "\u001b[0;31mTypeError\u001b[0m                                 Traceback (most recent call last)",
      "\u001b[0;32m<ipython-input-112-3afd411b7b2a>\u001b[0m in \u001b[0;36m<module>\u001b[0;34m\u001b[0m\n\u001b[1;32m      1\u001b[0m \u001b[0;31m# can't put strings and numbers together\u001b[0m\u001b[0;34m\u001b[0m\u001b[0;34m\u001b[0m\u001b[0;34m\u001b[0m\u001b[0m\n\u001b[0;32m----> 2\u001b[0;31m \u001b[0;34m'2'\u001b[0m \u001b[0;34m+\u001b[0m \u001b[0;36m1\u001b[0m\u001b[0;34m\u001b[0m\u001b[0;34m\u001b[0m\u001b[0m\n\u001b[0m",
      "\u001b[0;31mTypeError\u001b[0m: can only concatenate str (not \"int\") to str"
     ]
    }
   ],
   "source": [
    "# can't put strings and numbers together\n",
    "'2' + 1"
   ]
  },
  {
   "cell_type": "code",
   "execution_count": 113,
   "id": "14f082b1",
   "metadata": {},
   "outputs": [
    {
     "data": {
      "text/plain": [
       "'21'"
      ]
     },
     "execution_count": 113,
     "metadata": {},
     "output_type": "execute_result"
    }
   ],
   "source": [
    "# can recast integer as string to concatenate values together:\n",
    "'2' + str(1)"
   ]
  },
  {
   "cell_type": "code",
   "execution_count": 114,
   "id": "454cfd0f",
   "metadata": {},
   "outputs": [
    {
     "data": {
      "text/plain": [
       "3"
      ]
     },
     "execution_count": 114,
     "metadata": {},
     "output_type": "execute_result"
    }
   ],
   "source": [
    "# works other way as well:\n",
    "int('2') + 1"
   ]
  },
  {
   "cell_type": "code",
   "execution_count": 115,
   "id": "87c82808",
   "metadata": {},
   "outputs": [
    {
     "ename": "ValueError",
     "evalue": "invalid literal for int() with base 10: 'two'",
     "output_type": "error",
     "traceback": [
      "\u001b[0;31m---------------------------------------------------------------------------\u001b[0m",
      "\u001b[0;31mValueError\u001b[0m                                Traceback (most recent call last)",
      "\u001b[0;32m<ipython-input-115-eb02fbc89934>\u001b[0m in \u001b[0;36m<module>\u001b[0;34m\u001b[0m\n\u001b[1;32m      1\u001b[0m \u001b[0;31m# python can't recognize spelled out string of number as an int:\u001b[0m\u001b[0;34m\u001b[0m\u001b[0;34m\u001b[0m\u001b[0;34m\u001b[0m\u001b[0m\n\u001b[0;32m----> 2\u001b[0;31m \u001b[0mint\u001b[0m\u001b[0;34m(\u001b[0m\u001b[0;34m'two'\u001b[0m\u001b[0;34m)\u001b[0m\u001b[0;34m\u001b[0m\u001b[0;34m\u001b[0m\u001b[0m\n\u001b[0m",
      "\u001b[0;31mValueError\u001b[0m: invalid literal for int() with base 10: 'two'"
     ]
    }
   ],
   "source": [
    "# python can't recognize spelled out string of number as an int:\n",
    "int('two')"
   ]
  },
  {
   "cell_type": "code",
   "execution_count": 116,
   "id": "2ddba7ea",
   "metadata": {},
   "outputs": [],
   "source": [
    "string5 = 'Hello'\n",
    "string6 = 'World'"
   ]
  },
  {
   "cell_type": "code",
   "execution_count": 117,
   "id": "74c00460",
   "metadata": {},
   "outputs": [
    {
     "data": {
      "text/plain": [
       "'HelloWorld'"
      ]
     },
     "execution_count": 117,
     "metadata": {},
     "output_type": "execute_result"
    }
   ],
   "source": [
    "string5 + string6"
   ]
  },
  {
   "cell_type": "code",
   "execution_count": 118,
   "id": "cfceb551",
   "metadata": {},
   "outputs": [
    {
     "data": {
      "text/plain": [
       "'Hello World'"
      ]
     },
     "execution_count": 118,
     "metadata": {},
     "output_type": "execute_result"
    }
   ],
   "source": [
    "string5 + ' ' + string6"
   ]
  },
  {
   "cell_type": "markdown",
   "id": "ac8bcaf8",
   "metadata": {},
   "source": [
    "### String Formatting"
   ]
  },
  {
   "cell_type": "code",
   "execution_count": 119,
   "id": "0f80287a",
   "metadata": {},
   "outputs": [],
   "source": [
    "avg_ducks = 5"
   ]
  },
  {
   "cell_type": "code",
   "execution_count": 120,
   "id": "5cafa47d",
   "metadata": {},
   "outputs": [
    {
     "ename": "TypeError",
     "evalue": "can only concatenate str (not \"int\") to str",
     "output_type": "error",
     "traceback": [
      "\u001b[0;31m---------------------------------------------------------------------------\u001b[0m",
      "\u001b[0;31mTypeError\u001b[0m                                 Traceback (most recent call last)",
      "\u001b[0;32m<ipython-input-120-12d5e3c546f8>\u001b[0m in \u001b[0;36m<module>\u001b[0;34m\u001b[0m\n\u001b[0;32m----> 1\u001b[0;31m \u001b[0mprint\u001b[0m\u001b[0;34m(\u001b[0m\u001b[0;34m'Average number of ducks in the pond:'\u001b[0m \u001b[0;34m+\u001b[0m \u001b[0mavg_ducks\u001b[0m\u001b[0;34m)\u001b[0m\u001b[0;34m\u001b[0m\u001b[0;34m\u001b[0m\u001b[0m\n\u001b[0m",
      "\u001b[0;31mTypeError\u001b[0m: can only concatenate str (not \"int\") to str"
     ]
    }
   ],
   "source": [
    "print('Average number of ducks in the pond:' + avg_ducks)"
   ]
  },
  {
   "cell_type": "code",
   "execution_count": 121,
   "id": "a1332650",
   "metadata": {},
   "outputs": [
    {
     "name": "stdout",
     "output_type": "stream",
     "text": [
      "Average number of ducks in the pond:5\n"
     ]
    }
   ],
   "source": [
    "print('Average number of ducks in the pond:' + str(avg_ducks))"
   ]
  },
  {
   "cell_type": "markdown",
   "id": "79cb4d71",
   "metadata": {},
   "source": [
    "#### % formatting"
   ]
  },
  {
   "cell_type": "code",
   "execution_count": 122,
   "id": "0d04574d",
   "metadata": {},
   "outputs": [],
   "source": [
    "my_fav_color = 'puce'"
   ]
  },
  {
   "cell_type": "code",
   "execution_count": 123,
   "id": "ea877221",
   "metadata": {},
   "outputs": [
    {
     "data": {
      "text/plain": [
       "'My favorite color: puce!'"
      ]
     },
     "execution_count": 123,
     "metadata": {},
     "output_type": "execute_result"
    }
   ],
   "source": [
    "'My favorite color: %s!' % my_fav_color"
   ]
  },
  {
   "cell_type": "markdown",
   "id": "14945a27",
   "metadata": {},
   "source": [
    "#### {} .format"
   ]
  },
  {
   "cell_type": "code",
   "execution_count": 125,
   "id": "80104305",
   "metadata": {},
   "outputs": [
    {
     "data": {
      "text/plain": [
       "'My favorite color: puce'"
      ]
     },
     "execution_count": 125,
     "metadata": {},
     "output_type": "execute_result"
    }
   ],
   "source": [
    "'My favorite color: {}' .format(my_fav_color)"
   ]
  },
  {
   "cell_type": "markdown",
   "id": "121c6bd5",
   "metadata": {},
   "source": [
    "#### f format"
   ]
  },
  {
   "cell_type": "code",
   "execution_count": 127,
   "id": "4b560e1f",
   "metadata": {},
   "outputs": [
    {
     "data": {
      "text/plain": [
       "'My favorite color: puce'"
      ]
     },
     "execution_count": 127,
     "metadata": {},
     "output_type": "execute_result"
    }
   ],
   "source": [
    "f'My favorite color: {my_fav_color}'"
   ]
  },
  {
   "cell_type": "markdown",
   "id": "d72edc69",
   "metadata": {},
   "source": [
    "### String Methods\n",
    "- .lower() and .upper()"
   ]
  },
  {
   "cell_type": "code",
   "execution_count": 128,
   "id": "0d61f6e6",
   "metadata": {},
   "outputs": [],
   "source": [
    "string = 'HeLlO i Am A gOoFy GoObEr'"
   ]
  },
  {
   "cell_type": "code",
   "execution_count": 129,
   "id": "65e6c25e",
   "metadata": {},
   "outputs": [
    {
     "data": {
      "text/plain": [
       "'hello i am a goofy goober'"
      ]
     },
     "execution_count": 129,
     "metadata": {},
     "output_type": "execute_result"
    }
   ],
   "source": [
    "string.lower()"
   ]
  },
  {
   "cell_type": "code",
   "execution_count": 130,
   "id": "d1c90db0",
   "metadata": {},
   "outputs": [
    {
     "data": {
      "text/plain": [
       "'HELLO I AM A GOOFY GOOBER'"
      ]
     },
     "execution_count": 130,
     "metadata": {},
     "output_type": "execute_result"
    }
   ],
   "source": [
    "string.upper()"
   ]
  },
  {
   "cell_type": "code",
   "execution_count": 131,
   "id": "4e310a28",
   "metadata": {},
   "outputs": [],
   "source": [
    "# good practice to assign new variable rather than changing data from original variable\n",
    "lower_string = string.lower()"
   ]
  },
  {
   "cell_type": "code",
   "execution_count": 132,
   "id": "bfa0e17c",
   "metadata": {},
   "outputs": [
    {
     "data": {
      "text/plain": [
       "'hello i am a goofy goober'"
      ]
     },
     "execution_count": 132,
     "metadata": {},
     "output_type": "execute_result"
    }
   ],
   "source": [
    "lower_string"
   ]
  },
  {
   "cell_type": "code",
   "execution_count": 133,
   "id": "8c5f363d",
   "metadata": {},
   "outputs": [
    {
     "data": {
      "text/plain": [
       "'HeLlO i Am A gOoFy GoObEr'"
      ]
     },
     "execution_count": 133,
     "metadata": {},
     "output_type": "execute_result"
    }
   ],
   "source": [
    "# original string remains unchanged\n",
    "string"
   ]
  },
  {
   "cell_type": "markdown",
   "id": "8ddebf6f",
   "metadata": {},
   "source": [
    "- .strip()"
   ]
  },
  {
   "cell_type": "code",
   "execution_count": 134,
   "id": "38579330",
   "metadata": {},
   "outputs": [],
   "source": [
    "string = '     lots o\\' space      '"
   ]
  },
  {
   "cell_type": "code",
   "execution_count": 135,
   "id": "df1817a0",
   "metadata": {},
   "outputs": [
    {
     "data": {
      "text/plain": [
       "\"     lots o' space      \""
      ]
     },
     "execution_count": 135,
     "metadata": {},
     "output_type": "execute_result"
    }
   ],
   "source": [
    "string"
   ]
  },
  {
   "cell_type": "code",
   "execution_count": 136,
   "id": "c0b9740e",
   "metadata": {},
   "outputs": [
    {
     "data": {
      "text/plain": [
       "\"lots o' space\""
      ]
     },
     "execution_count": 136,
     "metadata": {},
     "output_type": "execute_result"
    }
   ],
   "source": [
    "string.strip()"
   ]
  },
  {
   "cell_type": "markdown",
   "id": "9c6b3db6",
   "metadata": {},
   "source": [
    "- .isdigit()"
   ]
  },
  {
   "cell_type": "code",
   "execution_count": 137,
   "id": "9f836016",
   "metadata": {},
   "outputs": [
    {
     "data": {
      "text/plain": [
       "False"
      ]
     },
     "execution_count": 137,
     "metadata": {},
     "output_type": "execute_result"
    }
   ],
   "source": [
    "string.isdigit()"
   ]
  },
  {
   "cell_type": "code",
   "execution_count": 138,
   "id": "8ac02996",
   "metadata": {},
   "outputs": [],
   "source": [
    "num_string = '123'"
   ]
  },
  {
   "cell_type": "code",
   "execution_count": 139,
   "id": "a79e56c0",
   "metadata": {},
   "outputs": [
    {
     "data": {
      "text/plain": [
       "True"
      ]
     },
     "execution_count": 139,
     "metadata": {},
     "output_type": "execute_result"
    }
   ],
   "source": [
    "num_string.isdigit()"
   ]
  },
  {
   "cell_type": "code",
   "execution_count": 140,
   "id": "ea8a0206",
   "metadata": {},
   "outputs": [
    {
     "data": {
      "text/plain": [
       "bool"
      ]
     },
     "execution_count": 140,
     "metadata": {},
     "output_type": "execute_result"
    }
   ],
   "source": [
    "type(num_string.isdigit())"
   ]
  },
  {
   "cell_type": "markdown",
   "id": "6068e8c2",
   "metadata": {},
   "source": [
    "- .split()"
   ]
  },
  {
   "cell_type": "code",
   "execution_count": 141,
   "id": "da6013fb",
   "metadata": {},
   "outputs": [],
   "source": [
    "address = '1324 Main St, San Antonio, TX, 78231'"
   ]
  },
  {
   "cell_type": "code",
   "execution_count": 142,
   "id": "23dd3633",
   "metadata": {},
   "outputs": [
    {
     "data": {
      "text/plain": [
       "['1324 Main St', 'San Antonio', 'TX', '78231']"
      ]
     },
     "execution_count": 142,
     "metadata": {},
     "output_type": "execute_result"
    }
   ],
   "source": [
    "address.split(', ')"
   ]
  },
  {
   "cell_type": "code",
   "execution_count": 143,
   "id": "f31d9633",
   "metadata": {},
   "outputs": [
    {
     "data": {
      "text/plain": [
       "list"
      ]
     },
     "execution_count": 143,
     "metadata": {},
     "output_type": "execute_result"
    }
   ],
   "source": [
    "type(address.split(', '))"
   ]
  },
  {
   "cell_type": "code",
   "execution_count": 145,
   "id": "dee733c2",
   "metadata": {},
   "outputs": [],
   "source": [
    "address_list = address.split(', ')"
   ]
  },
  {
   "cell_type": "code",
   "execution_count": 147,
   "id": "03b39f1d",
   "metadata": {},
   "outputs": [],
   "source": [
    "address_no_comma = '1324 Main St San Antonio TX 78231'"
   ]
  },
  {
   "cell_type": "code",
   "execution_count": 148,
   "id": "7b07790d",
   "metadata": {},
   "outputs": [
    {
     "data": {
      "text/plain": [
       "['1324 Main St San Antonio TX 78231']"
      ]
     },
     "execution_count": 148,
     "metadata": {},
     "output_type": "execute_result"
    }
   ],
   "source": [
    "address_no_comma.split(', ')"
   ]
  },
  {
   "cell_type": "code",
   "execution_count": 149,
   "id": "80ba0e0b",
   "metadata": {},
   "outputs": [
    {
     "data": {
      "text/plain": [
       "list"
      ]
     },
     "execution_count": 149,
     "metadata": {},
     "output_type": "execute_result"
    }
   ],
   "source": [
    "type(address_no_comma.split(', '))"
   ]
  },
  {
   "cell_type": "code",
   "execution_count": 150,
   "id": "6e3d6d6b",
   "metadata": {},
   "outputs": [
    {
     "data": {
      "text/plain": [
       "['1324', 'Main', 'St,', 'San', 'Antonio,', 'TX,', '78231']"
      ]
     },
     "execution_count": 150,
     "metadata": {},
     "output_type": "execute_result"
    }
   ],
   "source": [
    "address.split()"
   ]
  },
  {
   "cell_type": "markdown",
   "id": "9caeb820",
   "metadata": {},
   "source": [
    "- .join()"
   ]
  },
  {
   "cell_type": "code",
   "execution_count": 151,
   "id": "428865fa",
   "metadata": {},
   "outputs": [],
   "source": [
    "address = '1324 Main St, San Antonio, TX, 78231'"
   ]
  },
  {
   "cell_type": "code",
   "execution_count": 152,
   "id": "964267af",
   "metadata": {},
   "outputs": [],
   "source": [
    "address_list = address.split(', ')"
   ]
  },
  {
   "cell_type": "code",
   "execution_count": 153,
   "id": "d3efd9c9",
   "metadata": {},
   "outputs": [
    {
     "data": {
      "text/plain": [
       "['1324 Main St', 'San Antonio', 'TX', '78231']"
      ]
     },
     "execution_count": 153,
     "metadata": {},
     "output_type": "execute_result"
    }
   ],
   "source": [
    "address_list"
   ]
  },
  {
   "cell_type": "code",
   "execution_count": 154,
   "id": "808068fc",
   "metadata": {},
   "outputs": [
    {
     "data": {
      "text/plain": [
       "'1324 Main St, San Antonio, TX, 78231'"
      ]
     },
     "execution_count": 154,
     "metadata": {},
     "output_type": "execute_result"
    }
   ],
   "source": [
    "', '.join(address_list)"
   ]
  },
  {
   "cell_type": "markdown",
   "id": "6150a905",
   "metadata": {},
   "source": [
    "## Lists"
   ]
  },
  {
   "cell_type": "code",
   "execution_count": 155,
   "id": "7b1ac784",
   "metadata": {},
   "outputs": [],
   "source": [
    "list_var = []"
   ]
  },
  {
   "cell_type": "code",
   "execution_count": 156,
   "id": "518dc8c0",
   "metadata": {},
   "outputs": [
    {
     "data": {
      "text/plain": [
       "[]"
      ]
     },
     "execution_count": 156,
     "metadata": {},
     "output_type": "execute_result"
    }
   ],
   "source": [
    "list_var"
   ]
  },
  {
   "cell_type": "code",
   "execution_count": 157,
   "id": "3cbe1fca",
   "metadata": {},
   "outputs": [
    {
     "data": {
      "text/plain": [
       "list"
      ]
     },
     "execution_count": 157,
     "metadata": {},
     "output_type": "execute_result"
    }
   ],
   "source": [
    "type(list_var)"
   ]
  },
  {
   "cell_type": "code",
   "execution_count": 158,
   "id": "16c83cf5",
   "metadata": {},
   "outputs": [],
   "source": [
    "list_var = [123, '2145', True, None]"
   ]
  },
  {
   "cell_type": "code",
   "execution_count": 159,
   "id": "d264ac53",
   "metadata": {},
   "outputs": [
    {
     "data": {
      "text/plain": [
       "range(0, 1000)"
      ]
     },
     "execution_count": 159,
     "metadata": {},
     "output_type": "execute_result"
    }
   ],
   "source": [
    "# 0-999 (non-inclusive of the specified end value)\n",
    "range(1000)"
   ]
  },
  {
   "cell_type": "code",
   "execution_count": 160,
   "id": "7cf7602a",
   "metadata": {},
   "outputs": [
    {
     "data": {
      "text/plain": [
       "[0,\n",
       " 1,\n",
       " 2,\n",
       " 3,\n",
       " 4,\n",
       " 5,\n",
       " 6,\n",
       " 7,\n",
       " 8,\n",
       " 9,\n",
       " 10,\n",
       " 11,\n",
       " 12,\n",
       " 13,\n",
       " 14,\n",
       " 15,\n",
       " 16,\n",
       " 17,\n",
       " 18,\n",
       " 19,\n",
       " 20,\n",
       " 21,\n",
       " 22,\n",
       " 23,\n",
       " 24,\n",
       " 25,\n",
       " 26,\n",
       " 27,\n",
       " 28,\n",
       " 29,\n",
       " 30,\n",
       " 31,\n",
       " 32,\n",
       " 33,\n",
       " 34,\n",
       " 35,\n",
       " 36,\n",
       " 37,\n",
       " 38,\n",
       " 39,\n",
       " 40,\n",
       " 41,\n",
       " 42,\n",
       " 43,\n",
       " 44,\n",
       " 45,\n",
       " 46,\n",
       " 47,\n",
       " 48,\n",
       " 49,\n",
       " 50,\n",
       " 51,\n",
       " 52,\n",
       " 53,\n",
       " 54,\n",
       " 55,\n",
       " 56,\n",
       " 57,\n",
       " 58,\n",
       " 59,\n",
       " 60,\n",
       " 61,\n",
       " 62,\n",
       " 63,\n",
       " 64,\n",
       " 65,\n",
       " 66,\n",
       " 67,\n",
       " 68,\n",
       " 69,\n",
       " 70,\n",
       " 71,\n",
       " 72,\n",
       " 73,\n",
       " 74,\n",
       " 75,\n",
       " 76,\n",
       " 77,\n",
       " 78,\n",
       " 79,\n",
       " 80,\n",
       " 81,\n",
       " 82,\n",
       " 83,\n",
       " 84,\n",
       " 85,\n",
       " 86,\n",
       " 87,\n",
       " 88,\n",
       " 89,\n",
       " 90,\n",
       " 91,\n",
       " 92,\n",
       " 93,\n",
       " 94,\n",
       " 95,\n",
       " 96,\n",
       " 97,\n",
       " 98,\n",
       " 99,\n",
       " 100,\n",
       " 101,\n",
       " 102,\n",
       " 103,\n",
       " 104,\n",
       " 105,\n",
       " 106,\n",
       " 107,\n",
       " 108,\n",
       " 109,\n",
       " 110,\n",
       " 111,\n",
       " 112,\n",
       " 113,\n",
       " 114,\n",
       " 115,\n",
       " 116,\n",
       " 117,\n",
       " 118,\n",
       " 119,\n",
       " 120,\n",
       " 121,\n",
       " 122,\n",
       " 123,\n",
       " 124,\n",
       " 125,\n",
       " 126,\n",
       " 127,\n",
       " 128,\n",
       " 129,\n",
       " 130,\n",
       " 131,\n",
       " 132,\n",
       " 133,\n",
       " 134,\n",
       " 135,\n",
       " 136,\n",
       " 137,\n",
       " 138,\n",
       " 139,\n",
       " 140,\n",
       " 141,\n",
       " 142,\n",
       " 143,\n",
       " 144,\n",
       " 145,\n",
       " 146,\n",
       " 147,\n",
       " 148,\n",
       " 149,\n",
       " 150,\n",
       " 151,\n",
       " 152,\n",
       " 153,\n",
       " 154,\n",
       " 155,\n",
       " 156,\n",
       " 157,\n",
       " 158,\n",
       " 159,\n",
       " 160,\n",
       " 161,\n",
       " 162,\n",
       " 163,\n",
       " 164,\n",
       " 165,\n",
       " 166,\n",
       " 167,\n",
       " 168,\n",
       " 169,\n",
       " 170,\n",
       " 171,\n",
       " 172,\n",
       " 173,\n",
       " 174,\n",
       " 175,\n",
       " 176,\n",
       " 177,\n",
       " 178,\n",
       " 179,\n",
       " 180,\n",
       " 181,\n",
       " 182,\n",
       " 183,\n",
       " 184,\n",
       " 185,\n",
       " 186,\n",
       " 187,\n",
       " 188,\n",
       " 189,\n",
       " 190,\n",
       " 191,\n",
       " 192,\n",
       " 193,\n",
       " 194,\n",
       " 195,\n",
       " 196,\n",
       " 197,\n",
       " 198,\n",
       " 199,\n",
       " 200,\n",
       " 201,\n",
       " 202,\n",
       " 203,\n",
       " 204,\n",
       " 205,\n",
       " 206,\n",
       " 207,\n",
       " 208,\n",
       " 209,\n",
       " 210,\n",
       " 211,\n",
       " 212,\n",
       " 213,\n",
       " 214,\n",
       " 215,\n",
       " 216,\n",
       " 217,\n",
       " 218,\n",
       " 219,\n",
       " 220,\n",
       " 221,\n",
       " 222,\n",
       " 223,\n",
       " 224,\n",
       " 225,\n",
       " 226,\n",
       " 227,\n",
       " 228,\n",
       " 229,\n",
       " 230,\n",
       " 231,\n",
       " 232,\n",
       " 233,\n",
       " 234,\n",
       " 235,\n",
       " 236,\n",
       " 237,\n",
       " 238,\n",
       " 239,\n",
       " 240,\n",
       " 241,\n",
       " 242,\n",
       " 243,\n",
       " 244,\n",
       " 245,\n",
       " 246,\n",
       " 247,\n",
       " 248,\n",
       " 249,\n",
       " 250,\n",
       " 251,\n",
       " 252,\n",
       " 253,\n",
       " 254,\n",
       " 255,\n",
       " 256,\n",
       " 257,\n",
       " 258,\n",
       " 259,\n",
       " 260,\n",
       " 261,\n",
       " 262,\n",
       " 263,\n",
       " 264,\n",
       " 265,\n",
       " 266,\n",
       " 267,\n",
       " 268,\n",
       " 269,\n",
       " 270,\n",
       " 271,\n",
       " 272,\n",
       " 273,\n",
       " 274,\n",
       " 275,\n",
       " 276,\n",
       " 277,\n",
       " 278,\n",
       " 279,\n",
       " 280,\n",
       " 281,\n",
       " 282,\n",
       " 283,\n",
       " 284,\n",
       " 285,\n",
       " 286,\n",
       " 287,\n",
       " 288,\n",
       " 289,\n",
       " 290,\n",
       " 291,\n",
       " 292,\n",
       " 293,\n",
       " 294,\n",
       " 295,\n",
       " 296,\n",
       " 297,\n",
       " 298,\n",
       " 299,\n",
       " 300,\n",
       " 301,\n",
       " 302,\n",
       " 303,\n",
       " 304,\n",
       " 305,\n",
       " 306,\n",
       " 307,\n",
       " 308,\n",
       " 309,\n",
       " 310,\n",
       " 311,\n",
       " 312,\n",
       " 313,\n",
       " 314,\n",
       " 315,\n",
       " 316,\n",
       " 317,\n",
       " 318,\n",
       " 319,\n",
       " 320,\n",
       " 321,\n",
       " 322,\n",
       " 323,\n",
       " 324,\n",
       " 325,\n",
       " 326,\n",
       " 327,\n",
       " 328,\n",
       " 329,\n",
       " 330,\n",
       " 331,\n",
       " 332,\n",
       " 333,\n",
       " 334,\n",
       " 335,\n",
       " 336,\n",
       " 337,\n",
       " 338,\n",
       " 339,\n",
       " 340,\n",
       " 341,\n",
       " 342,\n",
       " 343,\n",
       " 344,\n",
       " 345,\n",
       " 346,\n",
       " 347,\n",
       " 348,\n",
       " 349,\n",
       " 350,\n",
       " 351,\n",
       " 352,\n",
       " 353,\n",
       " 354,\n",
       " 355,\n",
       " 356,\n",
       " 357,\n",
       " 358,\n",
       " 359,\n",
       " 360,\n",
       " 361,\n",
       " 362,\n",
       " 363,\n",
       " 364,\n",
       " 365,\n",
       " 366,\n",
       " 367,\n",
       " 368,\n",
       " 369,\n",
       " 370,\n",
       " 371,\n",
       " 372,\n",
       " 373,\n",
       " 374,\n",
       " 375,\n",
       " 376,\n",
       " 377,\n",
       " 378,\n",
       " 379,\n",
       " 380,\n",
       " 381,\n",
       " 382,\n",
       " 383,\n",
       " 384,\n",
       " 385,\n",
       " 386,\n",
       " 387,\n",
       " 388,\n",
       " 389,\n",
       " 390,\n",
       " 391,\n",
       " 392,\n",
       " 393,\n",
       " 394,\n",
       " 395,\n",
       " 396,\n",
       " 397,\n",
       " 398,\n",
       " 399,\n",
       " 400,\n",
       " 401,\n",
       " 402,\n",
       " 403,\n",
       " 404,\n",
       " 405,\n",
       " 406,\n",
       " 407,\n",
       " 408,\n",
       " 409,\n",
       " 410,\n",
       " 411,\n",
       " 412,\n",
       " 413,\n",
       " 414,\n",
       " 415,\n",
       " 416,\n",
       " 417,\n",
       " 418,\n",
       " 419,\n",
       " 420,\n",
       " 421,\n",
       " 422,\n",
       " 423,\n",
       " 424,\n",
       " 425,\n",
       " 426,\n",
       " 427,\n",
       " 428,\n",
       " 429,\n",
       " 430,\n",
       " 431,\n",
       " 432,\n",
       " 433,\n",
       " 434,\n",
       " 435,\n",
       " 436,\n",
       " 437,\n",
       " 438,\n",
       " 439,\n",
       " 440,\n",
       " 441,\n",
       " 442,\n",
       " 443,\n",
       " 444,\n",
       " 445,\n",
       " 446,\n",
       " 447,\n",
       " 448,\n",
       " 449,\n",
       " 450,\n",
       " 451,\n",
       " 452,\n",
       " 453,\n",
       " 454,\n",
       " 455,\n",
       " 456,\n",
       " 457,\n",
       " 458,\n",
       " 459,\n",
       " 460,\n",
       " 461,\n",
       " 462,\n",
       " 463,\n",
       " 464,\n",
       " 465,\n",
       " 466,\n",
       " 467,\n",
       " 468,\n",
       " 469,\n",
       " 470,\n",
       " 471,\n",
       " 472,\n",
       " 473,\n",
       " 474,\n",
       " 475,\n",
       " 476,\n",
       " 477,\n",
       " 478,\n",
       " 479,\n",
       " 480,\n",
       " 481,\n",
       " 482,\n",
       " 483,\n",
       " 484,\n",
       " 485,\n",
       " 486,\n",
       " 487,\n",
       " 488,\n",
       " 489,\n",
       " 490,\n",
       " 491,\n",
       " 492,\n",
       " 493,\n",
       " 494,\n",
       " 495,\n",
       " 496,\n",
       " 497,\n",
       " 498,\n",
       " 499,\n",
       " 500,\n",
       " 501,\n",
       " 502,\n",
       " 503,\n",
       " 504,\n",
       " 505,\n",
       " 506,\n",
       " 507,\n",
       " 508,\n",
       " 509,\n",
       " 510,\n",
       " 511,\n",
       " 512,\n",
       " 513,\n",
       " 514,\n",
       " 515,\n",
       " 516,\n",
       " 517,\n",
       " 518,\n",
       " 519,\n",
       " 520,\n",
       " 521,\n",
       " 522,\n",
       " 523,\n",
       " 524,\n",
       " 525,\n",
       " 526,\n",
       " 527,\n",
       " 528,\n",
       " 529,\n",
       " 530,\n",
       " 531,\n",
       " 532,\n",
       " 533,\n",
       " 534,\n",
       " 535,\n",
       " 536,\n",
       " 537,\n",
       " 538,\n",
       " 539,\n",
       " 540,\n",
       " 541,\n",
       " 542,\n",
       " 543,\n",
       " 544,\n",
       " 545,\n",
       " 546,\n",
       " 547,\n",
       " 548,\n",
       " 549,\n",
       " 550,\n",
       " 551,\n",
       " 552,\n",
       " 553,\n",
       " 554,\n",
       " 555,\n",
       " 556,\n",
       " 557,\n",
       " 558,\n",
       " 559,\n",
       " 560,\n",
       " 561,\n",
       " 562,\n",
       " 563,\n",
       " 564,\n",
       " 565,\n",
       " 566,\n",
       " 567,\n",
       " 568,\n",
       " 569,\n",
       " 570,\n",
       " 571,\n",
       " 572,\n",
       " 573,\n",
       " 574,\n",
       " 575,\n",
       " 576,\n",
       " 577,\n",
       " 578,\n",
       " 579,\n",
       " 580,\n",
       " 581,\n",
       " 582,\n",
       " 583,\n",
       " 584,\n",
       " 585,\n",
       " 586,\n",
       " 587,\n",
       " 588,\n",
       " 589,\n",
       " 590,\n",
       " 591,\n",
       " 592,\n",
       " 593,\n",
       " 594,\n",
       " 595,\n",
       " 596,\n",
       " 597,\n",
       " 598,\n",
       " 599,\n",
       " 600,\n",
       " 601,\n",
       " 602,\n",
       " 603,\n",
       " 604,\n",
       " 605,\n",
       " 606,\n",
       " 607,\n",
       " 608,\n",
       " 609,\n",
       " 610,\n",
       " 611,\n",
       " 612,\n",
       " 613,\n",
       " 614,\n",
       " 615,\n",
       " 616,\n",
       " 617,\n",
       " 618,\n",
       " 619,\n",
       " 620,\n",
       " 621,\n",
       " 622,\n",
       " 623,\n",
       " 624,\n",
       " 625,\n",
       " 626,\n",
       " 627,\n",
       " 628,\n",
       " 629,\n",
       " 630,\n",
       " 631,\n",
       " 632,\n",
       " 633,\n",
       " 634,\n",
       " 635,\n",
       " 636,\n",
       " 637,\n",
       " 638,\n",
       " 639,\n",
       " 640,\n",
       " 641,\n",
       " 642,\n",
       " 643,\n",
       " 644,\n",
       " 645,\n",
       " 646,\n",
       " 647,\n",
       " 648,\n",
       " 649,\n",
       " 650,\n",
       " 651,\n",
       " 652,\n",
       " 653,\n",
       " 654,\n",
       " 655,\n",
       " 656,\n",
       " 657,\n",
       " 658,\n",
       " 659,\n",
       " 660,\n",
       " 661,\n",
       " 662,\n",
       " 663,\n",
       " 664,\n",
       " 665,\n",
       " 666,\n",
       " 667,\n",
       " 668,\n",
       " 669,\n",
       " 670,\n",
       " 671,\n",
       " 672,\n",
       " 673,\n",
       " 674,\n",
       " 675,\n",
       " 676,\n",
       " 677,\n",
       " 678,\n",
       " 679,\n",
       " 680,\n",
       " 681,\n",
       " 682,\n",
       " 683,\n",
       " 684,\n",
       " 685,\n",
       " 686,\n",
       " 687,\n",
       " 688,\n",
       " 689,\n",
       " 690,\n",
       " 691,\n",
       " 692,\n",
       " 693,\n",
       " 694,\n",
       " 695,\n",
       " 696,\n",
       " 697,\n",
       " 698,\n",
       " 699,\n",
       " 700,\n",
       " 701,\n",
       " 702,\n",
       " 703,\n",
       " 704,\n",
       " 705,\n",
       " 706,\n",
       " 707,\n",
       " 708,\n",
       " 709,\n",
       " 710,\n",
       " 711,\n",
       " 712,\n",
       " 713,\n",
       " 714,\n",
       " 715,\n",
       " 716,\n",
       " 717,\n",
       " 718,\n",
       " 719,\n",
       " 720,\n",
       " 721,\n",
       " 722,\n",
       " 723,\n",
       " 724,\n",
       " 725,\n",
       " 726,\n",
       " 727,\n",
       " 728,\n",
       " 729,\n",
       " 730,\n",
       " 731,\n",
       " 732,\n",
       " 733,\n",
       " 734,\n",
       " 735,\n",
       " 736,\n",
       " 737,\n",
       " 738,\n",
       " 739,\n",
       " 740,\n",
       " 741,\n",
       " 742,\n",
       " 743,\n",
       " 744,\n",
       " 745,\n",
       " 746,\n",
       " 747,\n",
       " 748,\n",
       " 749,\n",
       " 750,\n",
       " 751,\n",
       " 752,\n",
       " 753,\n",
       " 754,\n",
       " 755,\n",
       " 756,\n",
       " 757,\n",
       " 758,\n",
       " 759,\n",
       " 760,\n",
       " 761,\n",
       " 762,\n",
       " 763,\n",
       " 764,\n",
       " 765,\n",
       " 766,\n",
       " 767,\n",
       " 768,\n",
       " 769,\n",
       " 770,\n",
       " 771,\n",
       " 772,\n",
       " 773,\n",
       " 774,\n",
       " 775,\n",
       " 776,\n",
       " 777,\n",
       " 778,\n",
       " 779,\n",
       " 780,\n",
       " 781,\n",
       " 782,\n",
       " 783,\n",
       " 784,\n",
       " 785,\n",
       " 786,\n",
       " 787,\n",
       " 788,\n",
       " 789,\n",
       " 790,\n",
       " 791,\n",
       " 792,\n",
       " 793,\n",
       " 794,\n",
       " 795,\n",
       " 796,\n",
       " 797,\n",
       " 798,\n",
       " 799,\n",
       " 800,\n",
       " 801,\n",
       " 802,\n",
       " 803,\n",
       " 804,\n",
       " 805,\n",
       " 806,\n",
       " 807,\n",
       " 808,\n",
       " 809,\n",
       " 810,\n",
       " 811,\n",
       " 812,\n",
       " 813,\n",
       " 814,\n",
       " 815,\n",
       " 816,\n",
       " 817,\n",
       " 818,\n",
       " 819,\n",
       " 820,\n",
       " 821,\n",
       " 822,\n",
       " 823,\n",
       " 824,\n",
       " 825,\n",
       " 826,\n",
       " 827,\n",
       " 828,\n",
       " 829,\n",
       " 830,\n",
       " 831,\n",
       " 832,\n",
       " 833,\n",
       " 834,\n",
       " 835,\n",
       " 836,\n",
       " 837,\n",
       " 838,\n",
       " 839,\n",
       " 840,\n",
       " 841,\n",
       " 842,\n",
       " 843,\n",
       " 844,\n",
       " 845,\n",
       " 846,\n",
       " 847,\n",
       " 848,\n",
       " 849,\n",
       " 850,\n",
       " 851,\n",
       " 852,\n",
       " 853,\n",
       " 854,\n",
       " 855,\n",
       " 856,\n",
       " 857,\n",
       " 858,\n",
       " 859,\n",
       " 860,\n",
       " 861,\n",
       " 862,\n",
       " 863,\n",
       " 864,\n",
       " 865,\n",
       " 866,\n",
       " 867,\n",
       " 868,\n",
       " 869,\n",
       " 870,\n",
       " 871,\n",
       " 872,\n",
       " 873,\n",
       " 874,\n",
       " 875,\n",
       " 876,\n",
       " 877,\n",
       " 878,\n",
       " 879,\n",
       " 880,\n",
       " 881,\n",
       " 882,\n",
       " 883,\n",
       " 884,\n",
       " 885,\n",
       " 886,\n",
       " 887,\n",
       " 888,\n",
       " 889,\n",
       " 890,\n",
       " 891,\n",
       " 892,\n",
       " 893,\n",
       " 894,\n",
       " 895,\n",
       " 896,\n",
       " 897,\n",
       " 898,\n",
       " 899,\n",
       " 900,\n",
       " 901,\n",
       " 902,\n",
       " 903,\n",
       " 904,\n",
       " 905,\n",
       " 906,\n",
       " 907,\n",
       " 908,\n",
       " 909,\n",
       " 910,\n",
       " 911,\n",
       " 912,\n",
       " 913,\n",
       " 914,\n",
       " 915,\n",
       " 916,\n",
       " 917,\n",
       " 918,\n",
       " 919,\n",
       " 920,\n",
       " 921,\n",
       " 922,\n",
       " 923,\n",
       " 924,\n",
       " 925,\n",
       " 926,\n",
       " 927,\n",
       " 928,\n",
       " 929,\n",
       " 930,\n",
       " 931,\n",
       " 932,\n",
       " 933,\n",
       " 934,\n",
       " 935,\n",
       " 936,\n",
       " 937,\n",
       " 938,\n",
       " 939,\n",
       " 940,\n",
       " 941,\n",
       " 942,\n",
       " 943,\n",
       " 944,\n",
       " 945,\n",
       " 946,\n",
       " 947,\n",
       " 948,\n",
       " 949,\n",
       " 950,\n",
       " 951,\n",
       " 952,\n",
       " 953,\n",
       " 954,\n",
       " 955,\n",
       " 956,\n",
       " 957,\n",
       " 958,\n",
       " 959,\n",
       " 960,\n",
       " 961,\n",
       " 962,\n",
       " 963,\n",
       " 964,\n",
       " 965,\n",
       " 966,\n",
       " 967,\n",
       " 968,\n",
       " 969,\n",
       " 970,\n",
       " 971,\n",
       " 972,\n",
       " 973,\n",
       " 974,\n",
       " 975,\n",
       " 976,\n",
       " 977,\n",
       " 978,\n",
       " 979,\n",
       " 980,\n",
       " 981,\n",
       " 982,\n",
       " 983,\n",
       " 984,\n",
       " 985,\n",
       " 986,\n",
       " 987,\n",
       " 988,\n",
       " 989,\n",
       " 990,\n",
       " 991,\n",
       " 992,\n",
       " 993,\n",
       " 994,\n",
       " 995,\n",
       " 996,\n",
       " 997,\n",
       " 998,\n",
       " 999]"
      ]
     },
     "execution_count": 160,
     "metadata": {},
     "output_type": "execute_result"
    }
   ],
   "source": [
    "list(range(1000))"
   ]
  },
  {
   "cell_type": "code",
   "execution_count": 162,
   "id": "f31b81d9",
   "metadata": {},
   "outputs": [],
   "source": [
    "fancy_list = [num * 2 for num in range(1000)]"
   ]
  },
  {
   "cell_type": "code",
   "execution_count": 163,
   "id": "e4314445",
   "metadata": {},
   "outputs": [
    {
     "data": {
      "text/plain": [
       "[0,\n",
       " 2,\n",
       " 4,\n",
       " 6,\n",
       " 8,\n",
       " 10,\n",
       " 12,\n",
       " 14,\n",
       " 16,\n",
       " 18,\n",
       " 20,\n",
       " 22,\n",
       " 24,\n",
       " 26,\n",
       " 28,\n",
       " 30,\n",
       " 32,\n",
       " 34,\n",
       " 36,\n",
       " 38,\n",
       " 40,\n",
       " 42,\n",
       " 44,\n",
       " 46,\n",
       " 48,\n",
       " 50,\n",
       " 52,\n",
       " 54,\n",
       " 56,\n",
       " 58,\n",
       " 60,\n",
       " 62,\n",
       " 64,\n",
       " 66,\n",
       " 68,\n",
       " 70,\n",
       " 72,\n",
       " 74,\n",
       " 76,\n",
       " 78,\n",
       " 80,\n",
       " 82,\n",
       " 84,\n",
       " 86,\n",
       " 88,\n",
       " 90,\n",
       " 92,\n",
       " 94,\n",
       " 96,\n",
       " 98,\n",
       " 100,\n",
       " 102,\n",
       " 104,\n",
       " 106,\n",
       " 108,\n",
       " 110,\n",
       " 112,\n",
       " 114,\n",
       " 116,\n",
       " 118,\n",
       " 120,\n",
       " 122,\n",
       " 124,\n",
       " 126,\n",
       " 128,\n",
       " 130,\n",
       " 132,\n",
       " 134,\n",
       " 136,\n",
       " 138,\n",
       " 140,\n",
       " 142,\n",
       " 144,\n",
       " 146,\n",
       " 148,\n",
       " 150,\n",
       " 152,\n",
       " 154,\n",
       " 156,\n",
       " 158,\n",
       " 160,\n",
       " 162,\n",
       " 164,\n",
       " 166,\n",
       " 168,\n",
       " 170,\n",
       " 172,\n",
       " 174,\n",
       " 176,\n",
       " 178,\n",
       " 180,\n",
       " 182,\n",
       " 184,\n",
       " 186,\n",
       " 188,\n",
       " 190,\n",
       " 192,\n",
       " 194,\n",
       " 196,\n",
       " 198,\n",
       " 200,\n",
       " 202,\n",
       " 204,\n",
       " 206,\n",
       " 208,\n",
       " 210,\n",
       " 212,\n",
       " 214,\n",
       " 216,\n",
       " 218,\n",
       " 220,\n",
       " 222,\n",
       " 224,\n",
       " 226,\n",
       " 228,\n",
       " 230,\n",
       " 232,\n",
       " 234,\n",
       " 236,\n",
       " 238,\n",
       " 240,\n",
       " 242,\n",
       " 244,\n",
       " 246,\n",
       " 248,\n",
       " 250,\n",
       " 252,\n",
       " 254,\n",
       " 256,\n",
       " 258,\n",
       " 260,\n",
       " 262,\n",
       " 264,\n",
       " 266,\n",
       " 268,\n",
       " 270,\n",
       " 272,\n",
       " 274,\n",
       " 276,\n",
       " 278,\n",
       " 280,\n",
       " 282,\n",
       " 284,\n",
       " 286,\n",
       " 288,\n",
       " 290,\n",
       " 292,\n",
       " 294,\n",
       " 296,\n",
       " 298,\n",
       " 300,\n",
       " 302,\n",
       " 304,\n",
       " 306,\n",
       " 308,\n",
       " 310,\n",
       " 312,\n",
       " 314,\n",
       " 316,\n",
       " 318,\n",
       " 320,\n",
       " 322,\n",
       " 324,\n",
       " 326,\n",
       " 328,\n",
       " 330,\n",
       " 332,\n",
       " 334,\n",
       " 336,\n",
       " 338,\n",
       " 340,\n",
       " 342,\n",
       " 344,\n",
       " 346,\n",
       " 348,\n",
       " 350,\n",
       " 352,\n",
       " 354,\n",
       " 356,\n",
       " 358,\n",
       " 360,\n",
       " 362,\n",
       " 364,\n",
       " 366,\n",
       " 368,\n",
       " 370,\n",
       " 372,\n",
       " 374,\n",
       " 376,\n",
       " 378,\n",
       " 380,\n",
       " 382,\n",
       " 384,\n",
       " 386,\n",
       " 388,\n",
       " 390,\n",
       " 392,\n",
       " 394,\n",
       " 396,\n",
       " 398,\n",
       " 400,\n",
       " 402,\n",
       " 404,\n",
       " 406,\n",
       " 408,\n",
       " 410,\n",
       " 412,\n",
       " 414,\n",
       " 416,\n",
       " 418,\n",
       " 420,\n",
       " 422,\n",
       " 424,\n",
       " 426,\n",
       " 428,\n",
       " 430,\n",
       " 432,\n",
       " 434,\n",
       " 436,\n",
       " 438,\n",
       " 440,\n",
       " 442,\n",
       " 444,\n",
       " 446,\n",
       " 448,\n",
       " 450,\n",
       " 452,\n",
       " 454,\n",
       " 456,\n",
       " 458,\n",
       " 460,\n",
       " 462,\n",
       " 464,\n",
       " 466,\n",
       " 468,\n",
       " 470,\n",
       " 472,\n",
       " 474,\n",
       " 476,\n",
       " 478,\n",
       " 480,\n",
       " 482,\n",
       " 484,\n",
       " 486,\n",
       " 488,\n",
       " 490,\n",
       " 492,\n",
       " 494,\n",
       " 496,\n",
       " 498,\n",
       " 500,\n",
       " 502,\n",
       " 504,\n",
       " 506,\n",
       " 508,\n",
       " 510,\n",
       " 512,\n",
       " 514,\n",
       " 516,\n",
       " 518,\n",
       " 520,\n",
       " 522,\n",
       " 524,\n",
       " 526,\n",
       " 528,\n",
       " 530,\n",
       " 532,\n",
       " 534,\n",
       " 536,\n",
       " 538,\n",
       " 540,\n",
       " 542,\n",
       " 544,\n",
       " 546,\n",
       " 548,\n",
       " 550,\n",
       " 552,\n",
       " 554,\n",
       " 556,\n",
       " 558,\n",
       " 560,\n",
       " 562,\n",
       " 564,\n",
       " 566,\n",
       " 568,\n",
       " 570,\n",
       " 572,\n",
       " 574,\n",
       " 576,\n",
       " 578,\n",
       " 580,\n",
       " 582,\n",
       " 584,\n",
       " 586,\n",
       " 588,\n",
       " 590,\n",
       " 592,\n",
       " 594,\n",
       " 596,\n",
       " 598,\n",
       " 600,\n",
       " 602,\n",
       " 604,\n",
       " 606,\n",
       " 608,\n",
       " 610,\n",
       " 612,\n",
       " 614,\n",
       " 616,\n",
       " 618,\n",
       " 620,\n",
       " 622,\n",
       " 624,\n",
       " 626,\n",
       " 628,\n",
       " 630,\n",
       " 632,\n",
       " 634,\n",
       " 636,\n",
       " 638,\n",
       " 640,\n",
       " 642,\n",
       " 644,\n",
       " 646,\n",
       " 648,\n",
       " 650,\n",
       " 652,\n",
       " 654,\n",
       " 656,\n",
       " 658,\n",
       " 660,\n",
       " 662,\n",
       " 664,\n",
       " 666,\n",
       " 668,\n",
       " 670,\n",
       " 672,\n",
       " 674,\n",
       " 676,\n",
       " 678,\n",
       " 680,\n",
       " 682,\n",
       " 684,\n",
       " 686,\n",
       " 688,\n",
       " 690,\n",
       " 692,\n",
       " 694,\n",
       " 696,\n",
       " 698,\n",
       " 700,\n",
       " 702,\n",
       " 704,\n",
       " 706,\n",
       " 708,\n",
       " 710,\n",
       " 712,\n",
       " 714,\n",
       " 716,\n",
       " 718,\n",
       " 720,\n",
       " 722,\n",
       " 724,\n",
       " 726,\n",
       " 728,\n",
       " 730,\n",
       " 732,\n",
       " 734,\n",
       " 736,\n",
       " 738,\n",
       " 740,\n",
       " 742,\n",
       " 744,\n",
       " 746,\n",
       " 748,\n",
       " 750,\n",
       " 752,\n",
       " 754,\n",
       " 756,\n",
       " 758,\n",
       " 760,\n",
       " 762,\n",
       " 764,\n",
       " 766,\n",
       " 768,\n",
       " 770,\n",
       " 772,\n",
       " 774,\n",
       " 776,\n",
       " 778,\n",
       " 780,\n",
       " 782,\n",
       " 784,\n",
       " 786,\n",
       " 788,\n",
       " 790,\n",
       " 792,\n",
       " 794,\n",
       " 796,\n",
       " 798,\n",
       " 800,\n",
       " 802,\n",
       " 804,\n",
       " 806,\n",
       " 808,\n",
       " 810,\n",
       " 812,\n",
       " 814,\n",
       " 816,\n",
       " 818,\n",
       " 820,\n",
       " 822,\n",
       " 824,\n",
       " 826,\n",
       " 828,\n",
       " 830,\n",
       " 832,\n",
       " 834,\n",
       " 836,\n",
       " 838,\n",
       " 840,\n",
       " 842,\n",
       " 844,\n",
       " 846,\n",
       " 848,\n",
       " 850,\n",
       " 852,\n",
       " 854,\n",
       " 856,\n",
       " 858,\n",
       " 860,\n",
       " 862,\n",
       " 864,\n",
       " 866,\n",
       " 868,\n",
       " 870,\n",
       " 872,\n",
       " 874,\n",
       " 876,\n",
       " 878,\n",
       " 880,\n",
       " 882,\n",
       " 884,\n",
       " 886,\n",
       " 888,\n",
       " 890,\n",
       " 892,\n",
       " 894,\n",
       " 896,\n",
       " 898,\n",
       " 900,\n",
       " 902,\n",
       " 904,\n",
       " 906,\n",
       " 908,\n",
       " 910,\n",
       " 912,\n",
       " 914,\n",
       " 916,\n",
       " 918,\n",
       " 920,\n",
       " 922,\n",
       " 924,\n",
       " 926,\n",
       " 928,\n",
       " 930,\n",
       " 932,\n",
       " 934,\n",
       " 936,\n",
       " 938,\n",
       " 940,\n",
       " 942,\n",
       " 944,\n",
       " 946,\n",
       " 948,\n",
       " 950,\n",
       " 952,\n",
       " 954,\n",
       " 956,\n",
       " 958,\n",
       " 960,\n",
       " 962,\n",
       " 964,\n",
       " 966,\n",
       " 968,\n",
       " 970,\n",
       " 972,\n",
       " 974,\n",
       " 976,\n",
       " 978,\n",
       " 980,\n",
       " 982,\n",
       " 984,\n",
       " 986,\n",
       " 988,\n",
       " 990,\n",
       " 992,\n",
       " 994,\n",
       " 996,\n",
       " 998,\n",
       " 1000,\n",
       " 1002,\n",
       " 1004,\n",
       " 1006,\n",
       " 1008,\n",
       " 1010,\n",
       " 1012,\n",
       " 1014,\n",
       " 1016,\n",
       " 1018,\n",
       " 1020,\n",
       " 1022,\n",
       " 1024,\n",
       " 1026,\n",
       " 1028,\n",
       " 1030,\n",
       " 1032,\n",
       " 1034,\n",
       " 1036,\n",
       " 1038,\n",
       " 1040,\n",
       " 1042,\n",
       " 1044,\n",
       " 1046,\n",
       " 1048,\n",
       " 1050,\n",
       " 1052,\n",
       " 1054,\n",
       " 1056,\n",
       " 1058,\n",
       " 1060,\n",
       " 1062,\n",
       " 1064,\n",
       " 1066,\n",
       " 1068,\n",
       " 1070,\n",
       " 1072,\n",
       " 1074,\n",
       " 1076,\n",
       " 1078,\n",
       " 1080,\n",
       " 1082,\n",
       " 1084,\n",
       " 1086,\n",
       " 1088,\n",
       " 1090,\n",
       " 1092,\n",
       " 1094,\n",
       " 1096,\n",
       " 1098,\n",
       " 1100,\n",
       " 1102,\n",
       " 1104,\n",
       " 1106,\n",
       " 1108,\n",
       " 1110,\n",
       " 1112,\n",
       " 1114,\n",
       " 1116,\n",
       " 1118,\n",
       " 1120,\n",
       " 1122,\n",
       " 1124,\n",
       " 1126,\n",
       " 1128,\n",
       " 1130,\n",
       " 1132,\n",
       " 1134,\n",
       " 1136,\n",
       " 1138,\n",
       " 1140,\n",
       " 1142,\n",
       " 1144,\n",
       " 1146,\n",
       " 1148,\n",
       " 1150,\n",
       " 1152,\n",
       " 1154,\n",
       " 1156,\n",
       " 1158,\n",
       " 1160,\n",
       " 1162,\n",
       " 1164,\n",
       " 1166,\n",
       " 1168,\n",
       " 1170,\n",
       " 1172,\n",
       " 1174,\n",
       " 1176,\n",
       " 1178,\n",
       " 1180,\n",
       " 1182,\n",
       " 1184,\n",
       " 1186,\n",
       " 1188,\n",
       " 1190,\n",
       " 1192,\n",
       " 1194,\n",
       " 1196,\n",
       " 1198,\n",
       " 1200,\n",
       " 1202,\n",
       " 1204,\n",
       " 1206,\n",
       " 1208,\n",
       " 1210,\n",
       " 1212,\n",
       " 1214,\n",
       " 1216,\n",
       " 1218,\n",
       " 1220,\n",
       " 1222,\n",
       " 1224,\n",
       " 1226,\n",
       " 1228,\n",
       " 1230,\n",
       " 1232,\n",
       " 1234,\n",
       " 1236,\n",
       " 1238,\n",
       " 1240,\n",
       " 1242,\n",
       " 1244,\n",
       " 1246,\n",
       " 1248,\n",
       " 1250,\n",
       " 1252,\n",
       " 1254,\n",
       " 1256,\n",
       " 1258,\n",
       " 1260,\n",
       " 1262,\n",
       " 1264,\n",
       " 1266,\n",
       " 1268,\n",
       " 1270,\n",
       " 1272,\n",
       " 1274,\n",
       " 1276,\n",
       " 1278,\n",
       " 1280,\n",
       " 1282,\n",
       " 1284,\n",
       " 1286,\n",
       " 1288,\n",
       " 1290,\n",
       " 1292,\n",
       " 1294,\n",
       " 1296,\n",
       " 1298,\n",
       " 1300,\n",
       " 1302,\n",
       " 1304,\n",
       " 1306,\n",
       " 1308,\n",
       " 1310,\n",
       " 1312,\n",
       " 1314,\n",
       " 1316,\n",
       " 1318,\n",
       " 1320,\n",
       " 1322,\n",
       " 1324,\n",
       " 1326,\n",
       " 1328,\n",
       " 1330,\n",
       " 1332,\n",
       " 1334,\n",
       " 1336,\n",
       " 1338,\n",
       " 1340,\n",
       " 1342,\n",
       " 1344,\n",
       " 1346,\n",
       " 1348,\n",
       " 1350,\n",
       " 1352,\n",
       " 1354,\n",
       " 1356,\n",
       " 1358,\n",
       " 1360,\n",
       " 1362,\n",
       " 1364,\n",
       " 1366,\n",
       " 1368,\n",
       " 1370,\n",
       " 1372,\n",
       " 1374,\n",
       " 1376,\n",
       " 1378,\n",
       " 1380,\n",
       " 1382,\n",
       " 1384,\n",
       " 1386,\n",
       " 1388,\n",
       " 1390,\n",
       " 1392,\n",
       " 1394,\n",
       " 1396,\n",
       " 1398,\n",
       " 1400,\n",
       " 1402,\n",
       " 1404,\n",
       " 1406,\n",
       " 1408,\n",
       " 1410,\n",
       " 1412,\n",
       " 1414,\n",
       " 1416,\n",
       " 1418,\n",
       " 1420,\n",
       " 1422,\n",
       " 1424,\n",
       " 1426,\n",
       " 1428,\n",
       " 1430,\n",
       " 1432,\n",
       " 1434,\n",
       " 1436,\n",
       " 1438,\n",
       " 1440,\n",
       " 1442,\n",
       " 1444,\n",
       " 1446,\n",
       " 1448,\n",
       " 1450,\n",
       " 1452,\n",
       " 1454,\n",
       " 1456,\n",
       " 1458,\n",
       " 1460,\n",
       " 1462,\n",
       " 1464,\n",
       " 1466,\n",
       " 1468,\n",
       " 1470,\n",
       " 1472,\n",
       " 1474,\n",
       " 1476,\n",
       " 1478,\n",
       " 1480,\n",
       " 1482,\n",
       " 1484,\n",
       " 1486,\n",
       " 1488,\n",
       " 1490,\n",
       " 1492,\n",
       " 1494,\n",
       " 1496,\n",
       " 1498,\n",
       " 1500,\n",
       " 1502,\n",
       " 1504,\n",
       " 1506,\n",
       " 1508,\n",
       " 1510,\n",
       " 1512,\n",
       " 1514,\n",
       " 1516,\n",
       " 1518,\n",
       " 1520,\n",
       " 1522,\n",
       " 1524,\n",
       " 1526,\n",
       " 1528,\n",
       " 1530,\n",
       " 1532,\n",
       " 1534,\n",
       " 1536,\n",
       " 1538,\n",
       " 1540,\n",
       " 1542,\n",
       " 1544,\n",
       " 1546,\n",
       " 1548,\n",
       " 1550,\n",
       " 1552,\n",
       " 1554,\n",
       " 1556,\n",
       " 1558,\n",
       " 1560,\n",
       " 1562,\n",
       " 1564,\n",
       " 1566,\n",
       " 1568,\n",
       " 1570,\n",
       " 1572,\n",
       " 1574,\n",
       " 1576,\n",
       " 1578,\n",
       " 1580,\n",
       " 1582,\n",
       " 1584,\n",
       " 1586,\n",
       " 1588,\n",
       " 1590,\n",
       " 1592,\n",
       " 1594,\n",
       " 1596,\n",
       " 1598,\n",
       " 1600,\n",
       " 1602,\n",
       " 1604,\n",
       " 1606,\n",
       " 1608,\n",
       " 1610,\n",
       " 1612,\n",
       " 1614,\n",
       " 1616,\n",
       " 1618,\n",
       " 1620,\n",
       " 1622,\n",
       " 1624,\n",
       " 1626,\n",
       " 1628,\n",
       " 1630,\n",
       " 1632,\n",
       " 1634,\n",
       " 1636,\n",
       " 1638,\n",
       " 1640,\n",
       " 1642,\n",
       " 1644,\n",
       " 1646,\n",
       " 1648,\n",
       " 1650,\n",
       " 1652,\n",
       " 1654,\n",
       " 1656,\n",
       " 1658,\n",
       " 1660,\n",
       " 1662,\n",
       " 1664,\n",
       " 1666,\n",
       " 1668,\n",
       " 1670,\n",
       " 1672,\n",
       " 1674,\n",
       " 1676,\n",
       " 1678,\n",
       " 1680,\n",
       " 1682,\n",
       " 1684,\n",
       " 1686,\n",
       " 1688,\n",
       " 1690,\n",
       " 1692,\n",
       " 1694,\n",
       " 1696,\n",
       " 1698,\n",
       " 1700,\n",
       " 1702,\n",
       " 1704,\n",
       " 1706,\n",
       " 1708,\n",
       " 1710,\n",
       " 1712,\n",
       " 1714,\n",
       " 1716,\n",
       " 1718,\n",
       " 1720,\n",
       " 1722,\n",
       " 1724,\n",
       " 1726,\n",
       " 1728,\n",
       " 1730,\n",
       " 1732,\n",
       " 1734,\n",
       " 1736,\n",
       " 1738,\n",
       " 1740,\n",
       " 1742,\n",
       " 1744,\n",
       " 1746,\n",
       " 1748,\n",
       " 1750,\n",
       " 1752,\n",
       " 1754,\n",
       " 1756,\n",
       " 1758,\n",
       " 1760,\n",
       " 1762,\n",
       " 1764,\n",
       " 1766,\n",
       " 1768,\n",
       " 1770,\n",
       " 1772,\n",
       " 1774,\n",
       " 1776,\n",
       " 1778,\n",
       " 1780,\n",
       " 1782,\n",
       " 1784,\n",
       " 1786,\n",
       " 1788,\n",
       " 1790,\n",
       " 1792,\n",
       " 1794,\n",
       " 1796,\n",
       " 1798,\n",
       " 1800,\n",
       " 1802,\n",
       " 1804,\n",
       " 1806,\n",
       " 1808,\n",
       " 1810,\n",
       " 1812,\n",
       " 1814,\n",
       " 1816,\n",
       " 1818,\n",
       " 1820,\n",
       " 1822,\n",
       " 1824,\n",
       " 1826,\n",
       " 1828,\n",
       " 1830,\n",
       " 1832,\n",
       " 1834,\n",
       " 1836,\n",
       " 1838,\n",
       " 1840,\n",
       " 1842,\n",
       " 1844,\n",
       " 1846,\n",
       " 1848,\n",
       " 1850,\n",
       " 1852,\n",
       " 1854,\n",
       " 1856,\n",
       " 1858,\n",
       " 1860,\n",
       " 1862,\n",
       " 1864,\n",
       " 1866,\n",
       " 1868,\n",
       " 1870,\n",
       " 1872,\n",
       " 1874,\n",
       " 1876,\n",
       " 1878,\n",
       " 1880,\n",
       " 1882,\n",
       " 1884,\n",
       " 1886,\n",
       " 1888,\n",
       " 1890,\n",
       " 1892,\n",
       " 1894,\n",
       " 1896,\n",
       " 1898,\n",
       " 1900,\n",
       " 1902,\n",
       " 1904,\n",
       " 1906,\n",
       " 1908,\n",
       " 1910,\n",
       " 1912,\n",
       " 1914,\n",
       " 1916,\n",
       " 1918,\n",
       " 1920,\n",
       " 1922,\n",
       " 1924,\n",
       " 1926,\n",
       " 1928,\n",
       " 1930,\n",
       " 1932,\n",
       " 1934,\n",
       " 1936,\n",
       " 1938,\n",
       " 1940,\n",
       " 1942,\n",
       " 1944,\n",
       " 1946,\n",
       " 1948,\n",
       " 1950,\n",
       " 1952,\n",
       " 1954,\n",
       " 1956,\n",
       " 1958,\n",
       " 1960,\n",
       " 1962,\n",
       " 1964,\n",
       " 1966,\n",
       " 1968,\n",
       " 1970,\n",
       " 1972,\n",
       " 1974,\n",
       " 1976,\n",
       " 1978,\n",
       " 1980,\n",
       " 1982,\n",
       " 1984,\n",
       " 1986,\n",
       " 1988,\n",
       " 1990,\n",
       " 1992,\n",
       " 1994,\n",
       " 1996,\n",
       " 1998]"
      ]
     },
     "execution_count": 163,
     "metadata": {},
     "output_type": "execute_result"
    }
   ],
   "source": [
    "fancy_list"
   ]
  },
  {
   "cell_type": "code",
   "execution_count": 164,
   "id": "b5a123e1",
   "metadata": {},
   "outputs": [],
   "source": [
    "# num is just an alias; can use anything in its place and get same results\n",
    "fancy_list = [kdjsh * 4 for kdjsh in range(1000)]"
   ]
  },
  {
   "cell_type": "code",
   "execution_count": 165,
   "id": "b31b033b",
   "metadata": {},
   "outputs": [
    {
     "data": {
      "text/plain": [
       "[0,\n",
       " 4,\n",
       " 8,\n",
       " 12,\n",
       " 16,\n",
       " 20,\n",
       " 24,\n",
       " 28,\n",
       " 32,\n",
       " 36,\n",
       " 40,\n",
       " 44,\n",
       " 48,\n",
       " 52,\n",
       " 56,\n",
       " 60,\n",
       " 64,\n",
       " 68,\n",
       " 72,\n",
       " 76,\n",
       " 80,\n",
       " 84,\n",
       " 88,\n",
       " 92,\n",
       " 96,\n",
       " 100,\n",
       " 104,\n",
       " 108,\n",
       " 112,\n",
       " 116,\n",
       " 120,\n",
       " 124,\n",
       " 128,\n",
       " 132,\n",
       " 136,\n",
       " 140,\n",
       " 144,\n",
       " 148,\n",
       " 152,\n",
       " 156,\n",
       " 160,\n",
       " 164,\n",
       " 168,\n",
       " 172,\n",
       " 176,\n",
       " 180,\n",
       " 184,\n",
       " 188,\n",
       " 192,\n",
       " 196,\n",
       " 200,\n",
       " 204,\n",
       " 208,\n",
       " 212,\n",
       " 216,\n",
       " 220,\n",
       " 224,\n",
       " 228,\n",
       " 232,\n",
       " 236,\n",
       " 240,\n",
       " 244,\n",
       " 248,\n",
       " 252,\n",
       " 256,\n",
       " 260,\n",
       " 264,\n",
       " 268,\n",
       " 272,\n",
       " 276,\n",
       " 280,\n",
       " 284,\n",
       " 288,\n",
       " 292,\n",
       " 296,\n",
       " 300,\n",
       " 304,\n",
       " 308,\n",
       " 312,\n",
       " 316,\n",
       " 320,\n",
       " 324,\n",
       " 328,\n",
       " 332,\n",
       " 336,\n",
       " 340,\n",
       " 344,\n",
       " 348,\n",
       " 352,\n",
       " 356,\n",
       " 360,\n",
       " 364,\n",
       " 368,\n",
       " 372,\n",
       " 376,\n",
       " 380,\n",
       " 384,\n",
       " 388,\n",
       " 392,\n",
       " 396,\n",
       " 400,\n",
       " 404,\n",
       " 408,\n",
       " 412,\n",
       " 416,\n",
       " 420,\n",
       " 424,\n",
       " 428,\n",
       " 432,\n",
       " 436,\n",
       " 440,\n",
       " 444,\n",
       " 448,\n",
       " 452,\n",
       " 456,\n",
       " 460,\n",
       " 464,\n",
       " 468,\n",
       " 472,\n",
       " 476,\n",
       " 480,\n",
       " 484,\n",
       " 488,\n",
       " 492,\n",
       " 496,\n",
       " 500,\n",
       " 504,\n",
       " 508,\n",
       " 512,\n",
       " 516,\n",
       " 520,\n",
       " 524,\n",
       " 528,\n",
       " 532,\n",
       " 536,\n",
       " 540,\n",
       " 544,\n",
       " 548,\n",
       " 552,\n",
       " 556,\n",
       " 560,\n",
       " 564,\n",
       " 568,\n",
       " 572,\n",
       " 576,\n",
       " 580,\n",
       " 584,\n",
       " 588,\n",
       " 592,\n",
       " 596,\n",
       " 600,\n",
       " 604,\n",
       " 608,\n",
       " 612,\n",
       " 616,\n",
       " 620,\n",
       " 624,\n",
       " 628,\n",
       " 632,\n",
       " 636,\n",
       " 640,\n",
       " 644,\n",
       " 648,\n",
       " 652,\n",
       " 656,\n",
       " 660,\n",
       " 664,\n",
       " 668,\n",
       " 672,\n",
       " 676,\n",
       " 680,\n",
       " 684,\n",
       " 688,\n",
       " 692,\n",
       " 696,\n",
       " 700,\n",
       " 704,\n",
       " 708,\n",
       " 712,\n",
       " 716,\n",
       " 720,\n",
       " 724,\n",
       " 728,\n",
       " 732,\n",
       " 736,\n",
       " 740,\n",
       " 744,\n",
       " 748,\n",
       " 752,\n",
       " 756,\n",
       " 760,\n",
       " 764,\n",
       " 768,\n",
       " 772,\n",
       " 776,\n",
       " 780,\n",
       " 784,\n",
       " 788,\n",
       " 792,\n",
       " 796,\n",
       " 800,\n",
       " 804,\n",
       " 808,\n",
       " 812,\n",
       " 816,\n",
       " 820,\n",
       " 824,\n",
       " 828,\n",
       " 832,\n",
       " 836,\n",
       " 840,\n",
       " 844,\n",
       " 848,\n",
       " 852,\n",
       " 856,\n",
       " 860,\n",
       " 864,\n",
       " 868,\n",
       " 872,\n",
       " 876,\n",
       " 880,\n",
       " 884,\n",
       " 888,\n",
       " 892,\n",
       " 896,\n",
       " 900,\n",
       " 904,\n",
       " 908,\n",
       " 912,\n",
       " 916,\n",
       " 920,\n",
       " 924,\n",
       " 928,\n",
       " 932,\n",
       " 936,\n",
       " 940,\n",
       " 944,\n",
       " 948,\n",
       " 952,\n",
       " 956,\n",
       " 960,\n",
       " 964,\n",
       " 968,\n",
       " 972,\n",
       " 976,\n",
       " 980,\n",
       " 984,\n",
       " 988,\n",
       " 992,\n",
       " 996,\n",
       " 1000,\n",
       " 1004,\n",
       " 1008,\n",
       " 1012,\n",
       " 1016,\n",
       " 1020,\n",
       " 1024,\n",
       " 1028,\n",
       " 1032,\n",
       " 1036,\n",
       " 1040,\n",
       " 1044,\n",
       " 1048,\n",
       " 1052,\n",
       " 1056,\n",
       " 1060,\n",
       " 1064,\n",
       " 1068,\n",
       " 1072,\n",
       " 1076,\n",
       " 1080,\n",
       " 1084,\n",
       " 1088,\n",
       " 1092,\n",
       " 1096,\n",
       " 1100,\n",
       " 1104,\n",
       " 1108,\n",
       " 1112,\n",
       " 1116,\n",
       " 1120,\n",
       " 1124,\n",
       " 1128,\n",
       " 1132,\n",
       " 1136,\n",
       " 1140,\n",
       " 1144,\n",
       " 1148,\n",
       " 1152,\n",
       " 1156,\n",
       " 1160,\n",
       " 1164,\n",
       " 1168,\n",
       " 1172,\n",
       " 1176,\n",
       " 1180,\n",
       " 1184,\n",
       " 1188,\n",
       " 1192,\n",
       " 1196,\n",
       " 1200,\n",
       " 1204,\n",
       " 1208,\n",
       " 1212,\n",
       " 1216,\n",
       " 1220,\n",
       " 1224,\n",
       " 1228,\n",
       " 1232,\n",
       " 1236,\n",
       " 1240,\n",
       " 1244,\n",
       " 1248,\n",
       " 1252,\n",
       " 1256,\n",
       " 1260,\n",
       " 1264,\n",
       " 1268,\n",
       " 1272,\n",
       " 1276,\n",
       " 1280,\n",
       " 1284,\n",
       " 1288,\n",
       " 1292,\n",
       " 1296,\n",
       " 1300,\n",
       " 1304,\n",
       " 1308,\n",
       " 1312,\n",
       " 1316,\n",
       " 1320,\n",
       " 1324,\n",
       " 1328,\n",
       " 1332,\n",
       " 1336,\n",
       " 1340,\n",
       " 1344,\n",
       " 1348,\n",
       " 1352,\n",
       " 1356,\n",
       " 1360,\n",
       " 1364,\n",
       " 1368,\n",
       " 1372,\n",
       " 1376,\n",
       " 1380,\n",
       " 1384,\n",
       " 1388,\n",
       " 1392,\n",
       " 1396,\n",
       " 1400,\n",
       " 1404,\n",
       " 1408,\n",
       " 1412,\n",
       " 1416,\n",
       " 1420,\n",
       " 1424,\n",
       " 1428,\n",
       " 1432,\n",
       " 1436,\n",
       " 1440,\n",
       " 1444,\n",
       " 1448,\n",
       " 1452,\n",
       " 1456,\n",
       " 1460,\n",
       " 1464,\n",
       " 1468,\n",
       " 1472,\n",
       " 1476,\n",
       " 1480,\n",
       " 1484,\n",
       " 1488,\n",
       " 1492,\n",
       " 1496,\n",
       " 1500,\n",
       " 1504,\n",
       " 1508,\n",
       " 1512,\n",
       " 1516,\n",
       " 1520,\n",
       " 1524,\n",
       " 1528,\n",
       " 1532,\n",
       " 1536,\n",
       " 1540,\n",
       " 1544,\n",
       " 1548,\n",
       " 1552,\n",
       " 1556,\n",
       " 1560,\n",
       " 1564,\n",
       " 1568,\n",
       " 1572,\n",
       " 1576,\n",
       " 1580,\n",
       " 1584,\n",
       " 1588,\n",
       " 1592,\n",
       " 1596,\n",
       " 1600,\n",
       " 1604,\n",
       " 1608,\n",
       " 1612,\n",
       " 1616,\n",
       " 1620,\n",
       " 1624,\n",
       " 1628,\n",
       " 1632,\n",
       " 1636,\n",
       " 1640,\n",
       " 1644,\n",
       " 1648,\n",
       " 1652,\n",
       " 1656,\n",
       " 1660,\n",
       " 1664,\n",
       " 1668,\n",
       " 1672,\n",
       " 1676,\n",
       " 1680,\n",
       " 1684,\n",
       " 1688,\n",
       " 1692,\n",
       " 1696,\n",
       " 1700,\n",
       " 1704,\n",
       " 1708,\n",
       " 1712,\n",
       " 1716,\n",
       " 1720,\n",
       " 1724,\n",
       " 1728,\n",
       " 1732,\n",
       " 1736,\n",
       " 1740,\n",
       " 1744,\n",
       " 1748,\n",
       " 1752,\n",
       " 1756,\n",
       " 1760,\n",
       " 1764,\n",
       " 1768,\n",
       " 1772,\n",
       " 1776,\n",
       " 1780,\n",
       " 1784,\n",
       " 1788,\n",
       " 1792,\n",
       " 1796,\n",
       " 1800,\n",
       " 1804,\n",
       " 1808,\n",
       " 1812,\n",
       " 1816,\n",
       " 1820,\n",
       " 1824,\n",
       " 1828,\n",
       " 1832,\n",
       " 1836,\n",
       " 1840,\n",
       " 1844,\n",
       " 1848,\n",
       " 1852,\n",
       " 1856,\n",
       " 1860,\n",
       " 1864,\n",
       " 1868,\n",
       " 1872,\n",
       " 1876,\n",
       " 1880,\n",
       " 1884,\n",
       " 1888,\n",
       " 1892,\n",
       " 1896,\n",
       " 1900,\n",
       " 1904,\n",
       " 1908,\n",
       " 1912,\n",
       " 1916,\n",
       " 1920,\n",
       " 1924,\n",
       " 1928,\n",
       " 1932,\n",
       " 1936,\n",
       " 1940,\n",
       " 1944,\n",
       " 1948,\n",
       " 1952,\n",
       " 1956,\n",
       " 1960,\n",
       " 1964,\n",
       " 1968,\n",
       " 1972,\n",
       " 1976,\n",
       " 1980,\n",
       " 1984,\n",
       " 1988,\n",
       " 1992,\n",
       " 1996,\n",
       " 2000,\n",
       " 2004,\n",
       " 2008,\n",
       " 2012,\n",
       " 2016,\n",
       " 2020,\n",
       " 2024,\n",
       " 2028,\n",
       " 2032,\n",
       " 2036,\n",
       " 2040,\n",
       " 2044,\n",
       " 2048,\n",
       " 2052,\n",
       " 2056,\n",
       " 2060,\n",
       " 2064,\n",
       " 2068,\n",
       " 2072,\n",
       " 2076,\n",
       " 2080,\n",
       " 2084,\n",
       " 2088,\n",
       " 2092,\n",
       " 2096,\n",
       " 2100,\n",
       " 2104,\n",
       " 2108,\n",
       " 2112,\n",
       " 2116,\n",
       " 2120,\n",
       " 2124,\n",
       " 2128,\n",
       " 2132,\n",
       " 2136,\n",
       " 2140,\n",
       " 2144,\n",
       " 2148,\n",
       " 2152,\n",
       " 2156,\n",
       " 2160,\n",
       " 2164,\n",
       " 2168,\n",
       " 2172,\n",
       " 2176,\n",
       " 2180,\n",
       " 2184,\n",
       " 2188,\n",
       " 2192,\n",
       " 2196,\n",
       " 2200,\n",
       " 2204,\n",
       " 2208,\n",
       " 2212,\n",
       " 2216,\n",
       " 2220,\n",
       " 2224,\n",
       " 2228,\n",
       " 2232,\n",
       " 2236,\n",
       " 2240,\n",
       " 2244,\n",
       " 2248,\n",
       " 2252,\n",
       " 2256,\n",
       " 2260,\n",
       " 2264,\n",
       " 2268,\n",
       " 2272,\n",
       " 2276,\n",
       " 2280,\n",
       " 2284,\n",
       " 2288,\n",
       " 2292,\n",
       " 2296,\n",
       " 2300,\n",
       " 2304,\n",
       " 2308,\n",
       " 2312,\n",
       " 2316,\n",
       " 2320,\n",
       " 2324,\n",
       " 2328,\n",
       " 2332,\n",
       " 2336,\n",
       " 2340,\n",
       " 2344,\n",
       " 2348,\n",
       " 2352,\n",
       " 2356,\n",
       " 2360,\n",
       " 2364,\n",
       " 2368,\n",
       " 2372,\n",
       " 2376,\n",
       " 2380,\n",
       " 2384,\n",
       " 2388,\n",
       " 2392,\n",
       " 2396,\n",
       " 2400,\n",
       " 2404,\n",
       " 2408,\n",
       " 2412,\n",
       " 2416,\n",
       " 2420,\n",
       " 2424,\n",
       " 2428,\n",
       " 2432,\n",
       " 2436,\n",
       " 2440,\n",
       " 2444,\n",
       " 2448,\n",
       " 2452,\n",
       " 2456,\n",
       " 2460,\n",
       " 2464,\n",
       " 2468,\n",
       " 2472,\n",
       " 2476,\n",
       " 2480,\n",
       " 2484,\n",
       " 2488,\n",
       " 2492,\n",
       " 2496,\n",
       " 2500,\n",
       " 2504,\n",
       " 2508,\n",
       " 2512,\n",
       " 2516,\n",
       " 2520,\n",
       " 2524,\n",
       " 2528,\n",
       " 2532,\n",
       " 2536,\n",
       " 2540,\n",
       " 2544,\n",
       " 2548,\n",
       " 2552,\n",
       " 2556,\n",
       " 2560,\n",
       " 2564,\n",
       " 2568,\n",
       " 2572,\n",
       " 2576,\n",
       " 2580,\n",
       " 2584,\n",
       " 2588,\n",
       " 2592,\n",
       " 2596,\n",
       " 2600,\n",
       " 2604,\n",
       " 2608,\n",
       " 2612,\n",
       " 2616,\n",
       " 2620,\n",
       " 2624,\n",
       " 2628,\n",
       " 2632,\n",
       " 2636,\n",
       " 2640,\n",
       " 2644,\n",
       " 2648,\n",
       " 2652,\n",
       " 2656,\n",
       " 2660,\n",
       " 2664,\n",
       " 2668,\n",
       " 2672,\n",
       " 2676,\n",
       " 2680,\n",
       " 2684,\n",
       " 2688,\n",
       " 2692,\n",
       " 2696,\n",
       " 2700,\n",
       " 2704,\n",
       " 2708,\n",
       " 2712,\n",
       " 2716,\n",
       " 2720,\n",
       " 2724,\n",
       " 2728,\n",
       " 2732,\n",
       " 2736,\n",
       " 2740,\n",
       " 2744,\n",
       " 2748,\n",
       " 2752,\n",
       " 2756,\n",
       " 2760,\n",
       " 2764,\n",
       " 2768,\n",
       " 2772,\n",
       " 2776,\n",
       " 2780,\n",
       " 2784,\n",
       " 2788,\n",
       " 2792,\n",
       " 2796,\n",
       " 2800,\n",
       " 2804,\n",
       " 2808,\n",
       " 2812,\n",
       " 2816,\n",
       " 2820,\n",
       " 2824,\n",
       " 2828,\n",
       " 2832,\n",
       " 2836,\n",
       " 2840,\n",
       " 2844,\n",
       " 2848,\n",
       " 2852,\n",
       " 2856,\n",
       " 2860,\n",
       " 2864,\n",
       " 2868,\n",
       " 2872,\n",
       " 2876,\n",
       " 2880,\n",
       " 2884,\n",
       " 2888,\n",
       " 2892,\n",
       " 2896,\n",
       " 2900,\n",
       " 2904,\n",
       " 2908,\n",
       " 2912,\n",
       " 2916,\n",
       " 2920,\n",
       " 2924,\n",
       " 2928,\n",
       " 2932,\n",
       " 2936,\n",
       " 2940,\n",
       " 2944,\n",
       " 2948,\n",
       " 2952,\n",
       " 2956,\n",
       " 2960,\n",
       " 2964,\n",
       " 2968,\n",
       " 2972,\n",
       " 2976,\n",
       " 2980,\n",
       " 2984,\n",
       " 2988,\n",
       " 2992,\n",
       " 2996,\n",
       " 3000,\n",
       " 3004,\n",
       " 3008,\n",
       " 3012,\n",
       " 3016,\n",
       " 3020,\n",
       " 3024,\n",
       " 3028,\n",
       " 3032,\n",
       " 3036,\n",
       " 3040,\n",
       " 3044,\n",
       " 3048,\n",
       " 3052,\n",
       " 3056,\n",
       " 3060,\n",
       " 3064,\n",
       " 3068,\n",
       " 3072,\n",
       " 3076,\n",
       " 3080,\n",
       " 3084,\n",
       " 3088,\n",
       " 3092,\n",
       " 3096,\n",
       " 3100,\n",
       " 3104,\n",
       " 3108,\n",
       " 3112,\n",
       " 3116,\n",
       " 3120,\n",
       " 3124,\n",
       " 3128,\n",
       " 3132,\n",
       " 3136,\n",
       " 3140,\n",
       " 3144,\n",
       " 3148,\n",
       " 3152,\n",
       " 3156,\n",
       " 3160,\n",
       " 3164,\n",
       " 3168,\n",
       " 3172,\n",
       " 3176,\n",
       " 3180,\n",
       " 3184,\n",
       " 3188,\n",
       " 3192,\n",
       " 3196,\n",
       " 3200,\n",
       " 3204,\n",
       " 3208,\n",
       " 3212,\n",
       " 3216,\n",
       " 3220,\n",
       " 3224,\n",
       " 3228,\n",
       " 3232,\n",
       " 3236,\n",
       " 3240,\n",
       " 3244,\n",
       " 3248,\n",
       " 3252,\n",
       " 3256,\n",
       " 3260,\n",
       " 3264,\n",
       " 3268,\n",
       " 3272,\n",
       " 3276,\n",
       " 3280,\n",
       " 3284,\n",
       " 3288,\n",
       " 3292,\n",
       " 3296,\n",
       " 3300,\n",
       " 3304,\n",
       " 3308,\n",
       " 3312,\n",
       " 3316,\n",
       " 3320,\n",
       " 3324,\n",
       " 3328,\n",
       " 3332,\n",
       " 3336,\n",
       " 3340,\n",
       " 3344,\n",
       " 3348,\n",
       " 3352,\n",
       " 3356,\n",
       " 3360,\n",
       " 3364,\n",
       " 3368,\n",
       " 3372,\n",
       " 3376,\n",
       " 3380,\n",
       " 3384,\n",
       " 3388,\n",
       " 3392,\n",
       " 3396,\n",
       " 3400,\n",
       " 3404,\n",
       " 3408,\n",
       " 3412,\n",
       " 3416,\n",
       " 3420,\n",
       " 3424,\n",
       " 3428,\n",
       " 3432,\n",
       " 3436,\n",
       " 3440,\n",
       " 3444,\n",
       " 3448,\n",
       " 3452,\n",
       " 3456,\n",
       " 3460,\n",
       " 3464,\n",
       " 3468,\n",
       " 3472,\n",
       " 3476,\n",
       " 3480,\n",
       " 3484,\n",
       " 3488,\n",
       " 3492,\n",
       " 3496,\n",
       " 3500,\n",
       " 3504,\n",
       " 3508,\n",
       " 3512,\n",
       " 3516,\n",
       " 3520,\n",
       " 3524,\n",
       " 3528,\n",
       " 3532,\n",
       " 3536,\n",
       " 3540,\n",
       " 3544,\n",
       " 3548,\n",
       " 3552,\n",
       " 3556,\n",
       " 3560,\n",
       " 3564,\n",
       " 3568,\n",
       " 3572,\n",
       " 3576,\n",
       " 3580,\n",
       " 3584,\n",
       " 3588,\n",
       " 3592,\n",
       " 3596,\n",
       " 3600,\n",
       " 3604,\n",
       " 3608,\n",
       " 3612,\n",
       " 3616,\n",
       " 3620,\n",
       " 3624,\n",
       " 3628,\n",
       " 3632,\n",
       " 3636,\n",
       " 3640,\n",
       " 3644,\n",
       " 3648,\n",
       " 3652,\n",
       " 3656,\n",
       " 3660,\n",
       " 3664,\n",
       " 3668,\n",
       " 3672,\n",
       " 3676,\n",
       " 3680,\n",
       " 3684,\n",
       " 3688,\n",
       " 3692,\n",
       " 3696,\n",
       " 3700,\n",
       " 3704,\n",
       " 3708,\n",
       " 3712,\n",
       " 3716,\n",
       " 3720,\n",
       " 3724,\n",
       " 3728,\n",
       " 3732,\n",
       " 3736,\n",
       " 3740,\n",
       " 3744,\n",
       " 3748,\n",
       " 3752,\n",
       " 3756,\n",
       " 3760,\n",
       " 3764,\n",
       " 3768,\n",
       " 3772,\n",
       " 3776,\n",
       " 3780,\n",
       " 3784,\n",
       " 3788,\n",
       " 3792,\n",
       " 3796,\n",
       " 3800,\n",
       " 3804,\n",
       " 3808,\n",
       " 3812,\n",
       " 3816,\n",
       " 3820,\n",
       " 3824,\n",
       " 3828,\n",
       " 3832,\n",
       " 3836,\n",
       " 3840,\n",
       " 3844,\n",
       " 3848,\n",
       " 3852,\n",
       " 3856,\n",
       " 3860,\n",
       " 3864,\n",
       " 3868,\n",
       " 3872,\n",
       " 3876,\n",
       " 3880,\n",
       " 3884,\n",
       " 3888,\n",
       " 3892,\n",
       " 3896,\n",
       " 3900,\n",
       " 3904,\n",
       " 3908,\n",
       " 3912,\n",
       " 3916,\n",
       " 3920,\n",
       " 3924,\n",
       " 3928,\n",
       " 3932,\n",
       " 3936,\n",
       " 3940,\n",
       " 3944,\n",
       " 3948,\n",
       " 3952,\n",
       " 3956,\n",
       " 3960,\n",
       " 3964,\n",
       " 3968,\n",
       " 3972,\n",
       " 3976,\n",
       " 3980,\n",
       " 3984,\n",
       " 3988,\n",
       " 3992,\n",
       " 3996]"
      ]
     },
     "execution_count": 165,
     "metadata": {},
     "output_type": "execute_result"
    }
   ],
   "source": [
    "fancy_list"
   ]
  },
  {
   "cell_type": "code",
   "execution_count": 166,
   "id": "51408fe8",
   "metadata": {},
   "outputs": [],
   "source": [
    "even_list = [x * 4 for x in range(1000) if x % 2 == 0]"
   ]
  },
  {
   "cell_type": "code",
   "execution_count": 167,
   "id": "f385a989",
   "metadata": {},
   "outputs": [
    {
     "data": {
      "text/plain": [
       "[0,\n",
       " 8,\n",
       " 16,\n",
       " 24,\n",
       " 32,\n",
       " 40,\n",
       " 48,\n",
       " 56,\n",
       " 64,\n",
       " 72,\n",
       " 80,\n",
       " 88,\n",
       " 96,\n",
       " 104,\n",
       " 112,\n",
       " 120,\n",
       " 128,\n",
       " 136,\n",
       " 144,\n",
       " 152,\n",
       " 160,\n",
       " 168,\n",
       " 176,\n",
       " 184,\n",
       " 192,\n",
       " 200,\n",
       " 208,\n",
       " 216,\n",
       " 224,\n",
       " 232,\n",
       " 240,\n",
       " 248,\n",
       " 256,\n",
       " 264,\n",
       " 272,\n",
       " 280,\n",
       " 288,\n",
       " 296,\n",
       " 304,\n",
       " 312,\n",
       " 320,\n",
       " 328,\n",
       " 336,\n",
       " 344,\n",
       " 352,\n",
       " 360,\n",
       " 368,\n",
       " 376,\n",
       " 384,\n",
       " 392,\n",
       " 400,\n",
       " 408,\n",
       " 416,\n",
       " 424,\n",
       " 432,\n",
       " 440,\n",
       " 448,\n",
       " 456,\n",
       " 464,\n",
       " 472,\n",
       " 480,\n",
       " 488,\n",
       " 496,\n",
       " 504,\n",
       " 512,\n",
       " 520,\n",
       " 528,\n",
       " 536,\n",
       " 544,\n",
       " 552,\n",
       " 560,\n",
       " 568,\n",
       " 576,\n",
       " 584,\n",
       " 592,\n",
       " 600,\n",
       " 608,\n",
       " 616,\n",
       " 624,\n",
       " 632,\n",
       " 640,\n",
       " 648,\n",
       " 656,\n",
       " 664,\n",
       " 672,\n",
       " 680,\n",
       " 688,\n",
       " 696,\n",
       " 704,\n",
       " 712,\n",
       " 720,\n",
       " 728,\n",
       " 736,\n",
       " 744,\n",
       " 752,\n",
       " 760,\n",
       " 768,\n",
       " 776,\n",
       " 784,\n",
       " 792,\n",
       " 800,\n",
       " 808,\n",
       " 816,\n",
       " 824,\n",
       " 832,\n",
       " 840,\n",
       " 848,\n",
       " 856,\n",
       " 864,\n",
       " 872,\n",
       " 880,\n",
       " 888,\n",
       " 896,\n",
       " 904,\n",
       " 912,\n",
       " 920,\n",
       " 928,\n",
       " 936,\n",
       " 944,\n",
       " 952,\n",
       " 960,\n",
       " 968,\n",
       " 976,\n",
       " 984,\n",
       " 992,\n",
       " 1000,\n",
       " 1008,\n",
       " 1016,\n",
       " 1024,\n",
       " 1032,\n",
       " 1040,\n",
       " 1048,\n",
       " 1056,\n",
       " 1064,\n",
       " 1072,\n",
       " 1080,\n",
       " 1088,\n",
       " 1096,\n",
       " 1104,\n",
       " 1112,\n",
       " 1120,\n",
       " 1128,\n",
       " 1136,\n",
       " 1144,\n",
       " 1152,\n",
       " 1160,\n",
       " 1168,\n",
       " 1176,\n",
       " 1184,\n",
       " 1192,\n",
       " 1200,\n",
       " 1208,\n",
       " 1216,\n",
       " 1224,\n",
       " 1232,\n",
       " 1240,\n",
       " 1248,\n",
       " 1256,\n",
       " 1264,\n",
       " 1272,\n",
       " 1280,\n",
       " 1288,\n",
       " 1296,\n",
       " 1304,\n",
       " 1312,\n",
       " 1320,\n",
       " 1328,\n",
       " 1336,\n",
       " 1344,\n",
       " 1352,\n",
       " 1360,\n",
       " 1368,\n",
       " 1376,\n",
       " 1384,\n",
       " 1392,\n",
       " 1400,\n",
       " 1408,\n",
       " 1416,\n",
       " 1424,\n",
       " 1432,\n",
       " 1440,\n",
       " 1448,\n",
       " 1456,\n",
       " 1464,\n",
       " 1472,\n",
       " 1480,\n",
       " 1488,\n",
       " 1496,\n",
       " 1504,\n",
       " 1512,\n",
       " 1520,\n",
       " 1528,\n",
       " 1536,\n",
       " 1544,\n",
       " 1552,\n",
       " 1560,\n",
       " 1568,\n",
       " 1576,\n",
       " 1584,\n",
       " 1592,\n",
       " 1600,\n",
       " 1608,\n",
       " 1616,\n",
       " 1624,\n",
       " 1632,\n",
       " 1640,\n",
       " 1648,\n",
       " 1656,\n",
       " 1664,\n",
       " 1672,\n",
       " 1680,\n",
       " 1688,\n",
       " 1696,\n",
       " 1704,\n",
       " 1712,\n",
       " 1720,\n",
       " 1728,\n",
       " 1736,\n",
       " 1744,\n",
       " 1752,\n",
       " 1760,\n",
       " 1768,\n",
       " 1776,\n",
       " 1784,\n",
       " 1792,\n",
       " 1800,\n",
       " 1808,\n",
       " 1816,\n",
       " 1824,\n",
       " 1832,\n",
       " 1840,\n",
       " 1848,\n",
       " 1856,\n",
       " 1864,\n",
       " 1872,\n",
       " 1880,\n",
       " 1888,\n",
       " 1896,\n",
       " 1904,\n",
       " 1912,\n",
       " 1920,\n",
       " 1928,\n",
       " 1936,\n",
       " 1944,\n",
       " 1952,\n",
       " 1960,\n",
       " 1968,\n",
       " 1976,\n",
       " 1984,\n",
       " 1992,\n",
       " 2000,\n",
       " 2008,\n",
       " 2016,\n",
       " 2024,\n",
       " 2032,\n",
       " 2040,\n",
       " 2048,\n",
       " 2056,\n",
       " 2064,\n",
       " 2072,\n",
       " 2080,\n",
       " 2088,\n",
       " 2096,\n",
       " 2104,\n",
       " 2112,\n",
       " 2120,\n",
       " 2128,\n",
       " 2136,\n",
       " 2144,\n",
       " 2152,\n",
       " 2160,\n",
       " 2168,\n",
       " 2176,\n",
       " 2184,\n",
       " 2192,\n",
       " 2200,\n",
       " 2208,\n",
       " 2216,\n",
       " 2224,\n",
       " 2232,\n",
       " 2240,\n",
       " 2248,\n",
       " 2256,\n",
       " 2264,\n",
       " 2272,\n",
       " 2280,\n",
       " 2288,\n",
       " 2296,\n",
       " 2304,\n",
       " 2312,\n",
       " 2320,\n",
       " 2328,\n",
       " 2336,\n",
       " 2344,\n",
       " 2352,\n",
       " 2360,\n",
       " 2368,\n",
       " 2376,\n",
       " 2384,\n",
       " 2392,\n",
       " 2400,\n",
       " 2408,\n",
       " 2416,\n",
       " 2424,\n",
       " 2432,\n",
       " 2440,\n",
       " 2448,\n",
       " 2456,\n",
       " 2464,\n",
       " 2472,\n",
       " 2480,\n",
       " 2488,\n",
       " 2496,\n",
       " 2504,\n",
       " 2512,\n",
       " 2520,\n",
       " 2528,\n",
       " 2536,\n",
       " 2544,\n",
       " 2552,\n",
       " 2560,\n",
       " 2568,\n",
       " 2576,\n",
       " 2584,\n",
       " 2592,\n",
       " 2600,\n",
       " 2608,\n",
       " 2616,\n",
       " 2624,\n",
       " 2632,\n",
       " 2640,\n",
       " 2648,\n",
       " 2656,\n",
       " 2664,\n",
       " 2672,\n",
       " 2680,\n",
       " 2688,\n",
       " 2696,\n",
       " 2704,\n",
       " 2712,\n",
       " 2720,\n",
       " 2728,\n",
       " 2736,\n",
       " 2744,\n",
       " 2752,\n",
       " 2760,\n",
       " 2768,\n",
       " 2776,\n",
       " 2784,\n",
       " 2792,\n",
       " 2800,\n",
       " 2808,\n",
       " 2816,\n",
       " 2824,\n",
       " 2832,\n",
       " 2840,\n",
       " 2848,\n",
       " 2856,\n",
       " 2864,\n",
       " 2872,\n",
       " 2880,\n",
       " 2888,\n",
       " 2896,\n",
       " 2904,\n",
       " 2912,\n",
       " 2920,\n",
       " 2928,\n",
       " 2936,\n",
       " 2944,\n",
       " 2952,\n",
       " 2960,\n",
       " 2968,\n",
       " 2976,\n",
       " 2984,\n",
       " 2992,\n",
       " 3000,\n",
       " 3008,\n",
       " 3016,\n",
       " 3024,\n",
       " 3032,\n",
       " 3040,\n",
       " 3048,\n",
       " 3056,\n",
       " 3064,\n",
       " 3072,\n",
       " 3080,\n",
       " 3088,\n",
       " 3096,\n",
       " 3104,\n",
       " 3112,\n",
       " 3120,\n",
       " 3128,\n",
       " 3136,\n",
       " 3144,\n",
       " 3152,\n",
       " 3160,\n",
       " 3168,\n",
       " 3176,\n",
       " 3184,\n",
       " 3192,\n",
       " 3200,\n",
       " 3208,\n",
       " 3216,\n",
       " 3224,\n",
       " 3232,\n",
       " 3240,\n",
       " 3248,\n",
       " 3256,\n",
       " 3264,\n",
       " 3272,\n",
       " 3280,\n",
       " 3288,\n",
       " 3296,\n",
       " 3304,\n",
       " 3312,\n",
       " 3320,\n",
       " 3328,\n",
       " 3336,\n",
       " 3344,\n",
       " 3352,\n",
       " 3360,\n",
       " 3368,\n",
       " 3376,\n",
       " 3384,\n",
       " 3392,\n",
       " 3400,\n",
       " 3408,\n",
       " 3416,\n",
       " 3424,\n",
       " 3432,\n",
       " 3440,\n",
       " 3448,\n",
       " 3456,\n",
       " 3464,\n",
       " 3472,\n",
       " 3480,\n",
       " 3488,\n",
       " 3496,\n",
       " 3504,\n",
       " 3512,\n",
       " 3520,\n",
       " 3528,\n",
       " 3536,\n",
       " 3544,\n",
       " 3552,\n",
       " 3560,\n",
       " 3568,\n",
       " 3576,\n",
       " 3584,\n",
       " 3592,\n",
       " 3600,\n",
       " 3608,\n",
       " 3616,\n",
       " 3624,\n",
       " 3632,\n",
       " 3640,\n",
       " 3648,\n",
       " 3656,\n",
       " 3664,\n",
       " 3672,\n",
       " 3680,\n",
       " 3688,\n",
       " 3696,\n",
       " 3704,\n",
       " 3712,\n",
       " 3720,\n",
       " 3728,\n",
       " 3736,\n",
       " 3744,\n",
       " 3752,\n",
       " 3760,\n",
       " 3768,\n",
       " 3776,\n",
       " 3784,\n",
       " 3792,\n",
       " 3800,\n",
       " 3808,\n",
       " 3816,\n",
       " 3824,\n",
       " 3832,\n",
       " 3840,\n",
       " 3848,\n",
       " 3856,\n",
       " 3864,\n",
       " 3872,\n",
       " 3880,\n",
       " 3888,\n",
       " 3896,\n",
       " 3904,\n",
       " 3912,\n",
       " 3920,\n",
       " 3928,\n",
       " 3936,\n",
       " 3944,\n",
       " 3952,\n",
       " 3960,\n",
       " 3968,\n",
       " 3976,\n",
       " 3984,\n",
       " 3992]"
      ]
     },
     "execution_count": 167,
     "metadata": {},
     "output_type": "execute_result"
    }
   ],
   "source": [
    "even_list"
   ]
  },
  {
   "cell_type": "code",
   "execution_count": 168,
   "id": "f4f871a1",
   "metadata": {},
   "outputs": [],
   "source": [
    "super_list = [x * 4 for x in even_list if (x * 4 < 300)]"
   ]
  },
  {
   "cell_type": "code",
   "execution_count": 169,
   "id": "721caac2",
   "metadata": {},
   "outputs": [
    {
     "data": {
      "text/plain": [
       "[0, 32, 64, 96, 128, 160, 192, 224, 256, 288]"
      ]
     },
     "execution_count": 169,
     "metadata": {},
     "output_type": "execute_result"
    }
   ],
   "source": [
    "super_list"
   ]
  },
  {
   "cell_type": "markdown",
   "id": "75ef4c8b",
   "metadata": {},
   "source": [
    "### List Operations\n",
    "- `.append()`"
   ]
  },
  {
   "cell_type": "code",
   "execution_count": 171,
   "id": "8ebdba00",
   "metadata": {},
   "outputs": [],
   "source": [
    "# adds value to end of list\n",
    "super_list.append('Soda')"
   ]
  },
  {
   "cell_type": "code",
   "execution_count": 172,
   "id": "4552d14c",
   "metadata": {},
   "outputs": [
    {
     "data": {
      "text/plain": [
       "[0, 32, 64, 96, 128, 160, 192, 224, 256, 288, 'Soda']"
      ]
     },
     "execution_count": 172,
     "metadata": {},
     "output_type": "execute_result"
    }
   ],
   "source": [
    "super_list"
   ]
  },
  {
   "cell_type": "markdown",
   "id": "3919ede8",
   "metadata": {},
   "source": [
    "- `.pop()`"
   ]
  },
  {
   "cell_type": "code",
   "execution_count": 173,
   "id": "edf96260",
   "metadata": {},
   "outputs": [
    {
     "data": {
      "text/plain": [
       "'Soda'"
      ]
     },
     "execution_count": 173,
     "metadata": {},
     "output_type": "execute_result"
    }
   ],
   "source": [
    "# removes value from list\n",
    "# default is to remove value at end of list\n",
    "super_list.pop()"
   ]
  },
  {
   "cell_type": "code",
   "execution_count": 174,
   "id": "ea25750a",
   "metadata": {},
   "outputs": [
    {
     "data": {
      "text/plain": [
       "[0, 32, 64, 96, 128, 160, 192, 224, 256, 288]"
      ]
     },
     "execution_count": 174,
     "metadata": {},
     "output_type": "execute_result"
    }
   ],
   "source": [
    "super_list"
   ]
  },
  {
   "cell_type": "code",
   "execution_count": 175,
   "id": "e4786a54",
   "metadata": {},
   "outputs": [],
   "source": [
    "# can specify where to remove something with pop\n",
    "# must put value's index (begins at 0)\n",
    "num32 = super_list.pop(1)"
   ]
  },
  {
   "cell_type": "code",
   "execution_count": 176,
   "id": "443624a1",
   "metadata": {},
   "outputs": [
    {
     "data": {
      "text/plain": [
       "32"
      ]
     },
     "execution_count": 176,
     "metadata": {},
     "output_type": "execute_result"
    }
   ],
   "source": [
    "num32"
   ]
  },
  {
   "cell_type": "code",
   "execution_count": 177,
   "id": "e2398a24",
   "metadata": {},
   "outputs": [
    {
     "data": {
      "text/plain": [
       "[0, 64, 96, 128, 160, 192, 224, 256, 288]"
      ]
     },
     "execution_count": 177,
     "metadata": {},
     "output_type": "execute_result"
    }
   ],
   "source": [
    "# 32 is removed\n",
    "# index values are updated (64 is now index position 1)\n",
    "super_list"
   ]
  },
  {
   "cell_type": "markdown",
   "id": "4b7764fe",
   "metadata": {},
   "source": [
    "- `len()`"
   ]
  },
  {
   "cell_type": "code",
   "execution_count": 178,
   "id": "5e43e811",
   "metadata": {},
   "outputs": [
    {
     "data": {
      "text/plain": [
       "9"
      ]
     },
     "execution_count": 178,
     "metadata": {},
     "output_type": "execute_result"
    }
   ],
   "source": [
    "# gives length of list\n",
    "len(super_list)"
   ]
  },
  {
   "cell_type": "code",
   "execution_count": 179,
   "id": "499edd76",
   "metadata": {},
   "outputs": [
    {
     "data": {
      "text/plain": [
       "160"
      ]
     },
     "execution_count": 179,
     "metadata": {},
     "output_type": "execute_result"
    }
   ],
   "source": [
    "super_list[4]"
   ]
  },
  {
   "cell_type": "code",
   "execution_count": 180,
   "id": "7a23b58d",
   "metadata": {},
   "outputs": [
    {
     "data": {
      "text/plain": [
       "192"
      ]
     },
     "execution_count": 180,
     "metadata": {},
     "output_type": "execute_result"
    }
   ],
   "source": [
    "# when going backwards, end of list begins at index position -1\n",
    "super_list[-4]"
   ]
  },
  {
   "cell_type": "code",
   "execution_count": 181,
   "id": "7dc5a70d",
   "metadata": {},
   "outputs": [
    {
     "data": {
      "text/plain": [
       "[64, 96, 128]"
      ]
     },
     "execution_count": 181,
     "metadata": {},
     "output_type": "execute_result"
    }
   ],
   "source": [
    "# is exclusive of end number\n",
    "# shows values at index positions 1, 2, and 3:\n",
    "super_list[1:4]"
   ]
  },
  {
   "cell_type": "code",
   "execution_count": 182,
   "id": "1e9885cf",
   "metadata": {},
   "outputs": [
    {
     "data": {
      "text/plain": [
       "[64, 96, 128, 160, 192, 224, 256]"
      ]
     },
     "execution_count": 182,
     "metadata": {},
     "output_type": "execute_result"
    }
   ],
   "source": [
    "# shows all values except first and last\n",
    "super_list[1:-1]"
   ]
  },
  {
   "cell_type": "code",
   "execution_count": 183,
   "id": "5f709b95",
   "metadata": {},
   "outputs": [
    {
     "data": {
      "text/plain": [
       "[0, 64]"
      ]
     },
     "execution_count": 183,
     "metadata": {},
     "output_type": "execute_result"
    }
   ],
   "source": [
    "# shows values from beginning (index position 0) to index position 1\n",
    "super_list[:2]"
   ]
  },
  {
   "cell_type": "code",
   "execution_count": 184,
   "id": "496c0f25",
   "metadata": {},
   "outputs": [
    {
     "data": {
      "text/plain": [
       "[256, 288]"
      ]
     },
     "execution_count": 184,
     "metadata": {},
     "output_type": "execute_result"
    }
   ],
   "source": [
    "# shows values from second to last onward\n",
    "super_list[-2:]"
   ]
  },
  {
   "cell_type": "code",
   "execution_count": 185,
   "id": "30d503cf",
   "metadata": {},
   "outputs": [
    {
     "data": {
      "text/plain": [
       "[0, 64, 256, 288]"
      ]
     },
     "execution_count": 185,
     "metadata": {},
     "output_type": "execute_result"
    }
   ],
   "source": [
    "# can concatenate using '+'\n",
    "super_list[:2] + super_list[-2:]"
   ]
  },
  {
   "cell_type": "markdown",
   "id": "956d8dea",
   "metadata": {},
   "source": [
    "### Converting to a list"
   ]
  },
  {
   "cell_type": "code",
   "execution_count": 186,
   "id": "18935f13",
   "metadata": {},
   "outputs": [
    {
     "data": {
      "text/plain": [
       "range(0, 10)"
      ]
     },
     "execution_count": 186,
     "metadata": {},
     "output_type": "execute_result"
    }
   ],
   "source": [
    "range(10)"
   ]
  },
  {
   "cell_type": "code",
   "execution_count": 187,
   "id": "4476f895",
   "metadata": {},
   "outputs": [
    {
     "data": {
      "text/plain": [
       "[0, 1, 2, 3, 4, 5, 6, 7, 8, 9]"
      ]
     },
     "execution_count": 187,
     "metadata": {},
     "output_type": "execute_result"
    }
   ],
   "source": [
    "list(range(10))"
   ]
  },
  {
   "cell_type": "code",
   "execution_count": 188,
   "id": "9c279c56",
   "metadata": {},
   "outputs": [
    {
     "data": {
      "text/plain": [
       "['s', 't', 'r', 'i', 'n', 'g']"
      ]
     },
     "execution_count": 188,
     "metadata": {},
     "output_type": "execute_result"
    }
   ],
   "source": [
    "list('string')"
   ]
  },
  {
   "cell_type": "code",
   "execution_count": 189,
   "id": "184cbfe5",
   "metadata": {},
   "outputs": [
    {
     "data": {
      "text/plain": [
       "<map at 0x7f8b4133ee80>"
      ]
     },
     "execution_count": 189,
     "metadata": {},
     "output_type": "execute_result"
    }
   ],
   "source": [
    "map(str,[1,2,3])"
   ]
  },
  {
   "cell_type": "code",
   "execution_count": 190,
   "id": "4cb995c1",
   "metadata": {},
   "outputs": [
    {
     "data": {
      "text/plain": [
       "['1', '2', '3']"
      ]
     },
     "execution_count": 190,
     "metadata": {},
     "output_type": "execute_result"
    }
   ],
   "source": [
    "list(map(str,[1,2,3]))"
   ]
  },
  {
   "cell_type": "markdown",
   "id": "67157b30",
   "metadata": {},
   "source": [
    "## Tuples\n",
    "- Immutable\n",
    "- Length is fixed: cannot `.append()` or `.pop()`"
   ]
  },
  {
   "cell_type": "code",
   "execution_count": 192,
   "id": "213c375f",
   "metadata": {},
   "outputs": [],
   "source": [
    "super_tuple = (1, 2, 'three', [4, 5, None])"
   ]
  },
  {
   "cell_type": "code",
   "execution_count": 193,
   "id": "e5da680c",
   "metadata": {},
   "outputs": [
    {
     "data": {
      "text/plain": [
       "[1, 2, 'three', [4, 5, None]]"
      ]
     },
     "execution_count": 193,
     "metadata": {},
     "output_type": "execute_result"
    }
   ],
   "source": [
    "# must change tuple to a list and then back to make changes\n",
    "# cannot make changes directly to tuple\n",
    "list(super_tuple)"
   ]
  },
  {
   "cell_type": "markdown",
   "id": "3317d9cc",
   "metadata": {},
   "source": [
    "## Dictionaries\n",
    "- Way to group values together\n",
    "- keys (labels) are paired with values (contents) (key-value pairs)"
   ]
  },
  {
   "cell_type": "code",
   "execution_count": 196,
   "id": "175186c7",
   "metadata": {},
   "outputs": [],
   "source": [
    "my_first_dictionary = {'name': 'Soph', 'favorite_color': 'blue'}"
   ]
  },
  {
   "cell_type": "code",
   "execution_count": 197,
   "id": "82ef1d84",
   "metadata": {},
   "outputs": [
    {
     "data": {
      "text/plain": [
       "{'name': 'Soph', 'favorite_color': 'blue'}"
      ]
     },
     "execution_count": 197,
     "metadata": {},
     "output_type": "execute_result"
    }
   ],
   "source": [
    "my_first_dictionary"
   ]
  },
  {
   "cell_type": "code",
   "execution_count": 204,
   "id": "9b426ea9",
   "metadata": {},
   "outputs": [],
   "source": [
    "# can also create dictionary like so:\n",
    "my_second_dictionary = dict(name='Soph', favorite_colors=('blue', 'yellow', 'purple'))"
   ]
  },
  {
   "cell_type": "code",
   "execution_count": 199,
   "id": "e657c506",
   "metadata": {},
   "outputs": [
    {
     "data": {
      "text/plain": [
       "{'name': 'Soph', 'favorite_color': 'blue'}"
      ]
     },
     "execution_count": 199,
     "metadata": {},
     "output_type": "execute_result"
    }
   ],
   "source": [
    "# can have lists as a value in a dictionary\n",
    "my_second_dictionary"
   ]
  },
  {
   "cell_type": "code",
   "execution_count": 200,
   "id": "7faa5007",
   "metadata": {},
   "outputs": [
    {
     "data": {
      "text/plain": [
       "'Soph'"
      ]
     },
     "execution_count": 200,
     "metadata": {},
     "output_type": "execute_result"
    }
   ],
   "source": [
    "# use key instead of index position to get value of key\n",
    "my_first_dictionary['name']"
   ]
  },
  {
   "cell_type": "code",
   "execution_count": 202,
   "id": "6b08c895",
   "metadata": {},
   "outputs": [
    {
     "data": {
      "text/plain": [
       "'blue'"
      ]
     },
     "execution_count": 202,
     "metadata": {},
     "output_type": "execute_result"
    }
   ],
   "source": [
    "my_first_dictionary['favorite_color']"
   ]
  },
  {
   "cell_type": "code",
   "execution_count": 205,
   "id": "a3a038d1",
   "metadata": {},
   "outputs": [
    {
     "data": {
      "text/plain": [
       "'Soph'"
      ]
     },
     "execution_count": 205,
     "metadata": {},
     "output_type": "execute_result"
    }
   ],
   "source": [
    "my_second_dictionary['name']"
   ]
  },
  {
   "cell_type": "code",
   "execution_count": 207,
   "id": "4816ca1c",
   "metadata": {},
   "outputs": [
    {
     "data": {
      "text/plain": [
       "('blue', 'yellow', 'purple')"
      ]
     },
     "execution_count": 207,
     "metadata": {},
     "output_type": "execute_result"
    }
   ],
   "source": [
    "my_second_dictionary['favorite_colors']"
   ]
  },
  {
   "cell_type": "code",
   "execution_count": 208,
   "id": "b286793f",
   "metadata": {},
   "outputs": [],
   "source": [
    "# can also have dictionaries as values in a dictionary\n",
    "my_third_dictionary = {\n",
    "                       'name': 'Soph',\n",
    "                       'favorite_colors': ['blue', 'yellow', 'purple'],\n",
    "                       'pets': {'fish': 'MrDerp', \n",
    "                                'cat': ['Beeba', 'Floofers'],\n",
    "                                'dog': 3\n",
    "                               }\n",
    "                      }"
   ]
  },
  {
   "cell_type": "code",
   "execution_count": 209,
   "id": "dab5271c",
   "metadata": {},
   "outputs": [
    {
     "data": {
      "text/plain": [
       "{'fish': 'MrDerp', 'cat': ['Beeba', 'Floofers'], 'dog': 3}"
      ]
     },
     "execution_count": 209,
     "metadata": {},
     "output_type": "execute_result"
    }
   ],
   "source": [
    "my_third_dictionary['pets']"
   ]
  },
  {
   "cell_type": "code",
   "execution_count": 210,
   "id": "522a663d",
   "metadata": {},
   "outputs": [
    {
     "data": {
      "text/plain": [
       "['Beeba', 'Floofers']"
      ]
     },
     "execution_count": 210,
     "metadata": {},
     "output_type": "execute_result"
    }
   ],
   "source": [
    "# can get to nested dictionaries like so:\n",
    "my_third_dictionary['pets']['cat']"
   ]
  },
  {
   "cell_type": "code",
   "execution_count": 211,
   "id": "ca76dcd7",
   "metadata": {},
   "outputs": [],
   "source": [
    "# but better to simplify by using variables:\n",
    "pets_sub_dictionary = my_third_dictionary['pets']"
   ]
  },
  {
   "cell_type": "code",
   "execution_count": 212,
   "id": "87d80f9d",
   "metadata": {},
   "outputs": [
    {
     "data": {
      "text/plain": [
       "['Beeba', 'Floofers']"
      ]
     },
     "execution_count": 212,
     "metadata": {},
     "output_type": "execute_result"
    }
   ],
   "source": [
    "pets_sub_dictionary['cat']"
   ]
  },
  {
   "cell_type": "code",
   "execution_count": 213,
   "id": "70772b0a",
   "metadata": {},
   "outputs": [],
   "source": [
    "list_of_cats = pets_sub_dictionary['cat']"
   ]
  },
  {
   "cell_type": "code",
   "execution_count": 214,
   "id": "85e962eb",
   "metadata": {},
   "outputs": [
    {
     "data": {
      "text/plain": [
       "'Floofers'"
      ]
     },
     "execution_count": 214,
     "metadata": {},
     "output_type": "execute_result"
    }
   ],
   "source": [
    "list_of_cats[1]"
   ]
  },
  {
   "cell_type": "code",
   "execution_count": 215,
   "id": "9825e50b",
   "metadata": {},
   "outputs": [
    {
     "data": {
      "text/plain": [
       "'Floofers'"
      ]
     },
     "execution_count": 215,
     "metadata": {},
     "output_type": "execute_result"
    }
   ],
   "source": [
    "# non-simplified version, but gives same output as above\n",
    "my_third_dictionary['pets']['cat'][1]"
   ]
  },
  {
   "cell_type": "code",
   "execution_count": 217,
   "id": "8940545b",
   "metadata": {},
   "outputs": [
    {
     "data": {
      "text/plain": [
       "dict_keys(['name', 'favorite_colors', 'pets'])"
      ]
     },
     "execution_count": 217,
     "metadata": {},
     "output_type": "execute_result"
    }
   ],
   "source": [
    "# to view dictionary keys:\n",
    "my_third_dictionary.keys()"
   ]
  },
  {
   "cell_type": "code",
   "execution_count": 218,
   "id": "f83da09c",
   "metadata": {},
   "outputs": [
    {
     "data": {
      "text/plain": [
       "dict_values(['Soph', ['blue', 'yellow', 'purple'], {'fish': 'MrDerp', 'cat': ['Beeba', 'Floofers'], 'dog': 3}])"
      ]
     },
     "execution_count": 218,
     "metadata": {},
     "output_type": "execute_result"
    }
   ],
   "source": [
    "# to view dictionary values\n",
    "my_third_dictionary.values()"
   ]
  },
  {
   "cell_type": "code",
   "execution_count": 219,
   "id": "e7ec08f8",
   "metadata": {},
   "outputs": [],
   "source": [
    "# to update a value in a dictionary\n",
    "my_third_dictionary['favorite_colors'] = 'red'"
   ]
  },
  {
   "cell_type": "code",
   "execution_count": 220,
   "id": "a9cc13db",
   "metadata": {},
   "outputs": [
    {
     "data": {
      "text/plain": [
       "{'name': 'Soph',\n",
       " 'favorite_colors': 'red',\n",
       " 'pets': {'fish': 'MrDerp', 'cat': ['Beeba', 'Floofers'], 'dog': 3}}"
      ]
     },
     "execution_count": 220,
     "metadata": {},
     "output_type": "execute_result"
    }
   ],
   "source": [
    "my_third_dictionary"
   ]
  },
  {
   "cell_type": "code",
   "execution_count": 226,
   "id": "dea9b2da",
   "metadata": {},
   "outputs": [],
   "source": [
    "# to append to a list within a dictionary:\n",
    "# value must be a list for .append() to work\n",
    "my_third_dictionary['favorite_colors'] = ['red']"
   ]
  },
  {
   "cell_type": "code",
   "execution_count": 222,
   "id": "ee57adbe",
   "metadata": {},
   "outputs": [
    {
     "data": {
      "text/plain": [
       "{'name': 'Soph',\n",
       " 'favorite_colors': ['red'],\n",
       " 'pets': {'fish': 'MrDerp', 'cat': ['Beeba', 'Floofers'], 'dog': 3}}"
      ]
     },
     "execution_count": 222,
     "metadata": {},
     "output_type": "execute_result"
    }
   ],
   "source": [
    "my_third_dictionary"
   ]
  },
  {
   "cell_type": "code",
   "execution_count": 228,
   "id": "720cc74f",
   "metadata": {},
   "outputs": [
    {
     "data": {
      "text/plain": [
       "3"
      ]
     },
     "execution_count": 228,
     "metadata": {},
     "output_type": "execute_result"
    }
   ],
   "source": [
    "# len(dictionary) only shows number of keys\n",
    "len(my_third_dictionary)"
   ]
  },
  {
   "cell_type": "code",
   "execution_count": null,
   "id": "714dab2a",
   "metadata": {},
   "outputs": [],
   "source": []
  }
 ],
 "metadata": {
  "kernelspec": {
   "display_name": "Python 3",
   "language": "python",
   "name": "python3"
  },
  "language_info": {
   "codemirror_mode": {
    "name": "ipython",
    "version": 3
   },
   "file_extension": ".py",
   "mimetype": "text/x-python",
   "name": "python",
   "nbconvert_exporter": "python",
   "pygments_lexer": "ipython3",
   "version": "3.8.8"
  }
 },
 "nbformat": 4,
 "nbformat_minor": 5
}

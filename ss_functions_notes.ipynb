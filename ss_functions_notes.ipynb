{
 "cells": [
  {
   "cell_type": "markdown",
   "id": "74fcf59a",
   "metadata": {},
   "source": [
    "# Functions"
   ]
  },
  {
   "cell_type": "code",
   "execution_count": 1,
   "id": "f13d5f11",
   "metadata": {},
   "outputs": [
    {
     "data": {
      "text/plain": [
       "5"
      ]
     },
     "execution_count": 1,
     "metadata": {},
     "output_type": "execute_result"
    }
   ],
   "source": [
    "x = 5\n",
    "x"
   ]
  },
  {
   "cell_type": "code",
   "execution_count": 2,
   "id": "25a5d85f",
   "metadata": {},
   "outputs": [],
   "source": [
    "def add_one(x):\n",
    "    result = x + 1\n",
    "    return result"
   ]
  },
  {
   "cell_type": "code",
   "execution_count": 3,
   "id": "bb1c1e9a",
   "metadata": {},
   "outputs": [
    {
     "data": {
      "text/plain": [
       "11"
      ]
     },
     "execution_count": 3,
     "metadata": {},
     "output_type": "execute_result"
    }
   ],
   "source": [
    "add_one(10)"
   ]
  },
  {
   "cell_type": "code",
   "execution_count": 4,
   "id": "e388584d",
   "metadata": {},
   "outputs": [
    {
     "data": {
      "text/plain": [
       "5"
      ]
     },
     "execution_count": 4,
     "metadata": {},
     "output_type": "execute_result"
    }
   ],
   "source": [
    "x"
   ]
  },
  {
   "cell_type": "code",
   "execution_count": 5,
   "id": "c6ee54ab",
   "metadata": {},
   "outputs": [
    {
     "ename": "NameError",
     "evalue": "name 'result' is not defined",
     "output_type": "error",
     "traceback": [
      "\u001b[0;31m---------------------------------------------------------------------------\u001b[0m",
      "\u001b[0;31mNameError\u001b[0m                                 Traceback (most recent call last)",
      "\u001b[0;32m<ipython-input-5-0ac921c19f1a>\u001b[0m in \u001b[0;36m<module>\u001b[0;34m\u001b[0m\n\u001b[0;32m----> 1\u001b[0;31m \u001b[0mresult\u001b[0m\u001b[0;34m\u001b[0m\u001b[0;34m\u001b[0m\u001b[0m\n\u001b[0m",
      "\u001b[0;31mNameError\u001b[0m: name 'result' is not defined"
     ]
    }
   ],
   "source": [
    "#can't talk to result variable\n",
    "result"
   ]
  },
  {
   "cell_type": "markdown",
   "id": "6698d535",
   "metadata": {},
   "source": [
    "## Variable Scope"
   ]
  },
  {
   "cell_type": "code",
   "execution_count": 6,
   "id": "eb947a2a",
   "metadata": {},
   "outputs": [],
   "source": [
    "# innards of function can see whats outside but whats outside cannot see in"
   ]
  },
  {
   "cell_type": "code",
   "execution_count": 16,
   "id": "758b6096",
   "metadata": {},
   "outputs": [],
   "source": [
    "# function that operates on a global variable\n",
    "x = 5\n",
    "\n",
    "def global_increment():\n",
    "    global x\n",
    "    x = x + 1\n",
    "    print(x)"
   ]
  },
  {
   "cell_type": "code",
   "execution_count": 17,
   "id": "ad796fa7",
   "metadata": {},
   "outputs": [
    {
     "name": "stdout",
     "output_type": "stream",
     "text": [
      "6\n"
     ]
    }
   ],
   "source": [
    "global_increment()"
   ]
  },
  {
   "cell_type": "code",
   "execution_count": 18,
   "id": "19294a4a",
   "metadata": {},
   "outputs": [
    {
     "name": "stdout",
     "output_type": "stream",
     "text": [
      "7\n"
     ]
    }
   ],
   "source": [
    "global_increment()"
   ]
  },
  {
   "cell_type": "code",
   "execution_count": 19,
   "id": "dfb36ad7",
   "metadata": {},
   "outputs": [
    {
     "name": "stdout",
     "output_type": "stream",
     "text": [
      "8\n"
     ]
    }
   ],
   "source": [
    "global_increment()"
   ]
  },
  {
   "cell_type": "markdown",
   "id": "8641facd",
   "metadata": {},
   "source": [
    "## why to use return"
   ]
  },
  {
   "cell_type": "code",
   "execution_count": 20,
   "id": "cb9512c1",
   "metadata": {},
   "outputs": [],
   "source": [
    "def increment(x):\n",
    "    result = x + 1\n",
    "    print(result)"
   ]
  },
  {
   "cell_type": "code",
   "execution_count": 21,
   "id": "65a714e7",
   "metadata": {},
   "outputs": [
    {
     "name": "stdout",
     "output_type": "stream",
     "text": [
      "12\n"
     ]
    }
   ],
   "source": [
    "increment(11)"
   ]
  },
  {
   "cell_type": "code",
   "execution_count": 22,
   "id": "e1d845ed",
   "metadata": {},
   "outputs": [
    {
     "name": "stdout",
     "output_type": "stream",
     "text": [
      "12\n"
     ]
    }
   ],
   "source": [
    "result = increment(11)"
   ]
  },
  {
   "cell_type": "code",
   "execution_count": 23,
   "id": "d8c5798c",
   "metadata": {},
   "outputs": [],
   "source": [
    "result"
   ]
  },
  {
   "cell_type": "code",
   "execution_count": 24,
   "id": "dcb73501",
   "metadata": {},
   "outputs": [
    {
     "data": {
      "text/plain": [
       "NoneType"
      ]
     },
     "execution_count": 24,
     "metadata": {},
     "output_type": "execute_result"
    }
   ],
   "source": [
    "type(result)"
   ]
  },
  {
   "cell_type": "code",
   "execution_count": 25,
   "id": "d493b07a",
   "metadata": {},
   "outputs": [
    {
     "name": "stdout",
     "output_type": "stream",
     "text": [
      "2\n"
     ]
    },
    {
     "ename": "TypeError",
     "evalue": "unsupported operand type(s) for +: 'NoneType' and 'int'",
     "output_type": "error",
     "traceback": [
      "\u001b[0;31m---------------------------------------------------------------------------\u001b[0m",
      "\u001b[0;31mTypeError\u001b[0m                                 Traceback (most recent call last)",
      "\u001b[0;32m<ipython-input-25-6b6673d04003>\u001b[0m in \u001b[0;36m<module>\u001b[0;34m\u001b[0m\n\u001b[0;32m----> 1\u001b[0;31m \u001b[0mincrement\u001b[0m\u001b[0;34m(\u001b[0m\u001b[0mincrement\u001b[0m\u001b[0;34m(\u001b[0m\u001b[0;36m1\u001b[0m\u001b[0;34m)\u001b[0m\u001b[0;34m)\u001b[0m\u001b[0;34m\u001b[0m\u001b[0;34m\u001b[0m\u001b[0m\n\u001b[0m",
      "\u001b[0;32m<ipython-input-20-83d1cadb635e>\u001b[0m in \u001b[0;36mincrement\u001b[0;34m(x)\u001b[0m\n\u001b[1;32m      1\u001b[0m \u001b[0;32mdef\u001b[0m \u001b[0mincrement\u001b[0m\u001b[0;34m(\u001b[0m\u001b[0mx\u001b[0m\u001b[0;34m)\u001b[0m\u001b[0;34m:\u001b[0m\u001b[0;34m\u001b[0m\u001b[0;34m\u001b[0m\u001b[0m\n\u001b[0;32m----> 2\u001b[0;31m     \u001b[0mresult\u001b[0m \u001b[0;34m=\u001b[0m \u001b[0mx\u001b[0m \u001b[0;34m+\u001b[0m \u001b[0;36m1\u001b[0m\u001b[0;34m\u001b[0m\u001b[0;34m\u001b[0m\u001b[0m\n\u001b[0m\u001b[1;32m      3\u001b[0m     \u001b[0mprint\u001b[0m\u001b[0;34m(\u001b[0m\u001b[0mresult\u001b[0m\u001b[0;34m)\u001b[0m\u001b[0;34m\u001b[0m\u001b[0;34m\u001b[0m\u001b[0m\n",
      "\u001b[0;31mTypeError\u001b[0m: unsupported operand type(s) for +: 'NoneType' and 'int'"
     ]
    }
   ],
   "source": [
    "increment(increment(1))\n",
    "# internal function returns 2 and becomes NoneType, outer function cannot use NoneType\n",
    "# using `return` instead of `print()` fixes this by exiting the function"
   ]
  },
  {
   "cell_type": "markdown",
   "id": "6f8ab72b",
   "metadata": {},
   "source": [
    "## global variable w/o global keyword\n",
    "- may have a variable outside of function you want your function to see"
   ]
  },
  {
   "cell_type": "code",
   "execution_count": 27,
   "id": "c99830a3",
   "metadata": {},
   "outputs": [],
   "source": [
    "my_name = 'soph'\n",
    "\n",
    "def print_name():\n",
    "    print(f'My name is {my_name}')\n",
    "# not changing variable my_name"
   ]
  },
  {
   "cell_type": "code",
   "execution_count": 28,
   "id": "c9553e29",
   "metadata": {},
   "outputs": [
    {
     "name": "stdout",
     "output_type": "stream",
     "text": [
      "My name is soph\n"
     ]
    }
   ],
   "source": [
    "print_name()"
   ]
  },
  {
   "cell_type": "markdown",
   "id": "00dad76f",
   "metadata": {},
   "source": [
    "## Multiple Arguments"
   ]
  },
  {
   "cell_type": "code",
   "execution_count": 30,
   "id": "e53607eb",
   "metadata": {},
   "outputs": [
    {
     "data": {
      "text/plain": [
       "5"
      ]
     },
     "execution_count": 30,
     "metadata": {},
     "output_type": "execute_result"
    }
   ],
   "source": [
    "def add(x,y):\n",
    "    '''adds x and y together'''\n",
    "    return x + y\n",
    "\n",
    "add(2, 3)"
   ]
  },
  {
   "cell_type": "markdown",
   "id": "fd3ae534",
   "metadata": {},
   "source": [
    "## Default Arguments and Keyword Arguments"
   ]
  },
  {
   "cell_type": "code",
   "execution_count": 31,
   "id": "068c775d",
   "metadata": {},
   "outputs": [],
   "source": [
    "def greet(salutation='Hello', recipient='World'):\n",
    "    return f'{salutation}, {recipient}!'\n",
    "# 'Hello' and 'World' are set as defaults"
   ]
  },
  {
   "cell_type": "code",
   "execution_count": 32,
   "id": "ef64fcc1",
   "metadata": {},
   "outputs": [
    {
     "data": {
      "text/plain": [
       "'Hello, World!'"
      ]
     },
     "execution_count": 32,
     "metadata": {},
     "output_type": "execute_result"
    }
   ],
   "source": [
    "greet()"
   ]
  },
  {
   "cell_type": "code",
   "execution_count": 33,
   "id": "43561351",
   "metadata": {},
   "outputs": [
    {
     "data": {
      "text/plain": [
       "'Howdy, World!'"
      ]
     },
     "execution_count": 33,
     "metadata": {},
     "output_type": "execute_result"
    }
   ],
   "source": [
    "greet(salutation= 'Howdy')"
   ]
  },
  {
   "cell_type": "code",
   "execution_count": 34,
   "id": "9b7444c3",
   "metadata": {},
   "outputs": [
    {
     "data": {
      "text/plain": [
       "'Hello, Everybody!'"
      ]
     },
     "execution_count": 34,
     "metadata": {},
     "output_type": "execute_result"
    }
   ],
   "source": [
    "greet(recipient='Everybody')"
   ]
  },
  {
   "cell_type": "code",
   "execution_count": 35,
   "id": "6a474de8",
   "metadata": {},
   "outputs": [
    {
     "data": {
      "text/plain": [
       "'Yo, Peeps!'"
      ]
     },
     "execution_count": 35,
     "metadata": {},
     "output_type": "execute_result"
    }
   ],
   "source": [
    "greet(salutation='Yo', recipient='Peeps')"
   ]
  },
  {
   "cell_type": "code",
   "execution_count": 36,
   "id": "e7f02f03",
   "metadata": {},
   "outputs": [
    {
     "data": {
      "text/plain": [
       "'Yo, Peeps!'"
      ]
     },
     "execution_count": 36,
     "metadata": {},
     "output_type": "execute_result"
    }
   ],
   "source": [
    "greet('Yo', 'Peeps')"
   ]
  },
  {
   "cell_type": "code",
   "execution_count": 37,
   "id": "49f388f9",
   "metadata": {},
   "outputs": [
    {
     "data": {
      "text/plain": [
       "'Yo, Peeps!'"
      ]
     },
     "execution_count": 37,
     "metadata": {},
     "output_type": "execute_result"
    }
   ],
   "source": [
    "greet(recipient='Peeps', salutation='Yo')"
   ]
  },
  {
   "cell_type": "markdown",
   "id": "62124cdd",
   "metadata": {},
   "source": [
    "## Lambdas\n",
    "- a lambda is an anonymous function (has no name)\n",
    "- super popular in math\n",
    "- helpful if you don't need to reuse a function/have it named\n",
    "- lambdas are just functions\n",
    "- lambdas in Python are the function body itself\n",
    "- lambdas in Python are only one liners\n",
    "- return is automatic/implicit\n",
    "- not for complex actions that require multiple lines of code"
   ]
  },
  {
   "cell_type": "code",
   "execution_count": 38,
   "id": "d069d524",
   "metadata": {},
   "outputs": [],
   "source": [
    "add_two = lambda x: x + 2"
   ]
  },
  {
   "cell_type": "code",
   "execution_count": 39,
   "id": "d45bdc22",
   "metadata": {},
   "outputs": [
    {
     "data": {
      "text/plain": [
       "5"
      ]
     },
     "execution_count": 39,
     "metadata": {},
     "output_type": "execute_result"
    }
   ],
   "source": [
    "add_two(3)"
   ]
  },
  {
   "cell_type": "markdown",
   "id": "4c0954f5",
   "metadata": {},
   "source": [
    "### where lambdas are actually useful (besides for alternate syntax):"
   ]
  },
  {
   "cell_type": "code",
   "execution_count": 41,
   "id": "e9a6b2ca",
   "metadata": {},
   "outputs": [],
   "source": [
    "boats = [\n",
    "    {\n",
    "        'type': 'tugboat',\n",
    "        'price': 100_000\n",
    "    },\n",
    "    {\n",
    "        'type': 'dreadnaught',\n",
    "        'price': 500_000\n",
    "    },\n",
    "    {\n",
    "        'type': 'origami paper boat',\n",
    "        'price': 0.005\n",
    "    }\n",
    "]"
   ]
  },
  {
   "cell_type": "code",
   "execution_count": 42,
   "id": "113979e2",
   "metadata": {},
   "outputs": [
    {
     "data": {
      "text/plain": [
       "[{'type': 'tugboat', 'price': 100000},\n",
       " {'type': 'dreadnaught', 'price': 500000},\n",
       " {'type': 'origami paper boat', 'price': 0.005}]"
      ]
     },
     "execution_count": 42,
     "metadata": {},
     "output_type": "execute_result"
    }
   ],
   "source": [
    "boats"
   ]
  },
  {
   "cell_type": "code",
   "execution_count": 44,
   "id": "80663edb",
   "metadata": {},
   "outputs": [
    {
     "ename": "TypeError",
     "evalue": "'<' not supported between instances of 'dict' and 'dict'",
     "output_type": "error",
     "traceback": [
      "\u001b[0;31m---------------------------------------------------------------------------\u001b[0m",
      "\u001b[0;31mTypeError\u001b[0m                                 Traceback (most recent call last)",
      "\u001b[0;32m<ipython-input-44-6b051a2b52d3>\u001b[0m in \u001b[0;36m<module>\u001b[0;34m\u001b[0m\n\u001b[1;32m      1\u001b[0m \u001b[0;31m# can't use default sort function bc it uses >/< operators\u001b[0m\u001b[0;34m\u001b[0m\u001b[0;34m\u001b[0m\u001b[0;34m\u001b[0m\u001b[0m\n\u001b[0;32m----> 2\u001b[0;31m \u001b[0msorted\u001b[0m\u001b[0;34m(\u001b[0m\u001b[0mboats\u001b[0m\u001b[0;34m)\u001b[0m\u001b[0;34m\u001b[0m\u001b[0;34m\u001b[0m\u001b[0m\n\u001b[0m",
      "\u001b[0;31mTypeError\u001b[0m: '<' not supported between instances of 'dict' and 'dict'"
     ]
    }
   ],
   "source": [
    "# can't use default sort function bc it uses >/< operators\n",
    "sorted(boats)"
   ]
  },
  {
   "cell_type": "code",
   "execution_count": 45,
   "id": "87b620f5",
   "metadata": {},
   "outputs": [
    {
     "data": {
      "text/plain": [
       "[{'type': 'origami paper boat', 'price': 0.005},\n",
       " {'type': 'tugboat', 'price': 100000},\n",
       " {'type': 'dreadnaught', 'price': 500000}]"
      ]
     },
     "execution_count": 45,
     "metadata": {},
     "output_type": "execute_result"
    }
   ],
   "source": [
    "# second argument is optional\n",
    "# this works with min and max\n",
    "# key = lambda object['key']\n",
    "sorted(boats, key = lambda x: x['price'])"
   ]
  },
  {
   "cell_type": "code",
   "execution_count": 47,
   "id": "08dbfa00",
   "metadata": {},
   "outputs": [
    {
     "data": {
      "text/plain": [
       "{'type': 'dreadnaught', 'price': 500000}"
      ]
     },
     "execution_count": 47,
     "metadata": {},
     "output_type": "execute_result"
    }
   ],
   "source": [
    "min(boats, key = lambda x: x['type'])"
   ]
  },
  {
   "cell_type": "code",
   "execution_count": 48,
   "id": "d5731f71",
   "metadata": {},
   "outputs": [],
   "source": [
    "def sort_by_price(x):\n",
    "    return x['price']"
   ]
  },
  {
   "cell_type": "code",
   "execution_count": 49,
   "id": "0a72ef8f",
   "metadata": {},
   "outputs": [
    {
     "data": {
      "text/plain": [
       "{'type': 'dreadnaught', 'price': 500000}"
      ]
     },
     "execution_count": 49,
     "metadata": {},
     "output_type": "execute_result"
    }
   ],
   "source": [
    "max(boats, key = sort_by_price)"
   ]
  },
  {
   "cell_type": "code",
   "execution_count": 50,
   "id": "065501a3",
   "metadata": {},
   "outputs": [
    {
     "data": {
      "text/plain": [
       "{'type': 'origami paper boat', 'price': 0.005}"
      ]
     },
     "execution_count": 50,
     "metadata": {},
     "output_type": "execute_result"
    }
   ],
   "source": [
    "min(boats, key = sort_by_price)"
   ]
  },
  {
   "cell_type": "code",
   "execution_count": null,
   "id": "93f74243",
   "metadata": {},
   "outputs": [],
   "source": []
  }
 ],
 "metadata": {
  "kernelspec": {
   "display_name": "Python 3",
   "language": "python",
   "name": "python3"
  },
  "language_info": {
   "codemirror_mode": {
    "name": "ipython",
    "version": 3
   },
   "file_extension": ".py",
   "mimetype": "text/x-python",
   "name": "python",
   "nbconvert_exporter": "python",
   "pygments_lexer": "ipython3",
   "version": "3.8.8"
  }
 },
 "nbformat": 4,
 "nbformat_minor": 5
}
